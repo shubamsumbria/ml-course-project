{
 "cells": [
  {
   "cell_type": "markdown",
   "metadata": {
    "id": "ZyLrZie9ERK7"
   },
   "source": [
    "# **Machine Learning with Python: Zero to GBMs Course Project**"
   ]
  },
  {
   "cell_type": "markdown",
   "metadata": {
    "id": "Kvt6xzTj0871"
   },
   "source": [
    "# **Home Credit Default Risk** `[Kaggle Competition]`"
   ]
  },
  {
   "cell_type": "markdown",
   "metadata": {
    "id": "6dhWi2F5gFrU"
   },
   "source": [
    "## Installing Required Packages"
   ]
  },
  {
   "cell_type": "code",
   "execution_count": null,
   "metadata": {
    "id": "7fzZK_d2gE3r"
   },
   "outputs": [],
   "source": [
    "!pip install numpy pandas matplotlib seaborn kaggle scikit-learn imblearn lightgbm xgboost -q"
   ]
  },
  {
   "cell_type": "markdown",
   "metadata": {
    "id": "UXU0_Xx31Mv2"
   },
   "source": [
    "## Importing Required Libraries"
   ]
  },
  {
   "cell_type": "code",
   "execution_count": null,
   "metadata": {
    "id": "txmm3A0L1L3o"
   },
   "outputs": [],
   "source": [
    "import os\n",
    "import warnings\n",
    "warnings.filterwarnings('ignore')\n",
    "from google.colab import files\n",
    "import pandas as pd\n",
    "import numpy as np\n",
    "import matplotlib.pyplot as plt\n",
    "%matplotlib inline\n",
    "import seaborn as sns\n",
    "from sklearn.impute import SimpleImputer\n",
    "from sklearn.preprocessing import StandardScaler, OneHotEncoder\n",
    "from imblearn.over_sampling import RandomOverSampler\n",
    "from collections import Counter\n",
    "from sklearn.metrics import confusion_matrix, plot_confusion_matrix, roc_auc_score, roc_curve, log_loss, mean_absolute_error, mean_squared_error\n",
    "from sklearn.model_selection import train_test_split, cross_val_score, GridSearchCV, RandomizedSearchCV\n",
    "import lightgbm as lgb\n",
    "from xgboost import XGBClassifier\n",
    "from sklearn.ensemble import RandomForestClassifier"
   ]
  },
  {
   "cell_type": "markdown",
   "metadata": {
    "id": "p0kn8PQnhAIx"
   },
   "source": [
    "## Kaggle Setup"
   ]
  },
  {
   "cell_type": "markdown",
   "metadata": {
    "id": "dvsZ8XpzCSA4"
   },
   "source": [
    "**Upload Kaggle Credential File (kaggle.json)**"
   ]
  },
  {
   "cell_type": "code",
   "execution_count": null,
   "metadata": {
    "colab": {
     "base_uri": "https://localhost:8080/",
     "height": 90,
     "resources": {
      "http://localhost:8080/nbextensions/google.colab/files.js": {
       "data": "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",
       "headers": [
        [
         "content-type",
         "application/javascript"
        ]
       ],
       "ok": true,
       "status": 200,
       "status_text": ""
      }
     }
    },
    "id": "Uv9Pv6yk80IG",
    "outputId": "076d8492-071a-4c48-843d-7b57872b3ded"
   },
   "outputs": [
    {
     "data": {
      "text/html": [
       "\n",
       "     <input type=\"file\" id=\"files-3768b15d-f78a-4053-b044-f54c59f62ca7\" name=\"files[]\" multiple disabled\n",
       "        style=\"border:none\" />\n",
       "     <output id=\"result-3768b15d-f78a-4053-b044-f54c59f62ca7\">\n",
       "      Upload widget is only available when the cell has been executed in the\n",
       "      current browser session. Please rerun this cell to enable.\n",
       "      </output>\n",
       "      <script src=\"/nbextensions/google.colab/files.js\"></script> "
      ],
      "text/plain": [
       "<IPython.core.display.HTML object>"
      ]
     },
     "metadata": {
      "tags": []
     },
     "output_type": "display_data"
    },
    {
     "name": "stdout",
     "output_type": "stream",
     "text": [
      "Saving kaggle.json to kaggle.json\n"
     ]
    },
    {
     "data": {
      "text/plain": [
       "{'kaggle.json': b'{\"username\":\"shubamsumbria\",\"key\":\"88eaf012a58d710e4ec37da303a73945\"}'}"
      ]
     },
     "execution_count": 8,
     "metadata": {
      "tags": []
     },
     "output_type": "execute_result"
    }
   ],
   "source": [
    "files.upload()"
   ]
  },
  {
   "cell_type": "code",
   "execution_count": null,
   "metadata": {
    "id": "ldrVd7OB85iA"
   },
   "outputs": [],
   "source": [
    "!rm -r ~/.kaggle\n",
    "!mkdir ~/.kaggle\n",
    "!mv ./kaggle.json ~/.kaggle/\n",
    "!chmod 600 ~/.kaggle/kaggle.json"
   ]
  },
  {
   "cell_type": "markdown",
   "metadata": {
    "id": "cUSnfPp_1VVd"
   },
   "source": [
    "## Data Loading\n",
    "\n",
    "\n",
    "\n",
    "\n",
    "\n"
   ]
  },
  {
   "cell_type": "markdown",
   "metadata": {
    "id": "KNvqVdGqBg88"
   },
   "source": [
    "**Downloading Data**"
   ]
  },
  {
   "cell_type": "code",
   "execution_count": null,
   "metadata": {
    "colab": {
     "base_uri": "https://localhost:8080/"
    },
    "id": "YZbcu4H71ieq",
    "outputId": "fb51a34e-6af7-46e2-dc4c-5668db9ab7da"
   },
   "outputs": [
    {
     "name": "stdout",
     "output_type": "stream",
     "text": [
      "Warning: Looks like you're using an outdated API Version, please consider updating (server 1.5.12 / client 1.5.4)\n"
     ]
    }
   ],
   "source": [
    "!kaggle competitions download home-credit-default-risk -q"
   ]
  },
  {
   "cell_type": "markdown",
   "metadata": {
    "id": "3HWc9aDoAeIm"
   },
   "source": [
    "**Unzipping All Files**"
   ]
  },
  {
   "cell_type": "code",
   "execution_count": null,
   "metadata": {
    "colab": {
     "base_uri": "https://localhost:8080/"
    },
    "id": "-ZMZXEnL93VN",
    "outputId": "3f6fee22-6ff6-4aaa-a6f1-c1c78b4c3610"
   },
   "outputs": [
    {
     "name": "stdout",
     "output_type": "stream",
     "text": [
      "Archive:  /content/application_train.csv.zip\n",
      "  inflating: /content/hcdr-data/application_train.csv  \n",
      "Archive:  /content/application_test.csv.zip\n",
      "  inflating: /content/hcdr-data/application_test.csv  \n",
      "Archive:  /content/bureau.csv.zip\n",
      "  inflating: /content/hcdr-data/bureau.csv  \n",
      "Archive:  /content/bureau_balance.csv.zip\n",
      "  inflating: /content/hcdr-data/bureau_balance.csv  \n",
      "Archive:  /content/credit_card_balance.csv.zip\n",
      "  inflating: /content/hcdr-data/credit_card_balance.csv  \n",
      "Archive:  /content/installments_payments.csv.zip\n",
      "  inflating: /content/hcdr-data/installments_payments.csv  \n",
      "Archive:  /content/previous_application.csv.zip\n",
      "  inflating: /content/hcdr-data/previous_application.csv  \n",
      "Archive:  /content/POS_CASH_balance.csv.zip\n",
      "  inflating: /content/hcdr-data/POS_CASH_balance.csv  \n"
     ]
    }
   ],
   "source": [
    "!rm -r /content/hcdr-data\n",
    "!mkdir /content/hcdr-data\n",
    "!unzip \"/content/application_train.csv.zip\" -d \"/content/hcdr-data\"\n",
    "!unzip \"/content/application_test.csv.zip\" -d \"/content/hcdr-data\"\n",
    "!unzip \"/content/bureau.csv.zip\" -d \"/content/hcdr-data\"\n",
    "!unzip \"/content/bureau_balance.csv.zip\" -d \"/content/hcdr-data\"\n",
    "!unzip \"/content/credit_card_balance.csv.zip\" -d \"/content/hcdr-data\"\n",
    "!unzip \"/content/installments_payments.csv.zip\" -d \"/content/hcdr-data\"\n",
    "!unzip \"/content/previous_application.csv.zip\" -d \"/content/hcdr-data\"\n",
    "!unzip \"/content/POS_CASH_balance.csv.zip\" -d \"/content/hcdr-data\""
   ]
  },
  {
   "cell_type": "markdown",
   "metadata": {
    "id": "kQId23L6AWni"
   },
   "source": [
    "**Loading Data from Given CSV files to Pandas Dataframe**\n",
    "\n"
   ]
  },
  {
   "cell_type": "code",
   "execution_count": null,
   "metadata": {
    "id": "PBgRE7IxAH5A"
   },
   "outputs": [],
   "source": [
    "application_train = pd.read_csv(\"/content/hcdr-data/application_train.csv\")\n",
    "application_test = pd.read_csv(\"/content/hcdr-data/application_test.csv\")\n",
    "bureau = pd.read_csv(\"/content/hcdr-data/bureau.csv\")\n",
    "bureau_balance = pd.read_csv(\"/content/hcdr-data/bureau_balance.csv\")\n",
    "credit_card_balance = pd.read_csv(\"/content/hcdr-data/credit_card_balance.csv\")\n",
    "installments_payments = pd.read_csv(\"/content/hcdr-data/installments_payments.csv\")\n",
    "previous_application = pd.read_csv(\"/content/hcdr-data/previous_application.csv\")\n",
    "pos_cash_balance = pd.read_csv(\"/content/hcdr-data/POS_CASH_balance.csv\")"
   ]
  },
  {
   "cell_type": "markdown",
   "metadata": {
    "id": "UE7tSQ2B1YaL"
   },
   "source": [
    "## Data Exploration `Getting Insights from Appliccation Datset`"
   ]
  },
  {
   "cell_type": "code",
   "execution_count": null,
   "metadata": {
    "colab": {
     "base_uri": "https://localhost:8080/"
    },
    "id": "Be0DJrFO1hwa",
    "outputId": "d1e16933-5d7c-4c32-d97d-4e87d1656d66"
   },
   "outputs": [
    {
     "data": {
      "text/html": [
       "<div>\n",
       "<style scoped>\n",
       "    .dataframe tbody tr th:only-of-type {\n",
       "        vertical-align: middle;\n",
       "    }\n",
       "\n",
       "    .dataframe tbody tr th {\n",
       "        vertical-align: top;\n",
       "    }\n",
       "\n",
       "    .dataframe thead th {\n",
       "        text-align: right;\n",
       "    }\n",
       "</style>\n",
       "<table border=\"1\" class=\"dataframe\">\n",
       "  <thead>\n",
       "    <tr style=\"text-align: right;\">\n",
       "      <th></th>\n",
       "      <th>SK_ID_CURR</th>\n",
       "      <th>TARGET</th>\n",
       "      <th>NAME_CONTRACT_TYPE</th>\n",
       "      <th>CODE_GENDER</th>\n",
       "      <th>FLAG_OWN_CAR</th>\n",
       "      <th>FLAG_OWN_REALTY</th>\n",
       "      <th>CNT_CHILDREN</th>\n",
       "      <th>AMT_INCOME_TOTAL</th>\n",
       "      <th>AMT_CREDIT</th>\n",
       "      <th>AMT_ANNUITY</th>\n",
       "      <th>AMT_GOODS_PRICE</th>\n",
       "      <th>NAME_TYPE_SUITE</th>\n",
       "      <th>NAME_INCOME_TYPE</th>\n",
       "      <th>NAME_EDUCATION_TYPE</th>\n",
       "      <th>NAME_FAMILY_STATUS</th>\n",
       "      <th>NAME_HOUSING_TYPE</th>\n",
       "      <th>REGION_POPULATION_RELATIVE</th>\n",
       "      <th>DAYS_BIRTH</th>\n",
       "      <th>DAYS_EMPLOYED</th>\n",
       "      <th>DAYS_REGISTRATION</th>\n",
       "      <th>DAYS_ID_PUBLISH</th>\n",
       "      <th>OWN_CAR_AGE</th>\n",
       "      <th>FLAG_MOBIL</th>\n",
       "      <th>FLAG_EMP_PHONE</th>\n",
       "      <th>FLAG_WORK_PHONE</th>\n",
       "      <th>FLAG_CONT_MOBILE</th>\n",
       "      <th>FLAG_PHONE</th>\n",
       "      <th>FLAG_EMAIL</th>\n",
       "      <th>OCCUPATION_TYPE</th>\n",
       "      <th>CNT_FAM_MEMBERS</th>\n",
       "      <th>REGION_RATING_CLIENT</th>\n",
       "      <th>REGION_RATING_CLIENT_W_CITY</th>\n",
       "      <th>WEEKDAY_APPR_PROCESS_START</th>\n",
       "      <th>HOUR_APPR_PROCESS_START</th>\n",
       "      <th>REG_REGION_NOT_LIVE_REGION</th>\n",
       "      <th>REG_REGION_NOT_WORK_REGION</th>\n",
       "      <th>LIVE_REGION_NOT_WORK_REGION</th>\n",
       "      <th>REG_CITY_NOT_LIVE_CITY</th>\n",
       "      <th>REG_CITY_NOT_WORK_CITY</th>\n",
       "      <th>LIVE_CITY_NOT_WORK_CITY</th>\n",
       "      <th>...</th>\n",
       "      <th>LIVINGAPARTMENTS_MEDI</th>\n",
       "      <th>LIVINGAREA_MEDI</th>\n",
       "      <th>NONLIVINGAPARTMENTS_MEDI</th>\n",
       "      <th>NONLIVINGAREA_MEDI</th>\n",
       "      <th>FONDKAPREMONT_MODE</th>\n",
       "      <th>HOUSETYPE_MODE</th>\n",
       "      <th>TOTALAREA_MODE</th>\n",
       "      <th>WALLSMATERIAL_MODE</th>\n",
       "      <th>EMERGENCYSTATE_MODE</th>\n",
       "      <th>OBS_30_CNT_SOCIAL_CIRCLE</th>\n",
       "      <th>DEF_30_CNT_SOCIAL_CIRCLE</th>\n",
       "      <th>OBS_60_CNT_SOCIAL_CIRCLE</th>\n",
       "      <th>DEF_60_CNT_SOCIAL_CIRCLE</th>\n",
       "      <th>DAYS_LAST_PHONE_CHANGE</th>\n",
       "      <th>FLAG_DOCUMENT_2</th>\n",
       "      <th>FLAG_DOCUMENT_3</th>\n",
       "      <th>FLAG_DOCUMENT_4</th>\n",
       "      <th>FLAG_DOCUMENT_5</th>\n",
       "      <th>FLAG_DOCUMENT_6</th>\n",
       "      <th>FLAG_DOCUMENT_7</th>\n",
       "      <th>FLAG_DOCUMENT_8</th>\n",
       "      <th>FLAG_DOCUMENT_9</th>\n",
       "      <th>FLAG_DOCUMENT_10</th>\n",
       "      <th>FLAG_DOCUMENT_11</th>\n",
       "      <th>FLAG_DOCUMENT_12</th>\n",
       "      <th>FLAG_DOCUMENT_13</th>\n",
       "      <th>FLAG_DOCUMENT_14</th>\n",
       "      <th>FLAG_DOCUMENT_15</th>\n",
       "      <th>FLAG_DOCUMENT_16</th>\n",
       "      <th>FLAG_DOCUMENT_17</th>\n",
       "      <th>FLAG_DOCUMENT_18</th>\n",
       "      <th>FLAG_DOCUMENT_19</th>\n",
       "      <th>FLAG_DOCUMENT_20</th>\n",
       "      <th>FLAG_DOCUMENT_21</th>\n",
       "      <th>AMT_REQ_CREDIT_BUREAU_HOUR</th>\n",
       "      <th>AMT_REQ_CREDIT_BUREAU_DAY</th>\n",
       "      <th>AMT_REQ_CREDIT_BUREAU_WEEK</th>\n",
       "      <th>AMT_REQ_CREDIT_BUREAU_MON</th>\n",
       "      <th>AMT_REQ_CREDIT_BUREAU_QRT</th>\n",
       "      <th>AMT_REQ_CREDIT_BUREAU_YEAR</th>\n",
       "    </tr>\n",
       "  </thead>\n",
       "  <tbody>\n",
       "    <tr>\n",
       "      <th>0</th>\n",
       "      <td>100002</td>\n",
       "      <td>1</td>\n",
       "      <td>Cash loans</td>\n",
       "      <td>M</td>\n",
       "      <td>N</td>\n",
       "      <td>Y</td>\n",
       "      <td>0</td>\n",
       "      <td>202500.0</td>\n",
       "      <td>406597.5</td>\n",
       "      <td>24700.5</td>\n",
       "      <td>351000.0</td>\n",
       "      <td>Unaccompanied</td>\n",
       "      <td>Working</td>\n",
       "      <td>Secondary / secondary special</td>\n",
       "      <td>Single / not married</td>\n",
       "      <td>House / apartment</td>\n",
       "      <td>0.018801</td>\n",
       "      <td>-9461</td>\n",
       "      <td>-637</td>\n",
       "      <td>-3648.0</td>\n",
       "      <td>-2120</td>\n",
       "      <td>NaN</td>\n",
       "      <td>1</td>\n",
       "      <td>1</td>\n",
       "      <td>0</td>\n",
       "      <td>1</td>\n",
       "      <td>1</td>\n",
       "      <td>0</td>\n",
       "      <td>Laborers</td>\n",
       "      <td>1.0</td>\n",
       "      <td>2</td>\n",
       "      <td>2</td>\n",
       "      <td>WEDNESDAY</td>\n",
       "      <td>10</td>\n",
       "      <td>0</td>\n",
       "      <td>0</td>\n",
       "      <td>0</td>\n",
       "      <td>0</td>\n",
       "      <td>0</td>\n",
       "      <td>0</td>\n",
       "      <td>...</td>\n",
       "      <td>0.0205</td>\n",
       "      <td>0.0193</td>\n",
       "      <td>0.0000</td>\n",
       "      <td>0.00</td>\n",
       "      <td>reg oper account</td>\n",
       "      <td>block of flats</td>\n",
       "      <td>0.0149</td>\n",
       "      <td>Stone, brick</td>\n",
       "      <td>No</td>\n",
       "      <td>2.0</td>\n",
       "      <td>2.0</td>\n",
       "      <td>2.0</td>\n",
       "      <td>2.0</td>\n",
       "      <td>-1134.0</td>\n",
       "      <td>0</td>\n",
       "      <td>1</td>\n",
       "      <td>0</td>\n",
       "      <td>0</td>\n",
       "      <td>0</td>\n",
       "      <td>0</td>\n",
       "      <td>0</td>\n",
       "      <td>0</td>\n",
       "      <td>0</td>\n",
       "      <td>0</td>\n",
       "      <td>0</td>\n",
       "      <td>0</td>\n",
       "      <td>0</td>\n",
       "      <td>0</td>\n",
       "      <td>0</td>\n",
       "      <td>0</td>\n",
       "      <td>0</td>\n",
       "      <td>0</td>\n",
       "      <td>0</td>\n",
       "      <td>0</td>\n",
       "      <td>0.0</td>\n",
       "      <td>0.0</td>\n",
       "      <td>0.0</td>\n",
       "      <td>0.0</td>\n",
       "      <td>0.0</td>\n",
       "      <td>1.0</td>\n",
       "    </tr>\n",
       "    <tr>\n",
       "      <th>1</th>\n",
       "      <td>100003</td>\n",
       "      <td>0</td>\n",
       "      <td>Cash loans</td>\n",
       "      <td>F</td>\n",
       "      <td>N</td>\n",
       "      <td>N</td>\n",
       "      <td>0</td>\n",
       "      <td>270000.0</td>\n",
       "      <td>1293502.5</td>\n",
       "      <td>35698.5</td>\n",
       "      <td>1129500.0</td>\n",
       "      <td>Family</td>\n",
       "      <td>State servant</td>\n",
       "      <td>Higher education</td>\n",
       "      <td>Married</td>\n",
       "      <td>House / apartment</td>\n",
       "      <td>0.003541</td>\n",
       "      <td>-16765</td>\n",
       "      <td>-1188</td>\n",
       "      <td>-1186.0</td>\n",
       "      <td>-291</td>\n",
       "      <td>NaN</td>\n",
       "      <td>1</td>\n",
       "      <td>1</td>\n",
       "      <td>0</td>\n",
       "      <td>1</td>\n",
       "      <td>1</td>\n",
       "      <td>0</td>\n",
       "      <td>Core staff</td>\n",
       "      <td>2.0</td>\n",
       "      <td>1</td>\n",
       "      <td>1</td>\n",
       "      <td>MONDAY</td>\n",
       "      <td>11</td>\n",
       "      <td>0</td>\n",
       "      <td>0</td>\n",
       "      <td>0</td>\n",
       "      <td>0</td>\n",
       "      <td>0</td>\n",
       "      <td>0</td>\n",
       "      <td>...</td>\n",
       "      <td>0.0787</td>\n",
       "      <td>0.0558</td>\n",
       "      <td>0.0039</td>\n",
       "      <td>0.01</td>\n",
       "      <td>reg oper account</td>\n",
       "      <td>block of flats</td>\n",
       "      <td>0.0714</td>\n",
       "      <td>Block</td>\n",
       "      <td>No</td>\n",
       "      <td>1.0</td>\n",
       "      <td>0.0</td>\n",
       "      <td>1.0</td>\n",
       "      <td>0.0</td>\n",
       "      <td>-828.0</td>\n",
       "      <td>0</td>\n",
       "      <td>1</td>\n",
       "      <td>0</td>\n",
       "      <td>0</td>\n",
       "      <td>0</td>\n",
       "      <td>0</td>\n",
       "      <td>0</td>\n",
       "      <td>0</td>\n",
       "      <td>0</td>\n",
       "      <td>0</td>\n",
       "      <td>0</td>\n",
       "      <td>0</td>\n",
       "      <td>0</td>\n",
       "      <td>0</td>\n",
       "      <td>0</td>\n",
       "      <td>0</td>\n",
       "      <td>0</td>\n",
       "      <td>0</td>\n",
       "      <td>0</td>\n",
       "      <td>0</td>\n",
       "      <td>0.0</td>\n",
       "      <td>0.0</td>\n",
       "      <td>0.0</td>\n",
       "      <td>0.0</td>\n",
       "      <td>0.0</td>\n",
       "      <td>0.0</td>\n",
       "    </tr>\n",
       "    <tr>\n",
       "      <th>2</th>\n",
       "      <td>100004</td>\n",
       "      <td>0</td>\n",
       "      <td>Revolving loans</td>\n",
       "      <td>M</td>\n",
       "      <td>Y</td>\n",
       "      <td>Y</td>\n",
       "      <td>0</td>\n",
       "      <td>67500.0</td>\n",
       "      <td>135000.0</td>\n",
       "      <td>6750.0</td>\n",
       "      <td>135000.0</td>\n",
       "      <td>Unaccompanied</td>\n",
       "      <td>Working</td>\n",
       "      <td>Secondary / secondary special</td>\n",
       "      <td>Single / not married</td>\n",
       "      <td>House / apartment</td>\n",
       "      <td>0.010032</td>\n",
       "      <td>-19046</td>\n",
       "      <td>-225</td>\n",
       "      <td>-4260.0</td>\n",
       "      <td>-2531</td>\n",
       "      <td>26.0</td>\n",
       "      <td>1</td>\n",
       "      <td>1</td>\n",
       "      <td>1</td>\n",
       "      <td>1</td>\n",
       "      <td>1</td>\n",
       "      <td>0</td>\n",
       "      <td>Laborers</td>\n",
       "      <td>1.0</td>\n",
       "      <td>2</td>\n",
       "      <td>2</td>\n",
       "      <td>MONDAY</td>\n",
       "      <td>9</td>\n",
       "      <td>0</td>\n",
       "      <td>0</td>\n",
       "      <td>0</td>\n",
       "      <td>0</td>\n",
       "      <td>0</td>\n",
       "      <td>0</td>\n",
       "      <td>...</td>\n",
       "      <td>NaN</td>\n",
       "      <td>NaN</td>\n",
       "      <td>NaN</td>\n",
       "      <td>NaN</td>\n",
       "      <td>NaN</td>\n",
       "      <td>NaN</td>\n",
       "      <td>NaN</td>\n",
       "      <td>NaN</td>\n",
       "      <td>NaN</td>\n",
       "      <td>0.0</td>\n",
       "      <td>0.0</td>\n",
       "      <td>0.0</td>\n",
       "      <td>0.0</td>\n",
       "      <td>-815.0</td>\n",
       "      <td>0</td>\n",
       "      <td>0</td>\n",
       "      <td>0</td>\n",
       "      <td>0</td>\n",
       "      <td>0</td>\n",
       "      <td>0</td>\n",
       "      <td>0</td>\n",
       "      <td>0</td>\n",
       "      <td>0</td>\n",
       "      <td>0</td>\n",
       "      <td>0</td>\n",
       "      <td>0</td>\n",
       "      <td>0</td>\n",
       "      <td>0</td>\n",
       "      <td>0</td>\n",
       "      <td>0</td>\n",
       "      <td>0</td>\n",
       "      <td>0</td>\n",
       "      <td>0</td>\n",
       "      <td>0</td>\n",
       "      <td>0.0</td>\n",
       "      <td>0.0</td>\n",
       "      <td>0.0</td>\n",
       "      <td>0.0</td>\n",
       "      <td>0.0</td>\n",
       "      <td>0.0</td>\n",
       "    </tr>\n",
       "    <tr>\n",
       "      <th>3</th>\n",
       "      <td>100006</td>\n",
       "      <td>0</td>\n",
       "      <td>Cash loans</td>\n",
       "      <td>F</td>\n",
       "      <td>N</td>\n",
       "      <td>Y</td>\n",
       "      <td>0</td>\n",
       "      <td>135000.0</td>\n",
       "      <td>312682.5</td>\n",
       "      <td>29686.5</td>\n",
       "      <td>297000.0</td>\n",
       "      <td>Unaccompanied</td>\n",
       "      <td>Working</td>\n",
       "      <td>Secondary / secondary special</td>\n",
       "      <td>Civil marriage</td>\n",
       "      <td>House / apartment</td>\n",
       "      <td>0.008019</td>\n",
       "      <td>-19005</td>\n",
       "      <td>-3039</td>\n",
       "      <td>-9833.0</td>\n",
       "      <td>-2437</td>\n",
       "      <td>NaN</td>\n",
       "      <td>1</td>\n",
       "      <td>1</td>\n",
       "      <td>0</td>\n",
       "      <td>1</td>\n",
       "      <td>0</td>\n",
       "      <td>0</td>\n",
       "      <td>Laborers</td>\n",
       "      <td>2.0</td>\n",
       "      <td>2</td>\n",
       "      <td>2</td>\n",
       "      <td>WEDNESDAY</td>\n",
       "      <td>17</td>\n",
       "      <td>0</td>\n",
       "      <td>0</td>\n",
       "      <td>0</td>\n",
       "      <td>0</td>\n",
       "      <td>0</td>\n",
       "      <td>0</td>\n",
       "      <td>...</td>\n",
       "      <td>NaN</td>\n",
       "      <td>NaN</td>\n",
       "      <td>NaN</td>\n",
       "      <td>NaN</td>\n",
       "      <td>NaN</td>\n",
       "      <td>NaN</td>\n",
       "      <td>NaN</td>\n",
       "      <td>NaN</td>\n",
       "      <td>NaN</td>\n",
       "      <td>2.0</td>\n",
       "      <td>0.0</td>\n",
       "      <td>2.0</td>\n",
       "      <td>0.0</td>\n",
       "      <td>-617.0</td>\n",
       "      <td>0</td>\n",
       "      <td>1</td>\n",
       "      <td>0</td>\n",
       "      <td>0</td>\n",
       "      <td>0</td>\n",
       "      <td>0</td>\n",
       "      <td>0</td>\n",
       "      <td>0</td>\n",
       "      <td>0</td>\n",
       "      <td>0</td>\n",
       "      <td>0</td>\n",
       "      <td>0</td>\n",
       "      <td>0</td>\n",
       "      <td>0</td>\n",
       "      <td>0</td>\n",
       "      <td>0</td>\n",
       "      <td>0</td>\n",
       "      <td>0</td>\n",
       "      <td>0</td>\n",
       "      <td>0</td>\n",
       "      <td>NaN</td>\n",
       "      <td>NaN</td>\n",
       "      <td>NaN</td>\n",
       "      <td>NaN</td>\n",
       "      <td>NaN</td>\n",
       "      <td>NaN</td>\n",
       "    </tr>\n",
       "    <tr>\n",
       "      <th>4</th>\n",
       "      <td>100007</td>\n",
       "      <td>0</td>\n",
       "      <td>Cash loans</td>\n",
       "      <td>M</td>\n",
       "      <td>N</td>\n",
       "      <td>Y</td>\n",
       "      <td>0</td>\n",
       "      <td>121500.0</td>\n",
       "      <td>513000.0</td>\n",
       "      <td>21865.5</td>\n",
       "      <td>513000.0</td>\n",
       "      <td>Unaccompanied</td>\n",
       "      <td>Working</td>\n",
       "      <td>Secondary / secondary special</td>\n",
       "      <td>Single / not married</td>\n",
       "      <td>House / apartment</td>\n",
       "      <td>0.028663</td>\n",
       "      <td>-19932</td>\n",
       "      <td>-3038</td>\n",
       "      <td>-4311.0</td>\n",
       "      <td>-3458</td>\n",
       "      <td>NaN</td>\n",
       "      <td>1</td>\n",
       "      <td>1</td>\n",
       "      <td>0</td>\n",
       "      <td>1</td>\n",
       "      <td>0</td>\n",
       "      <td>0</td>\n",
       "      <td>Core staff</td>\n",
       "      <td>1.0</td>\n",
       "      <td>2</td>\n",
       "      <td>2</td>\n",
       "      <td>THURSDAY</td>\n",
       "      <td>11</td>\n",
       "      <td>0</td>\n",
       "      <td>0</td>\n",
       "      <td>0</td>\n",
       "      <td>0</td>\n",
       "      <td>1</td>\n",
       "      <td>1</td>\n",
       "      <td>...</td>\n",
       "      <td>NaN</td>\n",
       "      <td>NaN</td>\n",
       "      <td>NaN</td>\n",
       "      <td>NaN</td>\n",
       "      <td>NaN</td>\n",
       "      <td>NaN</td>\n",
       "      <td>NaN</td>\n",
       "      <td>NaN</td>\n",
       "      <td>NaN</td>\n",
       "      <td>0.0</td>\n",
       "      <td>0.0</td>\n",
       "      <td>0.0</td>\n",
       "      <td>0.0</td>\n",
       "      <td>-1106.0</td>\n",
       "      <td>0</td>\n",
       "      <td>0</td>\n",
       "      <td>0</td>\n",
       "      <td>0</td>\n",
       "      <td>0</td>\n",
       "      <td>0</td>\n",
       "      <td>1</td>\n",
       "      <td>0</td>\n",
       "      <td>0</td>\n",
       "      <td>0</td>\n",
       "      <td>0</td>\n",
       "      <td>0</td>\n",
       "      <td>0</td>\n",
       "      <td>0</td>\n",
       "      <td>0</td>\n",
       "      <td>0</td>\n",
       "      <td>0</td>\n",
       "      <td>0</td>\n",
       "      <td>0</td>\n",
       "      <td>0</td>\n",
       "      <td>0.0</td>\n",
       "      <td>0.0</td>\n",
       "      <td>0.0</td>\n",
       "      <td>0.0</td>\n",
       "      <td>0.0</td>\n",
       "      <td>0.0</td>\n",
       "    </tr>\n",
       "  </tbody>\n",
       "</table>\n",
       "<p>5 rows × 122 columns</p>\n",
       "</div>"
      ],
      "text/plain": [
       "   SK_ID_CURR  TARGET  ... AMT_REQ_CREDIT_BUREAU_QRT AMT_REQ_CREDIT_BUREAU_YEAR\n",
       "0      100002       1  ...                       0.0                        1.0\n",
       "1      100003       0  ...                       0.0                        0.0\n",
       "2      100004       0  ...                       0.0                        0.0\n",
       "3      100006       0  ...                       NaN                        NaN\n",
       "4      100007       0  ...                       0.0                        0.0\n",
       "\n",
       "[5 rows x 122 columns]"
      ]
     },
     "execution_count": 13,
     "metadata": {
      "tags": []
     },
     "output_type": "execute_result"
    }
   ],
   "source": [
    "application_train.head()"
   ]
  },
  {
   "cell_type": "code",
   "execution_count": null,
   "metadata": {
    "colab": {
     "base_uri": "https://localhost:8080/"
    },
    "id": "bEKUJBO_F-On",
    "outputId": "8b46a262-ecd8-49ce-b395-41f3c1821211"
   },
   "outputs": [
    {
     "data": {
      "text/html": [
       "<div>\n",
       "<style scoped>\n",
       "    .dataframe tbody tr th:only-of-type {\n",
       "        vertical-align: middle;\n",
       "    }\n",
       "\n",
       "    .dataframe tbody tr th {\n",
       "        vertical-align: top;\n",
       "    }\n",
       "\n",
       "    .dataframe thead th {\n",
       "        text-align: right;\n",
       "    }\n",
       "</style>\n",
       "<table border=\"1\" class=\"dataframe\">\n",
       "  <thead>\n",
       "    <tr style=\"text-align: right;\">\n",
       "      <th></th>\n",
       "      <th>SK_ID_CURR</th>\n",
       "      <th>TARGET</th>\n",
       "      <th>CNT_CHILDREN</th>\n",
       "      <th>AMT_INCOME_TOTAL</th>\n",
       "      <th>AMT_CREDIT</th>\n",
       "      <th>AMT_ANNUITY</th>\n",
       "      <th>AMT_GOODS_PRICE</th>\n",
       "      <th>REGION_POPULATION_RELATIVE</th>\n",
       "      <th>DAYS_BIRTH</th>\n",
       "      <th>DAYS_EMPLOYED</th>\n",
       "      <th>DAYS_REGISTRATION</th>\n",
       "      <th>DAYS_ID_PUBLISH</th>\n",
       "      <th>OWN_CAR_AGE</th>\n",
       "      <th>FLAG_MOBIL</th>\n",
       "      <th>FLAG_EMP_PHONE</th>\n",
       "      <th>FLAG_WORK_PHONE</th>\n",
       "      <th>FLAG_CONT_MOBILE</th>\n",
       "      <th>FLAG_PHONE</th>\n",
       "      <th>FLAG_EMAIL</th>\n",
       "      <th>CNT_FAM_MEMBERS</th>\n",
       "      <th>REGION_RATING_CLIENT</th>\n",
       "      <th>REGION_RATING_CLIENT_W_CITY</th>\n",
       "      <th>HOUR_APPR_PROCESS_START</th>\n",
       "      <th>REG_REGION_NOT_LIVE_REGION</th>\n",
       "      <th>REG_REGION_NOT_WORK_REGION</th>\n",
       "      <th>LIVE_REGION_NOT_WORK_REGION</th>\n",
       "      <th>REG_CITY_NOT_LIVE_CITY</th>\n",
       "      <th>REG_CITY_NOT_WORK_CITY</th>\n",
       "      <th>LIVE_CITY_NOT_WORK_CITY</th>\n",
       "      <th>EXT_SOURCE_1</th>\n",
       "      <th>EXT_SOURCE_2</th>\n",
       "      <th>EXT_SOURCE_3</th>\n",
       "      <th>APARTMENTS_AVG</th>\n",
       "      <th>BASEMENTAREA_AVG</th>\n",
       "      <th>YEARS_BEGINEXPLUATATION_AVG</th>\n",
       "      <th>YEARS_BUILD_AVG</th>\n",
       "      <th>COMMONAREA_AVG</th>\n",
       "      <th>ELEVATORS_AVG</th>\n",
       "      <th>ENTRANCES_AVG</th>\n",
       "      <th>FLOORSMAX_AVG</th>\n",
       "      <th>...</th>\n",
       "      <th>ENTRANCES_MEDI</th>\n",
       "      <th>FLOORSMAX_MEDI</th>\n",
       "      <th>FLOORSMIN_MEDI</th>\n",
       "      <th>LANDAREA_MEDI</th>\n",
       "      <th>LIVINGAPARTMENTS_MEDI</th>\n",
       "      <th>LIVINGAREA_MEDI</th>\n",
       "      <th>NONLIVINGAPARTMENTS_MEDI</th>\n",
       "      <th>NONLIVINGAREA_MEDI</th>\n",
       "      <th>TOTALAREA_MODE</th>\n",
       "      <th>OBS_30_CNT_SOCIAL_CIRCLE</th>\n",
       "      <th>DEF_30_CNT_SOCIAL_CIRCLE</th>\n",
       "      <th>OBS_60_CNT_SOCIAL_CIRCLE</th>\n",
       "      <th>DEF_60_CNT_SOCIAL_CIRCLE</th>\n",
       "      <th>DAYS_LAST_PHONE_CHANGE</th>\n",
       "      <th>FLAG_DOCUMENT_2</th>\n",
       "      <th>FLAG_DOCUMENT_3</th>\n",
       "      <th>FLAG_DOCUMENT_4</th>\n",
       "      <th>FLAG_DOCUMENT_5</th>\n",
       "      <th>FLAG_DOCUMENT_6</th>\n",
       "      <th>FLAG_DOCUMENT_7</th>\n",
       "      <th>FLAG_DOCUMENT_8</th>\n",
       "      <th>FLAG_DOCUMENT_9</th>\n",
       "      <th>FLAG_DOCUMENT_10</th>\n",
       "      <th>FLAG_DOCUMENT_11</th>\n",
       "      <th>FLAG_DOCUMENT_12</th>\n",
       "      <th>FLAG_DOCUMENT_13</th>\n",
       "      <th>FLAG_DOCUMENT_14</th>\n",
       "      <th>FLAG_DOCUMENT_15</th>\n",
       "      <th>FLAG_DOCUMENT_16</th>\n",
       "      <th>FLAG_DOCUMENT_17</th>\n",
       "      <th>FLAG_DOCUMENT_18</th>\n",
       "      <th>FLAG_DOCUMENT_19</th>\n",
       "      <th>FLAG_DOCUMENT_20</th>\n",
       "      <th>FLAG_DOCUMENT_21</th>\n",
       "      <th>AMT_REQ_CREDIT_BUREAU_HOUR</th>\n",
       "      <th>AMT_REQ_CREDIT_BUREAU_DAY</th>\n",
       "      <th>AMT_REQ_CREDIT_BUREAU_WEEK</th>\n",
       "      <th>AMT_REQ_CREDIT_BUREAU_MON</th>\n",
       "      <th>AMT_REQ_CREDIT_BUREAU_QRT</th>\n",
       "      <th>AMT_REQ_CREDIT_BUREAU_YEAR</th>\n",
       "    </tr>\n",
       "  </thead>\n",
       "  <tbody>\n",
       "    <tr>\n",
       "      <th>count</th>\n",
       "      <td>307511.000000</td>\n",
       "      <td>307511.000000</td>\n",
       "      <td>307511.000000</td>\n",
       "      <td>3.075110e+05</td>\n",
       "      <td>3.075110e+05</td>\n",
       "      <td>307499.000000</td>\n",
       "      <td>3.072330e+05</td>\n",
       "      <td>307511.000000</td>\n",
       "      <td>307511.000000</td>\n",
       "      <td>307511.000000</td>\n",
       "      <td>307511.000000</td>\n",
       "      <td>307511.000000</td>\n",
       "      <td>104582.000000</td>\n",
       "      <td>307511.000000</td>\n",
       "      <td>307511.000000</td>\n",
       "      <td>307511.000000</td>\n",
       "      <td>307511.000000</td>\n",
       "      <td>307511.000000</td>\n",
       "      <td>307511.000000</td>\n",
       "      <td>307509.000000</td>\n",
       "      <td>307511.000000</td>\n",
       "      <td>307511.000000</td>\n",
       "      <td>307511.000000</td>\n",
       "      <td>307511.000000</td>\n",
       "      <td>307511.000000</td>\n",
       "      <td>307511.000000</td>\n",
       "      <td>307511.000000</td>\n",
       "      <td>307511.000000</td>\n",
       "      <td>307511.000000</td>\n",
       "      <td>134133.000000</td>\n",
       "      <td>3.068510e+05</td>\n",
       "      <td>246546.000000</td>\n",
       "      <td>151450.00000</td>\n",
       "      <td>127568.000000</td>\n",
       "      <td>157504.000000</td>\n",
       "      <td>103023.000000</td>\n",
       "      <td>92646.000000</td>\n",
       "      <td>143620.000000</td>\n",
       "      <td>152683.000000</td>\n",
       "      <td>154491.000000</td>\n",
       "      <td>...</td>\n",
       "      <td>152683.000000</td>\n",
       "      <td>154491.000000</td>\n",
       "      <td>98869.000000</td>\n",
       "      <td>124921.000000</td>\n",
       "      <td>97312.000000</td>\n",
       "      <td>153161.000000</td>\n",
       "      <td>93997.000000</td>\n",
       "      <td>137829.000000</td>\n",
       "      <td>159080.000000</td>\n",
       "      <td>306490.000000</td>\n",
       "      <td>306490.000000</td>\n",
       "      <td>306490.000000</td>\n",
       "      <td>306490.000000</td>\n",
       "      <td>307510.000000</td>\n",
       "      <td>307511.000000</td>\n",
       "      <td>307511.000000</td>\n",
       "      <td>307511.000000</td>\n",
       "      <td>307511.000000</td>\n",
       "      <td>307511.000000</td>\n",
       "      <td>307511.000000</td>\n",
       "      <td>307511.000000</td>\n",
       "      <td>307511.000000</td>\n",
       "      <td>307511.000000</td>\n",
       "      <td>307511.000000</td>\n",
       "      <td>307511.000000</td>\n",
       "      <td>307511.000000</td>\n",
       "      <td>307511.000000</td>\n",
       "      <td>307511.00000</td>\n",
       "      <td>307511.000000</td>\n",
       "      <td>307511.000000</td>\n",
       "      <td>307511.000000</td>\n",
       "      <td>307511.000000</td>\n",
       "      <td>307511.000000</td>\n",
       "      <td>307511.000000</td>\n",
       "      <td>265992.000000</td>\n",
       "      <td>265992.000000</td>\n",
       "      <td>265992.000000</td>\n",
       "      <td>265992.000000</td>\n",
       "      <td>265992.000000</td>\n",
       "      <td>265992.000000</td>\n",
       "    </tr>\n",
       "    <tr>\n",
       "      <th>mean</th>\n",
       "      <td>278180.518577</td>\n",
       "      <td>0.080729</td>\n",
       "      <td>0.417052</td>\n",
       "      <td>1.687979e+05</td>\n",
       "      <td>5.990260e+05</td>\n",
       "      <td>27108.573909</td>\n",
       "      <td>5.383962e+05</td>\n",
       "      <td>0.020868</td>\n",
       "      <td>-16036.995067</td>\n",
       "      <td>63815.045904</td>\n",
       "      <td>-4986.120328</td>\n",
       "      <td>-2994.202373</td>\n",
       "      <td>12.061091</td>\n",
       "      <td>0.999997</td>\n",
       "      <td>0.819889</td>\n",
       "      <td>0.199368</td>\n",
       "      <td>0.998133</td>\n",
       "      <td>0.281066</td>\n",
       "      <td>0.056720</td>\n",
       "      <td>2.152665</td>\n",
       "      <td>2.052463</td>\n",
       "      <td>2.031521</td>\n",
       "      <td>12.063419</td>\n",
       "      <td>0.015144</td>\n",
       "      <td>0.050769</td>\n",
       "      <td>0.040659</td>\n",
       "      <td>0.078173</td>\n",
       "      <td>0.230454</td>\n",
       "      <td>0.179555</td>\n",
       "      <td>0.502130</td>\n",
       "      <td>5.143927e-01</td>\n",
       "      <td>0.510853</td>\n",
       "      <td>0.11744</td>\n",
       "      <td>0.088442</td>\n",
       "      <td>0.977735</td>\n",
       "      <td>0.752471</td>\n",
       "      <td>0.044621</td>\n",
       "      <td>0.078942</td>\n",
       "      <td>0.149725</td>\n",
       "      <td>0.226282</td>\n",
       "      <td>...</td>\n",
       "      <td>0.149213</td>\n",
       "      <td>0.225897</td>\n",
       "      <td>0.231625</td>\n",
       "      <td>0.067169</td>\n",
       "      <td>0.101954</td>\n",
       "      <td>0.108607</td>\n",
       "      <td>0.008651</td>\n",
       "      <td>0.028236</td>\n",
       "      <td>0.102547</td>\n",
       "      <td>1.422245</td>\n",
       "      <td>0.143421</td>\n",
       "      <td>1.405292</td>\n",
       "      <td>0.100049</td>\n",
       "      <td>-962.858788</td>\n",
       "      <td>0.000042</td>\n",
       "      <td>0.710023</td>\n",
       "      <td>0.000081</td>\n",
       "      <td>0.015115</td>\n",
       "      <td>0.088055</td>\n",
       "      <td>0.000192</td>\n",
       "      <td>0.081376</td>\n",
       "      <td>0.003896</td>\n",
       "      <td>0.000023</td>\n",
       "      <td>0.003912</td>\n",
       "      <td>0.000007</td>\n",
       "      <td>0.003525</td>\n",
       "      <td>0.002936</td>\n",
       "      <td>0.00121</td>\n",
       "      <td>0.009928</td>\n",
       "      <td>0.000267</td>\n",
       "      <td>0.008130</td>\n",
       "      <td>0.000595</td>\n",
       "      <td>0.000507</td>\n",
       "      <td>0.000335</td>\n",
       "      <td>0.006402</td>\n",
       "      <td>0.007000</td>\n",
       "      <td>0.034362</td>\n",
       "      <td>0.267395</td>\n",
       "      <td>0.265474</td>\n",
       "      <td>1.899974</td>\n",
       "    </tr>\n",
       "    <tr>\n",
       "      <th>std</th>\n",
       "      <td>102790.175348</td>\n",
       "      <td>0.272419</td>\n",
       "      <td>0.722121</td>\n",
       "      <td>2.371231e+05</td>\n",
       "      <td>4.024908e+05</td>\n",
       "      <td>14493.737315</td>\n",
       "      <td>3.694465e+05</td>\n",
       "      <td>0.013831</td>\n",
       "      <td>4363.988632</td>\n",
       "      <td>141275.766519</td>\n",
       "      <td>3522.886321</td>\n",
       "      <td>1509.450419</td>\n",
       "      <td>11.944812</td>\n",
       "      <td>0.001803</td>\n",
       "      <td>0.384280</td>\n",
       "      <td>0.399526</td>\n",
       "      <td>0.043164</td>\n",
       "      <td>0.449521</td>\n",
       "      <td>0.231307</td>\n",
       "      <td>0.910682</td>\n",
       "      <td>0.509034</td>\n",
       "      <td>0.502737</td>\n",
       "      <td>3.265832</td>\n",
       "      <td>0.122126</td>\n",
       "      <td>0.219526</td>\n",
       "      <td>0.197499</td>\n",
       "      <td>0.268444</td>\n",
       "      <td>0.421124</td>\n",
       "      <td>0.383817</td>\n",
       "      <td>0.211062</td>\n",
       "      <td>1.910602e-01</td>\n",
       "      <td>0.194844</td>\n",
       "      <td>0.10824</td>\n",
       "      <td>0.082438</td>\n",
       "      <td>0.059223</td>\n",
       "      <td>0.113280</td>\n",
       "      <td>0.076036</td>\n",
       "      <td>0.134576</td>\n",
       "      <td>0.100049</td>\n",
       "      <td>0.144641</td>\n",
       "      <td>...</td>\n",
       "      <td>0.100368</td>\n",
       "      <td>0.145067</td>\n",
       "      <td>0.161934</td>\n",
       "      <td>0.082167</td>\n",
       "      <td>0.093642</td>\n",
       "      <td>0.112260</td>\n",
       "      <td>0.047415</td>\n",
       "      <td>0.070166</td>\n",
       "      <td>0.107462</td>\n",
       "      <td>2.400989</td>\n",
       "      <td>0.446698</td>\n",
       "      <td>2.379803</td>\n",
       "      <td>0.362291</td>\n",
       "      <td>826.808487</td>\n",
       "      <td>0.006502</td>\n",
       "      <td>0.453752</td>\n",
       "      <td>0.009016</td>\n",
       "      <td>0.122010</td>\n",
       "      <td>0.283376</td>\n",
       "      <td>0.013850</td>\n",
       "      <td>0.273412</td>\n",
       "      <td>0.062295</td>\n",
       "      <td>0.004771</td>\n",
       "      <td>0.062424</td>\n",
       "      <td>0.002550</td>\n",
       "      <td>0.059268</td>\n",
       "      <td>0.054110</td>\n",
       "      <td>0.03476</td>\n",
       "      <td>0.099144</td>\n",
       "      <td>0.016327</td>\n",
       "      <td>0.089798</td>\n",
       "      <td>0.024387</td>\n",
       "      <td>0.022518</td>\n",
       "      <td>0.018299</td>\n",
       "      <td>0.083849</td>\n",
       "      <td>0.110757</td>\n",
       "      <td>0.204685</td>\n",
       "      <td>0.916002</td>\n",
       "      <td>0.794056</td>\n",
       "      <td>1.869295</td>\n",
       "    </tr>\n",
       "    <tr>\n",
       "      <th>min</th>\n",
       "      <td>100002.000000</td>\n",
       "      <td>0.000000</td>\n",
       "      <td>0.000000</td>\n",
       "      <td>2.565000e+04</td>\n",
       "      <td>4.500000e+04</td>\n",
       "      <td>1615.500000</td>\n",
       "      <td>4.050000e+04</td>\n",
       "      <td>0.000290</td>\n",
       "      <td>-25229.000000</td>\n",
       "      <td>-17912.000000</td>\n",
       "      <td>-24672.000000</td>\n",
       "      <td>-7197.000000</td>\n",
       "      <td>0.000000</td>\n",
       "      <td>0.000000</td>\n",
       "      <td>0.000000</td>\n",
       "      <td>0.000000</td>\n",
       "      <td>0.000000</td>\n",
       "      <td>0.000000</td>\n",
       "      <td>0.000000</td>\n",
       "      <td>1.000000</td>\n",
       "      <td>1.000000</td>\n",
       "      <td>1.000000</td>\n",
       "      <td>0.000000</td>\n",
       "      <td>0.000000</td>\n",
       "      <td>0.000000</td>\n",
       "      <td>0.000000</td>\n",
       "      <td>0.000000</td>\n",
       "      <td>0.000000</td>\n",
       "      <td>0.000000</td>\n",
       "      <td>0.014568</td>\n",
       "      <td>8.173617e-08</td>\n",
       "      <td>0.000527</td>\n",
       "      <td>0.00000</td>\n",
       "      <td>0.000000</td>\n",
       "      <td>0.000000</td>\n",
       "      <td>0.000000</td>\n",
       "      <td>0.000000</td>\n",
       "      <td>0.000000</td>\n",
       "      <td>0.000000</td>\n",
       "      <td>0.000000</td>\n",
       "      <td>...</td>\n",
       "      <td>0.000000</td>\n",
       "      <td>0.000000</td>\n",
       "      <td>0.000000</td>\n",
       "      <td>0.000000</td>\n",
       "      <td>0.000000</td>\n",
       "      <td>0.000000</td>\n",
       "      <td>0.000000</td>\n",
       "      <td>0.000000</td>\n",
       "      <td>0.000000</td>\n",
       "      <td>0.000000</td>\n",
       "      <td>0.000000</td>\n",
       "      <td>0.000000</td>\n",
       "      <td>0.000000</td>\n",
       "      <td>-4292.000000</td>\n",
       "      <td>0.000000</td>\n",
       "      <td>0.000000</td>\n",
       "      <td>0.000000</td>\n",
       "      <td>0.000000</td>\n",
       "      <td>0.000000</td>\n",
       "      <td>0.000000</td>\n",
       "      <td>0.000000</td>\n",
       "      <td>0.000000</td>\n",
       "      <td>0.000000</td>\n",
       "      <td>0.000000</td>\n",
       "      <td>0.000000</td>\n",
       "      <td>0.000000</td>\n",
       "      <td>0.000000</td>\n",
       "      <td>0.00000</td>\n",
       "      <td>0.000000</td>\n",
       "      <td>0.000000</td>\n",
       "      <td>0.000000</td>\n",
       "      <td>0.000000</td>\n",
       "      <td>0.000000</td>\n",
       "      <td>0.000000</td>\n",
       "      <td>0.000000</td>\n",
       "      <td>0.000000</td>\n",
       "      <td>0.000000</td>\n",
       "      <td>0.000000</td>\n",
       "      <td>0.000000</td>\n",
       "      <td>0.000000</td>\n",
       "    </tr>\n",
       "    <tr>\n",
       "      <th>25%</th>\n",
       "      <td>189145.500000</td>\n",
       "      <td>0.000000</td>\n",
       "      <td>0.000000</td>\n",
       "      <td>1.125000e+05</td>\n",
       "      <td>2.700000e+05</td>\n",
       "      <td>16524.000000</td>\n",
       "      <td>2.385000e+05</td>\n",
       "      <td>0.010006</td>\n",
       "      <td>-19682.000000</td>\n",
       "      <td>-2760.000000</td>\n",
       "      <td>-7479.500000</td>\n",
       "      <td>-4299.000000</td>\n",
       "      <td>5.000000</td>\n",
       "      <td>1.000000</td>\n",
       "      <td>1.000000</td>\n",
       "      <td>0.000000</td>\n",
       "      <td>1.000000</td>\n",
       "      <td>0.000000</td>\n",
       "      <td>0.000000</td>\n",
       "      <td>2.000000</td>\n",
       "      <td>2.000000</td>\n",
       "      <td>2.000000</td>\n",
       "      <td>10.000000</td>\n",
       "      <td>0.000000</td>\n",
       "      <td>0.000000</td>\n",
       "      <td>0.000000</td>\n",
       "      <td>0.000000</td>\n",
       "      <td>0.000000</td>\n",
       "      <td>0.000000</td>\n",
       "      <td>0.334007</td>\n",
       "      <td>3.924574e-01</td>\n",
       "      <td>0.370650</td>\n",
       "      <td>0.05770</td>\n",
       "      <td>0.044200</td>\n",
       "      <td>0.976700</td>\n",
       "      <td>0.687200</td>\n",
       "      <td>0.007800</td>\n",
       "      <td>0.000000</td>\n",
       "      <td>0.069000</td>\n",
       "      <td>0.166700</td>\n",
       "      <td>...</td>\n",
       "      <td>0.069000</td>\n",
       "      <td>0.166700</td>\n",
       "      <td>0.083300</td>\n",
       "      <td>0.018700</td>\n",
       "      <td>0.051300</td>\n",
       "      <td>0.045700</td>\n",
       "      <td>0.000000</td>\n",
       "      <td>0.000000</td>\n",
       "      <td>0.041200</td>\n",
       "      <td>0.000000</td>\n",
       "      <td>0.000000</td>\n",
       "      <td>0.000000</td>\n",
       "      <td>0.000000</td>\n",
       "      <td>-1570.000000</td>\n",
       "      <td>0.000000</td>\n",
       "      <td>0.000000</td>\n",
       "      <td>0.000000</td>\n",
       "      <td>0.000000</td>\n",
       "      <td>0.000000</td>\n",
       "      <td>0.000000</td>\n",
       "      <td>0.000000</td>\n",
       "      <td>0.000000</td>\n",
       "      <td>0.000000</td>\n",
       "      <td>0.000000</td>\n",
       "      <td>0.000000</td>\n",
       "      <td>0.000000</td>\n",
       "      <td>0.000000</td>\n",
       "      <td>0.00000</td>\n",
       "      <td>0.000000</td>\n",
       "      <td>0.000000</td>\n",
       "      <td>0.000000</td>\n",
       "      <td>0.000000</td>\n",
       "      <td>0.000000</td>\n",
       "      <td>0.000000</td>\n",
       "      <td>0.000000</td>\n",
       "      <td>0.000000</td>\n",
       "      <td>0.000000</td>\n",
       "      <td>0.000000</td>\n",
       "      <td>0.000000</td>\n",
       "      <td>0.000000</td>\n",
       "    </tr>\n",
       "    <tr>\n",
       "      <th>50%</th>\n",
       "      <td>278202.000000</td>\n",
       "      <td>0.000000</td>\n",
       "      <td>0.000000</td>\n",
       "      <td>1.471500e+05</td>\n",
       "      <td>5.135310e+05</td>\n",
       "      <td>24903.000000</td>\n",
       "      <td>4.500000e+05</td>\n",
       "      <td>0.018850</td>\n",
       "      <td>-15750.000000</td>\n",
       "      <td>-1213.000000</td>\n",
       "      <td>-4504.000000</td>\n",
       "      <td>-3254.000000</td>\n",
       "      <td>9.000000</td>\n",
       "      <td>1.000000</td>\n",
       "      <td>1.000000</td>\n",
       "      <td>0.000000</td>\n",
       "      <td>1.000000</td>\n",
       "      <td>0.000000</td>\n",
       "      <td>0.000000</td>\n",
       "      <td>2.000000</td>\n",
       "      <td>2.000000</td>\n",
       "      <td>2.000000</td>\n",
       "      <td>12.000000</td>\n",
       "      <td>0.000000</td>\n",
       "      <td>0.000000</td>\n",
       "      <td>0.000000</td>\n",
       "      <td>0.000000</td>\n",
       "      <td>0.000000</td>\n",
       "      <td>0.000000</td>\n",
       "      <td>0.505998</td>\n",
       "      <td>5.659614e-01</td>\n",
       "      <td>0.535276</td>\n",
       "      <td>0.08760</td>\n",
       "      <td>0.076300</td>\n",
       "      <td>0.981600</td>\n",
       "      <td>0.755200</td>\n",
       "      <td>0.021100</td>\n",
       "      <td>0.000000</td>\n",
       "      <td>0.137900</td>\n",
       "      <td>0.166700</td>\n",
       "      <td>...</td>\n",
       "      <td>0.137900</td>\n",
       "      <td>0.166700</td>\n",
       "      <td>0.208300</td>\n",
       "      <td>0.048700</td>\n",
       "      <td>0.076100</td>\n",
       "      <td>0.074900</td>\n",
       "      <td>0.000000</td>\n",
       "      <td>0.003100</td>\n",
       "      <td>0.068800</td>\n",
       "      <td>0.000000</td>\n",
       "      <td>0.000000</td>\n",
       "      <td>0.000000</td>\n",
       "      <td>0.000000</td>\n",
       "      <td>-757.000000</td>\n",
       "      <td>0.000000</td>\n",
       "      <td>1.000000</td>\n",
       "      <td>0.000000</td>\n",
       "      <td>0.000000</td>\n",
       "      <td>0.000000</td>\n",
       "      <td>0.000000</td>\n",
       "      <td>0.000000</td>\n",
       "      <td>0.000000</td>\n",
       "      <td>0.000000</td>\n",
       "      <td>0.000000</td>\n",
       "      <td>0.000000</td>\n",
       "      <td>0.000000</td>\n",
       "      <td>0.000000</td>\n",
       "      <td>0.00000</td>\n",
       "      <td>0.000000</td>\n",
       "      <td>0.000000</td>\n",
       "      <td>0.000000</td>\n",
       "      <td>0.000000</td>\n",
       "      <td>0.000000</td>\n",
       "      <td>0.000000</td>\n",
       "      <td>0.000000</td>\n",
       "      <td>0.000000</td>\n",
       "      <td>0.000000</td>\n",
       "      <td>0.000000</td>\n",
       "      <td>0.000000</td>\n",
       "      <td>1.000000</td>\n",
       "    </tr>\n",
       "    <tr>\n",
       "      <th>75%</th>\n",
       "      <td>367142.500000</td>\n",
       "      <td>0.000000</td>\n",
       "      <td>1.000000</td>\n",
       "      <td>2.025000e+05</td>\n",
       "      <td>8.086500e+05</td>\n",
       "      <td>34596.000000</td>\n",
       "      <td>6.795000e+05</td>\n",
       "      <td>0.028663</td>\n",
       "      <td>-12413.000000</td>\n",
       "      <td>-289.000000</td>\n",
       "      <td>-2010.000000</td>\n",
       "      <td>-1720.000000</td>\n",
       "      <td>15.000000</td>\n",
       "      <td>1.000000</td>\n",
       "      <td>1.000000</td>\n",
       "      <td>0.000000</td>\n",
       "      <td>1.000000</td>\n",
       "      <td>1.000000</td>\n",
       "      <td>0.000000</td>\n",
       "      <td>3.000000</td>\n",
       "      <td>2.000000</td>\n",
       "      <td>2.000000</td>\n",
       "      <td>14.000000</td>\n",
       "      <td>0.000000</td>\n",
       "      <td>0.000000</td>\n",
       "      <td>0.000000</td>\n",
       "      <td>0.000000</td>\n",
       "      <td>0.000000</td>\n",
       "      <td>0.000000</td>\n",
       "      <td>0.675053</td>\n",
       "      <td>6.636171e-01</td>\n",
       "      <td>0.669057</td>\n",
       "      <td>0.14850</td>\n",
       "      <td>0.112200</td>\n",
       "      <td>0.986600</td>\n",
       "      <td>0.823200</td>\n",
       "      <td>0.051500</td>\n",
       "      <td>0.120000</td>\n",
       "      <td>0.206900</td>\n",
       "      <td>0.333300</td>\n",
       "      <td>...</td>\n",
       "      <td>0.206900</td>\n",
       "      <td>0.333300</td>\n",
       "      <td>0.375000</td>\n",
       "      <td>0.086800</td>\n",
       "      <td>0.123100</td>\n",
       "      <td>0.130300</td>\n",
       "      <td>0.003900</td>\n",
       "      <td>0.026600</td>\n",
       "      <td>0.127600</td>\n",
       "      <td>2.000000</td>\n",
       "      <td>0.000000</td>\n",
       "      <td>2.000000</td>\n",
       "      <td>0.000000</td>\n",
       "      <td>-274.000000</td>\n",
       "      <td>0.000000</td>\n",
       "      <td>1.000000</td>\n",
       "      <td>0.000000</td>\n",
       "      <td>0.000000</td>\n",
       "      <td>0.000000</td>\n",
       "      <td>0.000000</td>\n",
       "      <td>0.000000</td>\n",
       "      <td>0.000000</td>\n",
       "      <td>0.000000</td>\n",
       "      <td>0.000000</td>\n",
       "      <td>0.000000</td>\n",
       "      <td>0.000000</td>\n",
       "      <td>0.000000</td>\n",
       "      <td>0.00000</td>\n",
       "      <td>0.000000</td>\n",
       "      <td>0.000000</td>\n",
       "      <td>0.000000</td>\n",
       "      <td>0.000000</td>\n",
       "      <td>0.000000</td>\n",
       "      <td>0.000000</td>\n",
       "      <td>0.000000</td>\n",
       "      <td>0.000000</td>\n",
       "      <td>0.000000</td>\n",
       "      <td>0.000000</td>\n",
       "      <td>0.000000</td>\n",
       "      <td>3.000000</td>\n",
       "    </tr>\n",
       "    <tr>\n",
       "      <th>max</th>\n",
       "      <td>456255.000000</td>\n",
       "      <td>1.000000</td>\n",
       "      <td>19.000000</td>\n",
       "      <td>1.170000e+08</td>\n",
       "      <td>4.050000e+06</td>\n",
       "      <td>258025.500000</td>\n",
       "      <td>4.050000e+06</td>\n",
       "      <td>0.072508</td>\n",
       "      <td>-7489.000000</td>\n",
       "      <td>365243.000000</td>\n",
       "      <td>0.000000</td>\n",
       "      <td>0.000000</td>\n",
       "      <td>91.000000</td>\n",
       "      <td>1.000000</td>\n",
       "      <td>1.000000</td>\n",
       "      <td>1.000000</td>\n",
       "      <td>1.000000</td>\n",
       "      <td>1.000000</td>\n",
       "      <td>1.000000</td>\n",
       "      <td>20.000000</td>\n",
       "      <td>3.000000</td>\n",
       "      <td>3.000000</td>\n",
       "      <td>23.000000</td>\n",
       "      <td>1.000000</td>\n",
       "      <td>1.000000</td>\n",
       "      <td>1.000000</td>\n",
       "      <td>1.000000</td>\n",
       "      <td>1.000000</td>\n",
       "      <td>1.000000</td>\n",
       "      <td>0.962693</td>\n",
       "      <td>8.549997e-01</td>\n",
       "      <td>0.896010</td>\n",
       "      <td>1.00000</td>\n",
       "      <td>1.000000</td>\n",
       "      <td>1.000000</td>\n",
       "      <td>1.000000</td>\n",
       "      <td>1.000000</td>\n",
       "      <td>1.000000</td>\n",
       "      <td>1.000000</td>\n",
       "      <td>1.000000</td>\n",
       "      <td>...</td>\n",
       "      <td>1.000000</td>\n",
       "      <td>1.000000</td>\n",
       "      <td>1.000000</td>\n",
       "      <td>1.000000</td>\n",
       "      <td>1.000000</td>\n",
       "      <td>1.000000</td>\n",
       "      <td>1.000000</td>\n",
       "      <td>1.000000</td>\n",
       "      <td>1.000000</td>\n",
       "      <td>348.000000</td>\n",
       "      <td>34.000000</td>\n",
       "      <td>344.000000</td>\n",
       "      <td>24.000000</td>\n",
       "      <td>0.000000</td>\n",
       "      <td>1.000000</td>\n",
       "      <td>1.000000</td>\n",
       "      <td>1.000000</td>\n",
       "      <td>1.000000</td>\n",
       "      <td>1.000000</td>\n",
       "      <td>1.000000</td>\n",
       "      <td>1.000000</td>\n",
       "      <td>1.000000</td>\n",
       "      <td>1.000000</td>\n",
       "      <td>1.000000</td>\n",
       "      <td>1.000000</td>\n",
       "      <td>1.000000</td>\n",
       "      <td>1.000000</td>\n",
       "      <td>1.00000</td>\n",
       "      <td>1.000000</td>\n",
       "      <td>1.000000</td>\n",
       "      <td>1.000000</td>\n",
       "      <td>1.000000</td>\n",
       "      <td>1.000000</td>\n",
       "      <td>1.000000</td>\n",
       "      <td>4.000000</td>\n",
       "      <td>9.000000</td>\n",
       "      <td>8.000000</td>\n",
       "      <td>27.000000</td>\n",
       "      <td>261.000000</td>\n",
       "      <td>25.000000</td>\n",
       "    </tr>\n",
       "  </tbody>\n",
       "</table>\n",
       "<p>8 rows × 106 columns</p>\n",
       "</div>"
      ],
      "text/plain": [
       "          SK_ID_CURR  ...  AMT_REQ_CREDIT_BUREAU_YEAR\n",
       "count  307511.000000  ...               265992.000000\n",
       "mean   278180.518577  ...                    1.899974\n",
       "std    102790.175348  ...                    1.869295\n",
       "min    100002.000000  ...                    0.000000\n",
       "25%    189145.500000  ...                    0.000000\n",
       "50%    278202.000000  ...                    1.000000\n",
       "75%    367142.500000  ...                    3.000000\n",
       "max    456255.000000  ...                   25.000000\n",
       "\n",
       "[8 rows x 106 columns]"
      ]
     },
     "execution_count": 14,
     "metadata": {
      "tags": []
     },
     "output_type": "execute_result"
    }
   ],
   "source": [
    "application_train.describe()"
   ]
  },
  {
   "cell_type": "markdown",
   "metadata": {
    "id": "pPMCgquCErE1"
   },
   "source": [
    "**Checking Missing Values**"
   ]
  },
  {
   "cell_type": "code",
   "execution_count": null,
   "metadata": {
    "colab": {
     "base_uri": "https://localhost:8080/"
    },
    "id": "uXSQtL7Z1iK5",
    "outputId": "b924cd48-a770-4277-cddc-8b8b9a9502f2"
   },
   "outputs": [
    {
     "data": {
      "text/html": [
       "<div>\n",
       "<style scoped>\n",
       "    .dataframe tbody tr th:only-of-type {\n",
       "        vertical-align: middle;\n",
       "    }\n",
       "\n",
       "    .dataframe tbody tr th {\n",
       "        vertical-align: top;\n",
       "    }\n",
       "\n",
       "    .dataframe thead th {\n",
       "        text-align: right;\n",
       "    }\n",
       "</style>\n",
       "<table border=\"1\" class=\"dataframe\">\n",
       "  <thead>\n",
       "    <tr style=\"text-align: right;\">\n",
       "      <th></th>\n",
       "      <th>Count</th>\n",
       "      <th>Percentage</th>\n",
       "    </tr>\n",
       "  </thead>\n",
       "  <tbody>\n",
       "    <tr>\n",
       "      <th>COMMONAREA_MEDI</th>\n",
       "      <td>214865</td>\n",
       "      <td>69.872297</td>\n",
       "    </tr>\n",
       "    <tr>\n",
       "      <th>COMMONAREA_AVG</th>\n",
       "      <td>214865</td>\n",
       "      <td>69.872297</td>\n",
       "    </tr>\n",
       "    <tr>\n",
       "      <th>COMMONAREA_MODE</th>\n",
       "      <td>214865</td>\n",
       "      <td>69.872297</td>\n",
       "    </tr>\n",
       "    <tr>\n",
       "      <th>NONLIVINGAPARTMENTS_MODE</th>\n",
       "      <td>213514</td>\n",
       "      <td>69.432963</td>\n",
       "    </tr>\n",
       "    <tr>\n",
       "      <th>NONLIVINGAPARTMENTS_MEDI</th>\n",
       "      <td>213514</td>\n",
       "      <td>69.432963</td>\n",
       "    </tr>\n",
       "    <tr>\n",
       "      <th>NONLIVINGAPARTMENTS_AVG</th>\n",
       "      <td>213514</td>\n",
       "      <td>69.432963</td>\n",
       "    </tr>\n",
       "    <tr>\n",
       "      <th>FONDKAPREMONT_MODE</th>\n",
       "      <td>210295</td>\n",
       "      <td>68.386172</td>\n",
       "    </tr>\n",
       "    <tr>\n",
       "      <th>LIVINGAPARTMENTS_MEDI</th>\n",
       "      <td>210199</td>\n",
       "      <td>68.354953</td>\n",
       "    </tr>\n",
       "    <tr>\n",
       "      <th>LIVINGAPARTMENTS_MODE</th>\n",
       "      <td>210199</td>\n",
       "      <td>68.354953</td>\n",
       "    </tr>\n",
       "    <tr>\n",
       "      <th>LIVINGAPARTMENTS_AVG</th>\n",
       "      <td>210199</td>\n",
       "      <td>68.354953</td>\n",
       "    </tr>\n",
       "    <tr>\n",
       "      <th>FLOORSMIN_MEDI</th>\n",
       "      <td>208642</td>\n",
       "      <td>67.848630</td>\n",
       "    </tr>\n",
       "    <tr>\n",
       "      <th>FLOORSMIN_MODE</th>\n",
       "      <td>208642</td>\n",
       "      <td>67.848630</td>\n",
       "    </tr>\n",
       "    <tr>\n",
       "      <th>FLOORSMIN_AVG</th>\n",
       "      <td>208642</td>\n",
       "      <td>67.848630</td>\n",
       "    </tr>\n",
       "    <tr>\n",
       "      <th>YEARS_BUILD_MEDI</th>\n",
       "      <td>204488</td>\n",
       "      <td>66.497784</td>\n",
       "    </tr>\n",
       "    <tr>\n",
       "      <th>YEARS_BUILD_AVG</th>\n",
       "      <td>204488</td>\n",
       "      <td>66.497784</td>\n",
       "    </tr>\n",
       "    <tr>\n",
       "      <th>YEARS_BUILD_MODE</th>\n",
       "      <td>204488</td>\n",
       "      <td>66.497784</td>\n",
       "    </tr>\n",
       "    <tr>\n",
       "      <th>OWN_CAR_AGE</th>\n",
       "      <td>202929</td>\n",
       "      <td>65.990810</td>\n",
       "    </tr>\n",
       "    <tr>\n",
       "      <th>LANDAREA_MODE</th>\n",
       "      <td>182590</td>\n",
       "      <td>59.376738</td>\n",
       "    </tr>\n",
       "    <tr>\n",
       "      <th>LANDAREA_AVG</th>\n",
       "      <td>182590</td>\n",
       "      <td>59.376738</td>\n",
       "    </tr>\n",
       "    <tr>\n",
       "      <th>LANDAREA_MEDI</th>\n",
       "      <td>182590</td>\n",
       "      <td>59.376738</td>\n",
       "    </tr>\n",
       "    <tr>\n",
       "      <th>BASEMENTAREA_MEDI</th>\n",
       "      <td>179943</td>\n",
       "      <td>58.515956</td>\n",
       "    </tr>\n",
       "    <tr>\n",
       "      <th>BASEMENTAREA_AVG</th>\n",
       "      <td>179943</td>\n",
       "      <td>58.515956</td>\n",
       "    </tr>\n",
       "    <tr>\n",
       "      <th>BASEMENTAREA_MODE</th>\n",
       "      <td>179943</td>\n",
       "      <td>58.515956</td>\n",
       "    </tr>\n",
       "    <tr>\n",
       "      <th>EXT_SOURCE_1</th>\n",
       "      <td>173378</td>\n",
       "      <td>56.381073</td>\n",
       "    </tr>\n",
       "    <tr>\n",
       "      <th>NONLIVINGAREA_MEDI</th>\n",
       "      <td>169682</td>\n",
       "      <td>55.179164</td>\n",
       "    </tr>\n",
       "    <tr>\n",
       "      <th>NONLIVINGAREA_AVG</th>\n",
       "      <td>169682</td>\n",
       "      <td>55.179164</td>\n",
       "    </tr>\n",
       "    <tr>\n",
       "      <th>NONLIVINGAREA_MODE</th>\n",
       "      <td>169682</td>\n",
       "      <td>55.179164</td>\n",
       "    </tr>\n",
       "    <tr>\n",
       "      <th>ELEVATORS_MODE</th>\n",
       "      <td>163891</td>\n",
       "      <td>53.295980</td>\n",
       "    </tr>\n",
       "    <tr>\n",
       "      <th>ELEVATORS_AVG</th>\n",
       "      <td>163891</td>\n",
       "      <td>53.295980</td>\n",
       "    </tr>\n",
       "    <tr>\n",
       "      <th>ELEVATORS_MEDI</th>\n",
       "      <td>163891</td>\n",
       "      <td>53.295980</td>\n",
       "    </tr>\n",
       "    <tr>\n",
       "      <th>WALLSMATERIAL_MODE</th>\n",
       "      <td>156341</td>\n",
       "      <td>50.840783</td>\n",
       "    </tr>\n",
       "    <tr>\n",
       "      <th>APARTMENTS_MODE</th>\n",
       "      <td>156061</td>\n",
       "      <td>50.749729</td>\n",
       "    </tr>\n",
       "    <tr>\n",
       "      <th>APARTMENTS_AVG</th>\n",
       "      <td>156061</td>\n",
       "      <td>50.749729</td>\n",
       "    </tr>\n",
       "    <tr>\n",
       "      <th>APARTMENTS_MEDI</th>\n",
       "      <td>156061</td>\n",
       "      <td>50.749729</td>\n",
       "    </tr>\n",
       "    <tr>\n",
       "      <th>ENTRANCES_MEDI</th>\n",
       "      <td>154828</td>\n",
       "      <td>50.348768</td>\n",
       "    </tr>\n",
       "    <tr>\n",
       "      <th>ENTRANCES_MODE</th>\n",
       "      <td>154828</td>\n",
       "      <td>50.348768</td>\n",
       "    </tr>\n",
       "    <tr>\n",
       "      <th>ENTRANCES_AVG</th>\n",
       "      <td>154828</td>\n",
       "      <td>50.348768</td>\n",
       "    </tr>\n",
       "    <tr>\n",
       "      <th>LIVINGAREA_MEDI</th>\n",
       "      <td>154350</td>\n",
       "      <td>50.193326</td>\n",
       "    </tr>\n",
       "    <tr>\n",
       "      <th>LIVINGAREA_MODE</th>\n",
       "      <td>154350</td>\n",
       "      <td>50.193326</td>\n",
       "    </tr>\n",
       "    <tr>\n",
       "      <th>LIVINGAREA_AVG</th>\n",
       "      <td>154350</td>\n",
       "      <td>50.193326</td>\n",
       "    </tr>\n",
       "    <tr>\n",
       "      <th>HOUSETYPE_MODE</th>\n",
       "      <td>154297</td>\n",
       "      <td>50.176091</td>\n",
       "    </tr>\n",
       "    <tr>\n",
       "      <th>FLOORSMAX_MODE</th>\n",
       "      <td>153020</td>\n",
       "      <td>49.760822</td>\n",
       "    </tr>\n",
       "    <tr>\n",
       "      <th>FLOORSMAX_MEDI</th>\n",
       "      <td>153020</td>\n",
       "      <td>49.760822</td>\n",
       "    </tr>\n",
       "    <tr>\n",
       "      <th>FLOORSMAX_AVG</th>\n",
       "      <td>153020</td>\n",
       "      <td>49.760822</td>\n",
       "    </tr>\n",
       "    <tr>\n",
       "      <th>YEARS_BEGINEXPLUATATION_MEDI</th>\n",
       "      <td>150007</td>\n",
       "      <td>48.781019</td>\n",
       "    </tr>\n",
       "    <tr>\n",
       "      <th>YEARS_BEGINEXPLUATATION_AVG</th>\n",
       "      <td>150007</td>\n",
       "      <td>48.781019</td>\n",
       "    </tr>\n",
       "    <tr>\n",
       "      <th>YEARS_BEGINEXPLUATATION_MODE</th>\n",
       "      <td>150007</td>\n",
       "      <td>48.781019</td>\n",
       "    </tr>\n",
       "    <tr>\n",
       "      <th>TOTALAREA_MODE</th>\n",
       "      <td>148431</td>\n",
       "      <td>48.268517</td>\n",
       "    </tr>\n",
       "    <tr>\n",
       "      <th>EMERGENCYSTATE_MODE</th>\n",
       "      <td>145755</td>\n",
       "      <td>47.398304</td>\n",
       "    </tr>\n",
       "    <tr>\n",
       "      <th>OCCUPATION_TYPE</th>\n",
       "      <td>96391</td>\n",
       "      <td>31.345545</td>\n",
       "    </tr>\n",
       "  </tbody>\n",
       "</table>\n",
       "</div>"
      ],
      "text/plain": [
       "                               Count  Percentage\n",
       "COMMONAREA_MEDI               214865   69.872297\n",
       "COMMONAREA_AVG                214865   69.872297\n",
       "COMMONAREA_MODE               214865   69.872297\n",
       "NONLIVINGAPARTMENTS_MODE      213514   69.432963\n",
       "NONLIVINGAPARTMENTS_MEDI      213514   69.432963\n",
       "NONLIVINGAPARTMENTS_AVG       213514   69.432963\n",
       "FONDKAPREMONT_MODE            210295   68.386172\n",
       "LIVINGAPARTMENTS_MEDI         210199   68.354953\n",
       "LIVINGAPARTMENTS_MODE         210199   68.354953\n",
       "LIVINGAPARTMENTS_AVG          210199   68.354953\n",
       "FLOORSMIN_MEDI                208642   67.848630\n",
       "FLOORSMIN_MODE                208642   67.848630\n",
       "FLOORSMIN_AVG                 208642   67.848630\n",
       "YEARS_BUILD_MEDI              204488   66.497784\n",
       "YEARS_BUILD_AVG               204488   66.497784\n",
       "YEARS_BUILD_MODE              204488   66.497784\n",
       "OWN_CAR_AGE                   202929   65.990810\n",
       "LANDAREA_MODE                 182590   59.376738\n",
       "LANDAREA_AVG                  182590   59.376738\n",
       "LANDAREA_MEDI                 182590   59.376738\n",
       "BASEMENTAREA_MEDI             179943   58.515956\n",
       "BASEMENTAREA_AVG              179943   58.515956\n",
       "BASEMENTAREA_MODE             179943   58.515956\n",
       "EXT_SOURCE_1                  173378   56.381073\n",
       "NONLIVINGAREA_MEDI            169682   55.179164\n",
       "NONLIVINGAREA_AVG             169682   55.179164\n",
       "NONLIVINGAREA_MODE            169682   55.179164\n",
       "ELEVATORS_MODE                163891   53.295980\n",
       "ELEVATORS_AVG                 163891   53.295980\n",
       "ELEVATORS_MEDI                163891   53.295980\n",
       "WALLSMATERIAL_MODE            156341   50.840783\n",
       "APARTMENTS_MODE               156061   50.749729\n",
       "APARTMENTS_AVG                156061   50.749729\n",
       "APARTMENTS_MEDI               156061   50.749729\n",
       "ENTRANCES_MEDI                154828   50.348768\n",
       "ENTRANCES_MODE                154828   50.348768\n",
       "ENTRANCES_AVG                 154828   50.348768\n",
       "LIVINGAREA_MEDI               154350   50.193326\n",
       "LIVINGAREA_MODE               154350   50.193326\n",
       "LIVINGAREA_AVG                154350   50.193326\n",
       "HOUSETYPE_MODE                154297   50.176091\n",
       "FLOORSMAX_MODE                153020   49.760822\n",
       "FLOORSMAX_MEDI                153020   49.760822\n",
       "FLOORSMAX_AVG                 153020   49.760822\n",
       "YEARS_BEGINEXPLUATATION_MEDI  150007   48.781019\n",
       "YEARS_BEGINEXPLUATATION_AVG   150007   48.781019\n",
       "YEARS_BEGINEXPLUATATION_MODE  150007   48.781019\n",
       "TOTALAREA_MODE                148431   48.268517\n",
       "EMERGENCYSTATE_MODE           145755   47.398304\n",
       "OCCUPATION_TYPE                96391   31.345545"
      ]
     },
     "execution_count": 15,
     "metadata": {
      "tags": []
     },
     "output_type": "execute_result"
    }
   ],
   "source": [
    "count = application_train.isnull().sum().sort_values(ascending=False)\n",
    "percentage = ((application_train.isnull().sum()/len(application_train)*100)).sort_values(ascending=False)\n",
    "missing_application = pd.concat([count, percentage], axis=1, keys=['Count','Percentage'])\n",
    "missing_application.head(50)"
   ]
  },
  {
   "cell_type": "code",
   "execution_count": null,
   "metadata": {
    "colab": {
     "base_uri": "https://localhost:8080/"
    },
    "id": "BdJjmH3ftPuK",
    "outputId": "fdb4dfc0-c6fe-4ded-e186-63cca8044940"
   },
   "outputs": [
    {
     "data": {
      "text/plain": [
       "<matplotlib.axes._subplots.AxesSubplot at 0x7f0ef67b7c10>"
      ]
     },
     "execution_count": 16,
     "metadata": {
      "tags": []
     },
     "output_type": "execute_result"
    },
    {
     "data": {
      "image/png": "[encoded data removed]",
      "text/plain": [
       "<Figure size 1800x720 with 2 Axes>"
      ]
     },
     "metadata": {
      "needs_background": "light",
      "tags": []
     },
     "output_type": "display_data"
    }
   ],
   "source": [
    "import missingno as msno\n",
    "msno.matrix(application_train)"
   ]
  },
  {
   "cell_type": "markdown",
   "metadata": {
    "id": "fZ-SvbUvUh3z"
   },
   "source": [
    "**Data contains lots of null values and need to be clean or replace using Imputation Techniques**"
   ]
  },
  {
   "cell_type": "code",
   "execution_count": null,
   "metadata": {
    "id": "cEnOi4NAxQ-V"
   },
   "outputs": [],
   "source": [
    "del msno"
   ]
  },
  {
   "cell_type": "markdown",
   "metadata": {
    "id": "2ks6Uj3fFtLD"
   },
   "source": [
    "**Checking Duplicate Data**"
   ]
  },
  {
   "cell_type": "code",
   "execution_count": null,
   "metadata": {
    "colab": {
     "base_uri": "https://localhost:8080/"
    },
    "id": "xpSbt8IrFsYd",
    "outputId": "3b4a29d9-d4b4-499d-caf9-75291a447840"
   },
   "outputs": [
    {
     "name": "stdout",
     "output_type": "stream",
     "text": [
      "The no. of duplicates in the data: 0\n"
     ]
    }
   ],
   "source": [
    "columns_without_id = [col for col in application_train.columns if col!='SK_ID_CURR']\n",
    "application_train[application_train.duplicated(subset = columns_without_id, keep=False)]\n",
    "print('The no. of duplicates in the data:',application_train[application_train.duplicated(subset = columns_without_id, keep=False)].shape[0])\n",
    "del columns_without_id"
   ]
  },
  {
   "cell_type": "markdown",
   "metadata": {
    "id": "xW1ODIGbU3xn"
   },
   "source": [
    "**There is No Duplication in data**"
   ]
  },
  {
   "cell_type": "markdown",
   "metadata": {
    "id": "jIXs-wTPHvVr"
   },
   "source": [
    "#### **Data Visualization**"
   ]
  },
  {
   "cell_type": "markdown",
   "metadata": {
    "id": "1tZbXNemiuYF"
   },
   "source": [
    "Type of Loan - Cash or Revolving"
   ]
  },
  {
   "cell_type": "code",
   "execution_count": null,
   "metadata": {
    "colab": {
     "base_uri": "https://localhost:8080/"
    },
    "id": "okGTH2VPRaCZ",
    "outputId": "9eb223a1-9fbf-4637-f43d-f84fcf975bdd"
   },
   "outputs": [
    {
     "data": {
      "text/plain": [
       "Cash loans         278232\n",
       "Revolving loans     29279\n",
       "Name: NAME_CONTRACT_TYPE, dtype: int64"
      ]
     },
     "execution_count": 19,
     "metadata": {
      "tags": []
     },
     "output_type": "execute_result"
    }
   ],
   "source": [
    "application_train.NAME_CONTRACT_TYPE.value_counts()"
   ]
  },
  {
   "cell_type": "code",
   "execution_count": null,
   "metadata": {
    "colab": {
     "base_uri": "https://localhost:8080/"
    },
    "id": "OSwP-AqYwgS_",
    "outputId": "fc971475-f2fe-47dc-cde4-32fd2690dbd5"
   },
   "outputs": [
    {
     "data": {
      "image/png": "[encoded data removed]",
      "text/plain": [
       "<Figure size 360x288 with 1 Axes>"
      ]
     },
     "metadata": {
      "needs_background": "light",
      "tags": []
     },
     "output_type": "display_data"
    }
   ],
   "source": [
    "fig , ax = plt.subplots(figsize=(5,4))\n",
    "ax = sns.countplot(x = application_train.NAME_CONTRACT_TYPE, data = application_train, order = application_train.NAME_CONTRACT_TYPE.value_counts().index, palette = \"bright\")\n",
    "for i in ax.patches:\n",
    "    percentage = '{:.1f}%'.format(100*i.get_height()/len(application_train.NAME_CONTRACT_TYPE))\n",
    "    x = i.get_x()+i.get_width()-0.5\n",
    "    y = i.get_height()\n",
    "    ax.annotate(percentage, (x, y))\n",
    "plt.title(\"Distrbution in NAME CONTRACT TYPE\")\n",
    "plt.xlabel(\"NAME CONTRACT TYPE\")\n",
    "plt.ylabel(\"No. of Entries\");"
   ]
  },
  {
   "cell_type": "markdown",
   "metadata": {
    "id": "1a4LVKTsVH0r"
   },
   "source": [
    "**Prefer Cash Loan instead of Revolving Loan**"
   ]
  },
  {
   "cell_type": "markdown",
   "metadata": {
    "id": "u1CffcP6i0rV"
   },
   "source": [
    "Default or Not"
   ]
  },
  {
   "cell_type": "code",
   "execution_count": null,
   "metadata": {
    "colab": {
     "base_uri": "https://localhost:8080/"
    },
    "id": "EZ_mE3IRH0pM",
    "outputId": "fd51b43f-b9f9-47cc-969e-bf4c254a7a2a"
   },
   "outputs": [
    {
     "data": {
      "text/plain": [
       "0    282686\n",
       "1     24825\n",
       "Name: TARGET, dtype: int64"
      ]
     },
     "execution_count": 21,
     "metadata": {
      "tags": []
     },
     "output_type": "execute_result"
    }
   ],
   "source": [
    "application_train.TARGET.value_counts()"
   ]
  },
  {
   "cell_type": "code",
   "execution_count": null,
   "metadata": {
    "colab": {
     "base_uri": "https://localhost:8080/"
    },
    "id": "FldTEsVgwqvj",
    "outputId": "6a2f0b82-cbaf-42a3-b93e-75ad1b1c62ef"
   },
   "outputs": [
    {
     "data": {
      "image/png": "[encoded data removed]",
      "text/plain": [
       "<Figure size 360x288 with 1 Axes>"
      ]
     },
     "metadata": {
      "needs_background": "light",
      "tags": []
     },
     "output_type": "display_data"
    }
   ],
   "source": [
    "fig , ax = plt.subplots(figsize=(5,4))\n",
    "ax = sns.countplot(x = application_train.TARGET, data = application_train, order = application_train.TARGET.value_counts().index, palette = \"bright\")\n",
    "for i in ax.patches:\n",
    "    percentage = '{:.1f}%'.format(100*i.get_height()/len(application_train.TARGET))\n",
    "    x = i.get_x()+i.get_width()-0.5\n",
    "    y = i.get_height()\n",
    "    ax.annotate(percentage, (x, y))\n",
    "plt.title(\"Distrbution in TARGETE\")\n",
    "plt.xlabel(\"TARGET\")\n",
    "plt.ylabel(\"No. of Entries\");"
   ]
  },
  {
   "cell_type": "markdown",
   "metadata": {
    "id": "GJOn5zW5VTTr"
   },
   "source": [
    "**Data seems highly imblanced and need to be balance**"
   ]
  },
  {
   "cell_type": "markdown",
   "metadata": {
    "id": "0EDDnPL7i4c3"
   },
   "source": [
    "Gender"
   ]
  },
  {
   "cell_type": "code",
   "execution_count": null,
   "metadata": {
    "colab": {
     "base_uri": "https://localhost:8080/"
    },
    "id": "MKAHHpJcH0rt",
    "outputId": "9772c8a0-e553-41cc-a401-bc0592b44dbc"
   },
   "outputs": [
    {
     "data": {
      "text/plain": [
       "F      202448\n",
       "M      105059\n",
       "XNA         4\n",
       "Name: CODE_GENDER, dtype: int64"
      ]
     },
     "execution_count": 23,
     "metadata": {
      "tags": []
     },
     "output_type": "execute_result"
    }
   ],
   "source": [
    "application_train.CODE_GENDER.value_counts()"
   ]
  },
  {
   "cell_type": "code",
   "execution_count": null,
   "metadata": {
    "colab": {
     "base_uri": "https://localhost:8080/"
    },
    "id": "e5j0VjQQwrLb",
    "outputId": "3208bf82-6f7f-4072-b84b-34891e70ada8"
   },
   "outputs": [
    {
     "data": {
      "image/png": "[encoded data removed]",
      "text/plain": [
       "<Figure size 360x288 with 1 Axes>"
      ]
     },
     "metadata": {
      "needs_background": "light",
      "tags": []
     },
     "output_type": "display_data"
    }
   ],
   "source": [
    "fig , ax = plt.subplots(figsize=(5,4))\n",
    "ax = sns.countplot(x = application_train.CODE_GENDER, data = application_train, order = application_train.CODE_GENDER.value_counts().index, palette = \"bright\")\n",
    "for i in ax.patches:\n",
    "    percentage = '{:.1f}%'.format(100*i.get_height()/len(application_train.CODE_GENDER))\n",
    "    x = i.get_x()+i.get_width()-0.5\n",
    "    y = i.get_height()\n",
    "    ax.annotate(percentage, (x, y))\n",
    "plt.title(\"Distrbution in TARGETE\")\n",
    "plt.xlabel(\"TARGET\")\n",
    "plt.ylabel(\"No. of Entries\");"
   ]
  },
  {
   "cell_type": "markdown",
   "metadata": {
    "id": "kkQRQmftjyYm"
   },
   "source": [
    "Gender x Target"
   ]
  },
  {
   "cell_type": "code",
   "execution_count": null,
   "metadata": {
    "id": "jMMYtFkTklS8"
   },
   "outputs": [],
   "source": []
  },
  {
   "cell_type": "markdown",
   "metadata": {
    "id": "8B8y31nx78SX"
   },
   "source": [
    "Age Distribution"
   ]
  },
  {
   "cell_type": "code",
   "execution_count": null,
   "metadata": {
    "colab": {
     "base_uri": "https://localhost:8080/"
    },
    "id": "CkqC7qX97_R7",
    "outputId": "b304a801-ac9c-4c5b-bf0a-77fcd699e5e2"
   },
   "outputs": [
    {
     "data": {
      "text/plain": [
       "-13749    43\n",
       "-13481    42\n",
       "-18248    41\n",
       "-10020    41\n",
       "-15771    40\n",
       "          ..\n",
       "-25032     1\n",
       "-7956      1\n",
       "-8001      1\n",
       "-7861      1\n",
       "-24894     1\n",
       "Name: DAYS_BIRTH, Length: 17460, dtype: int64"
      ]
     },
     "execution_count": 25,
     "metadata": {
      "tags": []
     },
     "output_type": "execute_result"
    }
   ],
   "source": [
    "application_train.DAYS_BIRTH.value_counts()"
   ]
  },
  {
   "cell_type": "code",
   "execution_count": null,
   "metadata": {
    "colab": {
     "base_uri": "https://localhost:8080/"
    },
    "id": "Rt2GcPvnhuTC",
    "outputId": "e45dcd00-58a7-4ccc-c013-4b4c2605a36f"
   },
   "outputs": [
    {
     "data": {
      "text/plain": [
       "<Figure size 864x360 with 0 Axes>"
      ]
     },
     "metadata": {
      "tags": []
     },
     "output_type": "display_data"
    },
    {
     "data": {
      "image/png": "[encoded data removed]",
      "text/plain": [
       "<Figure size 444x360 with 1 Axes>"
      ]
     },
     "metadata": {
      "needs_background": "light",
      "tags": []
     },
     "output_type": "display_data"
    }
   ],
   "source": [
    "plt.figure(figsize = (12,5))\n",
    "sns.displot(x = ((application_train.DAYS_BIRTH)/(-365)), hue = 'CODE_GENDER', kde = True, data = application_train, \n",
    "            multiple = 'stack', alpha = 0.8, palette = \"bright\")\n",
    "plt.title('Age Distribution Based on Gender')\n",
    "plt.xlabel(\"Age\")\n",
    "plt.ylabel(\"No of People\");"
   ]
  },
  {
   "cell_type": "markdown",
   "metadata": {
    "id": "_aYPz5m_klnM"
   },
   "source": [
    "Current Children Count"
   ]
  },
  {
   "cell_type": "code",
   "execution_count": null,
   "metadata": {
    "colab": {
     "base_uri": "https://localhost:8080/"
    },
    "id": "gZdMBZkekqxh",
    "outputId": "b6ee7df2-0ff9-4898-c73c-58ef97997d6f"
   },
   "outputs": [
    {
     "data": {
      "text/plain": [
       "0     215371\n",
       "1      61119\n",
       "2      26749\n",
       "3       3717\n",
       "4        429\n",
       "5         84\n",
       "6         21\n",
       "7          7\n",
       "14         3\n",
       "19         2\n",
       "12         2\n",
       "10         2\n",
       "9          2\n",
       "8          2\n",
       "11         1\n",
       "Name: CNT_CHILDREN, dtype: int64"
      ]
     },
     "execution_count": 27,
     "metadata": {
      "tags": []
     },
     "output_type": "execute_result"
    }
   ],
   "source": [
    "application_train.CNT_CHILDREN.value_counts()"
   ]
  },
  {
   "cell_type": "code",
   "execution_count": null,
   "metadata": {
    "colab": {
     "base_uri": "https://localhost:8080/"
    },
    "id": "_nHV_UNCiuGr",
    "outputId": "5d384055-4f6b-4313-91a5-3d724c3243c2"
   },
   "outputs": [
    {
     "data": {
      "image/png": "[encoded data removed]",
      "text/plain": [
       "<Figure size 1080x360 with 1 Axes>"
      ]
     },
     "metadata": {
      "needs_background": "light",
      "tags": []
     },
     "output_type": "display_data"
    }
   ],
   "source": [
    "plt.figure(figsize = (15,5))\n",
    "ax = sns.countplot(x = application_train.CNT_CHILDREN ,data=application_train, palette = \"bright\")\n",
    "for i in ax.patches:\n",
    "    percentage = '{:.1f}%'.format(100*i.get_height()/len(application_train.CNT_CHILDREN))\n",
    "    x = i.get_x()+i.get_width()-0.8\n",
    "    y = i.get_height()\n",
    "    ax.annotate(percentage, (x, y))\n",
    "plt.title('No. of Children')\n",
    "plt.xlabel(\"Children Count\")\n",
    "plt.ylabel(\"No. of Entries\");"
   ]
  },
  {
   "cell_type": "markdown",
   "metadata": {
    "id": "K2SFtTEqi5-e"
   },
   "source": [
    "Income Distribution"
   ]
  },
  {
   "cell_type": "code",
   "execution_count": null,
   "metadata": {
    "colab": {
     "base_uri": "https://localhost:8080/"
    },
    "id": "o1KzcwczH0u2",
    "outputId": "101ecbd4-7f07-4fa7-cc10-92141aeabb17"
   },
   "outputs": [
    {
     "data": {
      "text/plain": [
       "135000.0    35750\n",
       "112500.0    31019\n",
       "157500.0    26556\n",
       "180000.0    24719\n",
       "90000.0     22483\n",
       "            ...  \n",
       "101119.5        1\n",
       "79425.0         1\n",
       "101128.5        1\n",
       "202275.0        1\n",
       "262174.5        1\n",
       "Name: AMT_INCOME_TOTAL, Length: 2548, dtype: int64"
      ]
     },
     "execution_count": 29,
     "metadata": {
      "tags": []
     },
     "output_type": "execute_result"
    }
   ],
   "source": [
    "application_train.AMT_INCOME_TOTAL.value_counts()"
   ]
  },
  {
   "cell_type": "code",
   "execution_count": null,
   "metadata": {
    "id": "QNZcSAbutMeo"
   },
   "outputs": [],
   "source": []
  },
  {
   "cell_type": "markdown",
   "metadata": {
    "id": "5CpHqQSxkBRr"
   },
   "source": [
    "Credit Amount Distribution"
   ]
  },
  {
   "cell_type": "code",
   "execution_count": null,
   "metadata": {
    "colab": {
     "base_uri": "https://localhost:8080/"
    },
    "id": "xjhviODrkJWH",
    "outputId": "4944316e-afc9-4f47-e6aa-3d8b089d48ca"
   },
   "outputs": [
    {
     "data": {
      "text/plain": [
       "450000.0     9709\n",
       "675000.0     8877\n",
       "225000.0     8162\n",
       "180000.0     7342\n",
       "270000.0     7241\n",
       "             ... \n",
       "827100.0        1\n",
       "413442.0        1\n",
       "1652458.5       1\n",
       "825853.5        1\n",
       "2097058.5       1\n",
       "Name: AMT_CREDIT, Length: 5603, dtype: int64"
      ]
     },
     "execution_count": 30,
     "metadata": {
      "tags": []
     },
     "output_type": "execute_result"
    }
   ],
   "source": [
    "application_train.AMT_CREDIT.value_counts()"
   ]
  },
  {
   "cell_type": "code",
   "execution_count": null,
   "metadata": {
    "id": "BCALJ8hOmbED"
   },
   "outputs": [],
   "source": []
  },
  {
   "cell_type": "markdown",
   "metadata": {
    "id": "6TmNuxgJ6xCr"
   },
   "source": [
    "Type of Suite"
   ]
  },
  {
   "cell_type": "code",
   "execution_count": null,
   "metadata": {
    "colab": {
     "base_uri": "https://localhost:8080/"
    },
    "id": "DYMsS_bT63a3",
    "outputId": "2edc3944-fff4-422d-e097-a31e232bc171"
   },
   "outputs": [
    {
     "data": {
      "text/plain": [
       "Unaccompanied      248526\n",
       "Family              40149\n",
       "Spouse, partner     11370\n",
       "Children             3267\n",
       "Other_B              1770\n",
       "Other_A               866\n",
       "Group of people       271\n",
       "Name: NAME_TYPE_SUITE, dtype: int64"
      ]
     },
     "execution_count": 31,
     "metadata": {
      "tags": []
     },
     "output_type": "execute_result"
    }
   ],
   "source": [
    "application_train.NAME_TYPE_SUITE.value_counts()"
   ]
  },
  {
   "cell_type": "code",
   "execution_count": null,
   "metadata": {
    "colab": {
     "base_uri": "https://localhost:8080/"
    },
    "id": "KK3RvYhCmcKU",
    "outputId": "1608f9ce-2c20-4bb7-da45-902c3064fd2f"
   },
   "outputs": [
    {
     "data": {
      "image/png": "[encoded data removed]",
      "text/plain": [
       "<Figure size 1080x360 with 1 Axes>"
      ]
     },
     "metadata": {
      "needs_background": "light",
      "tags": []
     },
     "output_type": "display_data"
    }
   ],
   "source": [
    "plt.figure(figsize = (15,5))\n",
    "ax = sns.countplot(x = application_train.NAME_TYPE_SUITE ,data=application_train, palette = \"bright\")\n",
    "for i in ax.patches:\n",
    "    percentage = '{:.1f}%'.format(100*i.get_height()/len(application_train.NAME_TYPE_SUITE))\n",
    "    x = i.get_x()+i.get_width()-0.6\n",
    "    y = i.get_height()\n",
    "    ax.annotate(percentage, (x, y))\n",
    "plt.title('Type of Suite')\n",
    "plt.xlabel(\"Type\")\n",
    "plt.ylabel(\"No. of Entries\");"
   ]
  },
  {
   "cell_type": "code",
   "execution_count": null,
   "metadata": {
    "colab": {
     "base_uri": "https://localhost:8080/"
    },
    "id": "dOBPz4GS688Q",
    "outputId": "310af3dd-f7d1-40a7-c770-ce29c6e91c81"
   },
   "outputs": [
    {
     "data": {
      "image/png": "[encoded data removed]",
      "text/plain": [
       "<Figure size 1080x360 with 1 Axes>"
      ]
     },
     "metadata": {
      "needs_background": "light",
      "tags": []
     },
     "output_type": "display_data"
    }
   ],
   "source": [
    "plt.figure(figsize = (15,5))\n",
    "ax = sns.countplot(x = application_train.NAME_TYPE_SUITE, data = application_train, palette = \"bright\", hue = \"TARGET\")\n",
    "plt.title('Type of Suite and Target')\n",
    "plt.xlabel(\"Type\")\n",
    "plt.ylabel(\"No. of Entries\");"
   ]
  },
  {
   "cell_type": "code",
   "execution_count": null,
   "metadata": {
    "colab": {
     "base_uri": "https://localhost:8080/"
    },
    "id": "Q9eNJClBsGwW",
    "outputId": "bc9b267d-d303-461b-d5ff-7c067ba72c24"
   },
   "outputs": [
    {
     "data": {
      "image/png": "[encoded data removed]",
      "text/plain": [
       "<Figure size 1080x360 with 1 Axes>"
      ]
     },
     "metadata": {
      "needs_background": "light",
      "tags": []
     },
     "output_type": "display_data"
    }
   ],
   "source": [
    "plt.figure(figsize = (15,5))\n",
    "ax = sns.countplot(x = application_train.NAME_TYPE_SUITE, data = application_train, palette = \"bright\", hue = \"CODE_GENDER\")\n",
    "plt.title('Type of Suite and Gender')\n",
    "plt.xlabel(\"Type\")\n",
    "plt.ylabel(\"No. of Entries\");"
   ]
  },
  {
   "cell_type": "markdown",
   "metadata": {
    "id": "Ziz2y4Da7CHd"
   },
   "source": [
    "Occupation"
   ]
  },
  {
   "cell_type": "code",
   "execution_count": null,
   "metadata": {
    "colab": {
     "base_uri": "https://localhost:8080/"
    },
    "id": "ZZCApU0r7Eoe",
    "outputId": "11dc1d11-b12e-4be3-c4b1-6dcb33810d98"
   },
   "outputs": [
    {
     "data": {
      "text/plain": [
       "Working                 158774\n",
       "Commercial associate     71617\n",
       "Pensioner                55362\n",
       "State servant            21703\n",
       "Unemployed                  22\n",
       "Student                     18\n",
       "Businessman                 10\n",
       "Maternity leave              5\n",
       "Name: NAME_INCOME_TYPE, dtype: int64"
      ]
     },
     "execution_count": 35,
     "metadata": {
      "tags": []
     },
     "output_type": "execute_result"
    }
   ],
   "source": [
    "application_train.NAME_INCOME_TYPE .value_counts()"
   ]
  },
  {
   "cell_type": "code",
   "execution_count": null,
   "metadata": {
    "colab": {
     "base_uri": "https://localhost:8080/"
    },
    "id": "yIcBPvZ9nZyy",
    "outputId": "77649a5f-1cde-4c7c-bbe2-865436a42287"
   },
   "outputs": [
    {
     "data": {
      "image/png": "[encoded data removed]",
      "text/plain": [
       "<Figure size 1080x360 with 1 Axes>"
      ]
     },
     "metadata": {
      "needs_background": "light",
      "tags": []
     },
     "output_type": "display_data"
    }
   ],
   "source": [
    "plt.figure(figsize = (15,5))\n",
    "ax = sns.countplot(x = application_train.NAME_INCOME_TYPE ,data=application_train, palette = \"bright\")\n",
    "for i in ax.patches:\n",
    "    percentage = '{:.1f}%'.format(100*i.get_height()/len(application_train.NAME_INCOME_TYPE))\n",
    "    x = i.get_x()+i.get_width()-0.5\n",
    "    y = i.get_height()\n",
    "    ax.annotate(percentage, (x, y))\n",
    "plt.title('Occupation')\n",
    "plt.xlabel(\"Type\")\n",
    "plt.ylabel(\"No. of Entries\");"
   ]
  },
  {
   "cell_type": "code",
   "execution_count": null,
   "metadata": {
    "colab": {
     "base_uri": "https://localhost:8080/"
    },
    "id": "szRqsXk57ICz",
    "outputId": "8fd1b6b7-c84e-4282-a106-f9096c7b9a14"
   },
   "outputs": [
    {
     "data": {
      "image/png": "[encoded data removed]",
      "text/plain": [
       "<Figure size 1080x360 with 1 Axes>"
      ]
     },
     "metadata": {
      "needs_background": "light",
      "tags": []
     },
     "output_type": "display_data"
    }
   ],
   "source": [
    "plt.figure(figsize = (15,5))\n",
    "ax = sns.countplot(x = application_train.NAME_INCOME_TYPE, data = application_train, palette = \"bright\", hue = \"TARGET\")\n",
    "plt.title('Occupation and Target')\n",
    "plt.xlabel(\"Type\")\n",
    "plt.ylabel(\"No. of Entries\");"
   ]
  },
  {
   "cell_type": "code",
   "execution_count": null,
   "metadata": {
    "colab": {
     "base_uri": "https://localhost:8080/"
    },
    "id": "73Gu2Kq1rrQG",
    "outputId": "700996ae-26b6-4e2d-d632-1c36cffa7b03"
   },
   "outputs": [
    {
     "data": {
      "image/png": "[encoded data removed]",
      "text/plain": [
       "<Figure size 1080x360 with 1 Axes>"
      ]
     },
     "metadata": {
      "needs_background": "light",
      "tags": []
     },
     "output_type": "display_data"
    }
   ],
   "source": [
    "plt.figure(figsize = (15,5))\n",
    "ax = sns.countplot(x = application_train.NAME_INCOME_TYPE, data = application_train, palette = \"bright\", hue = \"CODE_GENDER\")\n",
    "plt.title('Occupation and Gender')\n",
    "plt.xlabel(\"Type\")\n",
    "plt.ylabel(\"No. of Entries\");"
   ]
  },
  {
   "cell_type": "markdown",
   "metadata": {
    "id": "WGvKKRDp8LGN"
   },
   "source": [
    "Time Period of Current Employment"
   ]
  },
  {
   "cell_type": "code",
   "execution_count": null,
   "metadata": {
    "colab": {
     "base_uri": "https://localhost:8080/"
    },
    "id": "nvX2rKL38OjV",
    "outputId": "22b57db9-7219-49eb-cf38-4595de18525c"
   },
   "outputs": [
    {
     "data": {
      "text/plain": [
       " 365243    55374\n",
       "-200         156\n",
       "-224         152\n",
       "-199         151\n",
       "-230         151\n",
       "           ...  \n",
       "-11115         1\n",
       "-11371         1\n",
       "-11883         1\n",
       "-13536         1\n",
       "-8795          1\n",
       "Name: DAYS_EMPLOYED, Length: 12574, dtype: int64"
      ]
     },
     "execution_count": 39,
     "metadata": {
      "tags": []
     },
     "output_type": "execute_result"
    }
   ],
   "source": [
    "application_train.DAYS_EMPLOYED.value_counts()"
   ]
  },
  {
   "cell_type": "code",
   "execution_count": null,
   "metadata": {
    "colab": {
     "base_uri": "https://localhost:8080/"
    },
    "id": "e-XFZefwoJkW",
    "outputId": "651dd584-40c1-4fdf-b8f5-0f4913e06eb6"
   },
   "outputs": [
    {
     "data": {
      "text/plain": [
       "<Figure size 864x360 with 0 Axes>"
      ]
     },
     "metadata": {
      "tags": []
     },
     "output_type": "display_data"
    },
    {
     "data": {
      "image/png": "[encoded data removed]",
      "text/plain": [
       "<Figure size 444x360 with 1 Axes>"
      ]
     },
     "metadata": {
      "needs_background": "light",
      "tags": []
     },
     "output_type": "display_data"
    }
   ],
   "source": [
    "plt.figure(figsize = (12,5))\n",
    "sns.displot(x = ((application_train.DAYS_EMPLOYED)/(-365)), hue = 'CODE_GENDER', kde = True, data = application_train, \n",
    "            multiple = 'stack', alpha = 0.8, palette = \"bright\")\n",
    "plt.title('Employed Time Based on Gender')\n",
    "plt.xlabel(\"Time in years\")\n",
    "plt.ylabel(\"No of People\");"
   ]
  },
  {
   "cell_type": "markdown",
   "metadata": {
    "id": "NMgBQf1T-uyI"
   },
   "source": [
    "FIXXING ERROR IN DAYS EMPLOYED COLUMN"
   ]
  },
  {
   "cell_type": "code",
   "execution_count": null,
   "metadata": {
    "colab": {
     "base_uri": "https://localhost:8080/"
    },
    "id": "hYEgjuq--04D",
    "outputId": "5b58fa36-b918-462e-d07d-d2f63f1dc72a"
   },
   "outputs": [
    {
     "name": "stdout",
     "output_type": "stream",
     "text": [
      "The no of errors are : 55374\n"
     ]
    }
   ],
   "source": [
    "error = application_train[application_train['DAYS_EMPLOYED'] == 365243]\n",
    "print('The no of errors are :', len(error))\n",
    "(error['TARGET'].value_counts()/len(error))*100\n",
    "del error"
   ]
  },
  {
   "cell_type": "code",
   "execution_count": null,
   "metadata": {
    "id": "t-7UHujb_An5"
   },
   "outputs": [],
   "source": [
    "# Create an error flag column\n",
    "application_train['DAYS_EMPLOYED_ERROR'] = application_train[\"DAYS_EMPLOYED\"] == 365243\n",
    "# Replace the error values with nan\n",
    "application_train['DAYS_EMPLOYED'].replace({365243: np.nan}, inplace = True)"
   ]
  },
  {
   "cell_type": "code",
   "execution_count": null,
   "metadata": {
    "colab": {
     "base_uri": "https://localhost:8080/"
    },
    "id": "Wth2EE2U_zQr",
    "outputId": "b6aa2d32-9e42-4120-835f-feea1bf49267"
   },
   "outputs": [
    {
     "data": {
      "text/plain": [
       "-200.0      156\n",
       "-224.0      152\n",
       "-230.0      151\n",
       "-199.0      151\n",
       "-212.0      150\n",
       "           ... \n",
       "-8868.0       1\n",
       "-13006.0      1\n",
       "-10261.0      1\n",
       "-14079.0      1\n",
       "-9062.0       1\n",
       "Name: DAYS_EMPLOYED, Length: 12573, dtype: int64"
      ]
     },
     "execution_count": 43,
     "metadata": {
      "tags": []
     },
     "output_type": "execute_result"
    }
   ],
   "source": [
    "application_train.DAYS_EMPLOYED.value_counts()"
   ]
  },
  {
   "cell_type": "code",
   "execution_count": null,
   "metadata": {
    "colab": {
     "base_uri": "https://localhost:8080/"
    },
    "id": "6j8picbboYrN",
    "outputId": "b12761f6-93ac-461b-89a8-4ddb0f9527c3"
   },
   "outputs": [
    {
     "data": {
      "text/plain": [
       "<Figure size 864x360 with 0 Axes>"
      ]
     },
     "metadata": {
      "tags": []
     },
     "output_type": "display_data"
    },
    {
     "data": {
      "image/png": "[encoded data removed]",
      "text/plain": [
       "<Figure size 444x360 with 1 Axes>"
      ]
     },
     "metadata": {
      "needs_background": "light",
      "tags": []
     },
     "output_type": "display_data"
    }
   ],
   "source": [
    "plt.figure(figsize = (12,5))\n",
    "sns.displot(x = ((application_train.DAYS_EMPLOYED)/(-365)), hue = 'CODE_GENDER', kde = True, data = application_train, \n",
    "            multiple = 'stack', alpha = 0.8, palette = \"bright\")\n",
    "plt.title('Distribution of Employed Time Based on Gender')\n",
    "plt.xlabel(\"Time in years\")\n",
    "plt.ylabel(\"No of People\");"
   ]
  },
  {
   "cell_type": "code",
   "execution_count": null,
   "metadata": {
    "colab": {
     "base_uri": "https://localhost:8080/"
    },
    "id": "hfM717kIo2Qi",
    "outputId": "ad9bdd2d-bb75-4ecb-9152-8c2afc36041e"
   },
   "outputs": [
    {
     "data": {
      "text/plain": [
       "<Figure size 864x360 with 0 Axes>"
      ]
     },
     "metadata": {
      "tags": []
     },
     "output_type": "display_data"
    },
    {
     "data": {
      "image/png": "[encoded data removed]",
      "text/plain": [
       "<Figure size 407x360 with 1 Axes>"
      ]
     },
     "metadata": {
      "needs_background": "light",
      "tags": []
     },
     "output_type": "display_data"
    }
   ],
   "source": [
    "plt.figure(figsize = (12,5))\n",
    "sns.displot(x = ((application_train.DAYS_EMPLOYED)/(-365)), hue = 'TARGET', kde = True, data = application_train, \n",
    "            multiple = 'stack', alpha = 0.8, palette = \"bright\")\n",
    "plt.title('Distribution of Employed Time Based on Target');\n",
    "plt.xlabel(\"Time in years\");\n",
    "plt.ylabel(\"No of People\");"
   ]
  },
  {
   "cell_type": "markdown",
   "metadata": {
    "id": "_xdam5mN7ak7"
   },
   "source": [
    "Education"
   ]
  },
  {
   "cell_type": "code",
   "execution_count": null,
   "metadata": {
    "colab": {
     "base_uri": "https://localhost:8080/"
    },
    "id": "rtqy5aW67cnE",
    "outputId": "d86b50dc-cfd9-463c-a374-d9e171600d67"
   },
   "outputs": [
    {
     "data": {
      "text/plain": [
       "Secondary / secondary special    218391\n",
       "Higher education                  74863\n",
       "Incomplete higher                 10277\n",
       "Lower secondary                    3816\n",
       "Academic degree                     164\n",
       "Name: NAME_EDUCATION_TYPE, dtype: int64"
      ]
     },
     "execution_count": 46,
     "metadata": {
      "tags": []
     },
     "output_type": "execute_result"
    }
   ],
   "source": [
    "application_train.NAME_EDUCATION_TYPE.value_counts()"
   ]
  },
  {
   "cell_type": "code",
   "execution_count": null,
   "metadata": {
    "colab": {
     "base_uri": "https://localhost:8080/"
    },
    "id": "y9kjOuK07e1T",
    "outputId": "36fdab4f-b0d8-4599-aafd-1eafc75d1677"
   },
   "outputs": [
    {
     "data": {
      "image/png": "[encoded data removed]",
      "text/plain": [
       "<Figure size 1080x360 with 1 Axes>"
      ]
     },
     "metadata": {
      "needs_background": "light",
      "tags": []
     },
     "output_type": "display_data"
    }
   ],
   "source": [
    "plt.figure(figsize = (15,5))\n",
    "ax = sns.countplot(x = application_train.NAME_EDUCATION_TYPE ,data=application_train, palette = \"bright\")\n",
    "for i in ax.patches:\n",
    "    percentage = '{:.1f}%'.format(100*i.get_height()/len(application_train.NAME_EDUCATION_TYPE))\n",
    "    x = i.get_x()+i.get_width()-0.5\n",
    "    y = i.get_height()\n",
    "    ax.annotate(percentage, (x, y))\n",
    "plt.title('Type of Education');\n",
    "plt.xlabel(\"Type\");\n",
    "plt.ylabel(\"No. of Entries\");"
   ]
  },
  {
   "cell_type": "code",
   "execution_count": null,
   "metadata": {
    "colab": {
     "base_uri": "https://localhost:8080/"
    },
    "id": "YwdLuPpPpu12",
    "outputId": "301037ad-e2ff-40a1-d62e-e81916882155"
   },
   "outputs": [
    {
     "data": {
      "image/png": "[encoded data removed]",
      "text/plain": [
       "<Figure size 1080x360 with 1 Axes>"
      ]
     },
     "metadata": {
      "needs_background": "light",
      "tags": []
     },
     "output_type": "display_data"
    }
   ],
   "source": [
    "plt.figure(figsize = (15,5))\n",
    "ax = sns.countplot(x = application_train.NAME_EDUCATION_TYPE ,data=application_train, palette = \"bright\", hue = \"TARGET\")\n",
    "plt.title('Type of Education and Target');\n",
    "plt.xlabel(\"Type\");\n",
    "plt.ylabel(\"No. of Entries\");"
   ]
  },
  {
   "cell_type": "code",
   "execution_count": null,
   "metadata": {
    "colab": {
     "base_uri": "https://localhost:8080/"
    },
    "id": "7WVhZZxjpwuH",
    "outputId": "63e7ef5c-4e7f-439b-ea96-197318ccd5b4"
   },
   "outputs": [
    {
     "data": {
      "image/png": "[encoded data removed]",
      "text/plain": [
       "<Figure size 1080x360 with 1 Axes>"
      ]
     },
     "metadata": {
      "needs_background": "light",
      "tags": []
     },
     "output_type": "display_data"
    }
   ],
   "source": [
    "plt.figure(figsize = (15,5))\n",
    "ax = sns.countplot(x = application_train.NAME_EDUCATION_TYPE ,data=application_train, palette = \"bright\", hue = \"CODE_GENDER\")\n",
    "plt.title('Type of Education and Gender');\n",
    "plt.xlabel(\"Type\");\n",
    "plt.ylabel(\"No. of Entries\");"
   ]
  },
  {
   "cell_type": "markdown",
   "metadata": {
    "id": "6P4WT0i47e_a"
   },
   "source": [
    "Housing Status"
   ]
  },
  {
   "cell_type": "code",
   "execution_count": null,
   "metadata": {
    "colab": {
     "base_uri": "https://localhost:8080/"
    },
    "id": "WyQ8UhNv7hqv",
    "outputId": "9b299963-6ace-426b-c57f-ba1631f2cdea"
   },
   "outputs": [
    {
     "data": {
      "text/plain": [
       "House / apartment      272868\n",
       "With parents            14840\n",
       "Municipal apartment     11183\n",
       "Rented apartment         4881\n",
       "Office apartment         2617\n",
       "Co-op apartment          1122\n",
       "Name: NAME_HOUSING_TYPE, dtype: int64"
      ]
     },
     "execution_count": 50,
     "metadata": {
      "tags": []
     },
     "output_type": "execute_result"
    }
   ],
   "source": [
    "application_train.NAME_HOUSING_TYPE.value_counts()"
   ]
  },
  {
   "cell_type": "code",
   "execution_count": null,
   "metadata": {
    "colab": {
     "base_uri": "https://localhost:8080/"
    },
    "id": "mBGcu8AwpIXM",
    "outputId": "253b4413-85f1-4e26-e837-90ae73c4f6a7"
   },
   "outputs": [
    {
     "data": {
      "image/png": "[encoded data removed]",
      "text/plain": [
       "<Figure size 1080x360 with 1 Axes>"
      ]
     },
     "metadata": {
      "needs_background": "light",
      "tags": []
     },
     "output_type": "display_data"
    }
   ],
   "source": [
    "plt.figure(figsize = (15,5))\n",
    "ax = sns.countplot(x = application_train.NAME_HOUSING_TYPE ,data=application_train, palette = \"bright\")\n",
    "for i in ax.patches:\n",
    "    percentage = '{:.1f}%'.format(100*i.get_height()/len(application_train.NAME_HOUSING_TYPE))\n",
    "    x = i.get_x()+i.get_width()-0.5\n",
    "    y = i.get_height()\n",
    "    ax.annotate(percentage, (x, y))\n",
    "plt.title('Type of Housing');\n",
    "plt.xlabel(\"Type\");\n",
    "plt.ylabel(\"No. of Entries\");"
   ]
  },
  {
   "cell_type": "code",
   "execution_count": null,
   "metadata": {
    "colab": {
     "base_uri": "https://localhost:8080/"
    },
    "id": "qXKyQBCIprGI",
    "outputId": "aa89dba6-8c2c-470b-e9c9-b5d628640fac"
   },
   "outputs": [
    {
     "data": {
      "image/png": "[encoded data removed]",
      "text/plain": [
       "<Figure size 1080x360 with 1 Axes>"
      ]
     },
     "metadata": {
      "needs_background": "light",
      "tags": []
     },
     "output_type": "display_data"
    }
   ],
   "source": [
    "plt.figure(figsize = (15,5))\n",
    "ax = sns.countplot(x = application_train.NAME_HOUSING_TYPE ,data=application_train, palette = \"bright\", hue = \"TARGET\")\n",
    "plt.title('Type of Housing and Target');\n",
    "plt.xlabel(\"Type\");\n",
    "plt.ylabel(\"No. of Entries\");"
   ]
  },
  {
   "cell_type": "markdown",
   "metadata": {
    "id": "sRejPxLY7sCf"
   },
   "source": [
    "Family Status"
   ]
  },
  {
   "cell_type": "code",
   "execution_count": null,
   "metadata": {
    "colab": {
     "base_uri": "https://localhost:8080/"
    },
    "id": "rnEDmGjI7u4n",
    "outputId": "07f4007e-a1f7-4534-9679-1e4f2d31bdbc"
   },
   "outputs": [
    {
     "data": {
      "text/plain": [
       "Married                 196432\n",
       "Single / not married     45444\n",
       "Civil marriage           29775\n",
       "Separated                19770\n",
       "Widow                    16088\n",
       "Unknown                      2\n",
       "Name: NAME_FAMILY_STATUS, dtype: int64"
      ]
     },
     "execution_count": 53,
     "metadata": {
      "tags": []
     },
     "output_type": "execute_result"
    }
   ],
   "source": [
    "application_train.NAME_FAMILY_STATUS.value_counts()"
   ]
  },
  {
   "cell_type": "code",
   "execution_count": null,
   "metadata": {
    "colab": {
     "base_uri": "https://localhost:8080/"
    },
    "id": "2O9ZAalvqMcv",
    "outputId": "bbc44c65-2f1a-4ec1-db88-3460d4dee1c4"
   },
   "outputs": [
    {
     "data": {
      "image/png": "[encoded data removed]",
      "text/plain": [
       "<Figure size 1080x360 with 1 Axes>"
      ]
     },
     "metadata": {
      "needs_background": "light",
      "tags": []
     },
     "output_type": "display_data"
    }
   ],
   "source": [
    "plt.figure(figsize = (15,5))\n",
    "ax = sns.countplot(x = application_train.NAME_FAMILY_STATUS ,data=application_train, palette = \"bright\")\n",
    "plt.title('Family Status');\n",
    "plt.xlabel(\"Type\");\n",
    "plt.ylabel(\"No. of Entries\");"
   ]
  },
  {
   "cell_type": "code",
   "execution_count": null,
   "metadata": {
    "colab": {
     "base_uri": "https://localhost:8080/"
    },
    "id": "64uqrACZ7xwS",
    "outputId": "9cc54c34-0464-4a07-a353-d91644238e42"
   },
   "outputs": [
    {
     "data": {
      "image/png": "[encoded data removed]",
      "text/plain": [
       "<Figure size 1080x360 with 1 Axes>"
      ]
     },
     "metadata": {
      "needs_background": "light",
      "tags": []
     },
     "output_type": "display_data"
    }
   ],
   "source": [
    "plt.figure(figsize = (15,5))\n",
    "ax = sns.countplot(x = application_train.NAME_FAMILY_STATUS ,data=application_train, palette = \"bright\", hue = \"TARGET\")\n",
    "plt.title('Family Status and Target');\n",
    "plt.xlabel(\"Type\");\n",
    "plt.ylabel(\"No. of Entries\");"
   ]
  },
  {
   "cell_type": "code",
   "execution_count": null,
   "metadata": {
    "colab": {
     "base_uri": "https://localhost:8080/"
    },
    "id": "10vrEAQSqRhN",
    "outputId": "c8380948-5ef3-43c0-8319-e7d73c3af98e"
   },
   "outputs": [
    {
     "data": {
      "image/png": "[encoded data removed]",
      "text/plain": [
       "<Figure size 1080x360 with 1 Axes>"
      ]
     },
     "metadata": {
      "needs_background": "light",
      "tags": []
     },
     "output_type": "display_data"
    }
   ],
   "source": [
    "plt.figure(figsize = (15,5))\n",
    "ax = sns.countplot(x = application_train.NAME_FAMILY_STATUS ,data=application_train, palette = \"bright\", hue = \"CODE_GENDER\")\n",
    "plt.title('Family Status and Gender');\n",
    "plt.xlabel(\"Type\");\n",
    "plt.ylabel(\"No. of Entries\");\n",
    "plt.legend(loc = \"upper right\");"
   ]
  },
  {
   "cell_type": "markdown",
   "metadata": {
    "id": "JiVWuhPkFGQX"
   },
   "source": [
    "## Feature Engineering `Application Train Data`"
   ]
  },
  {
   "cell_type": "code",
   "execution_count": null,
   "metadata": {
    "id": "VmrmpN-H1uXw"
   },
   "outputs": [],
   "source": [
    "application_train['INCOME_GT_CREDIT_FLAG'] = application_train['AMT_INCOME_TOTAL'] > application_train['AMT_CREDIT']\n",
    "application_train['CREDIT_INCOME_PERCENT'] = application_train['AMT_CREDIT'] / application_train['AMT_INCOME_TOTAL']\n",
    "application_train['ANNUITY_INCOME_PERCENT'] = application_train['AMT_ANNUITY'] / application_train['AMT_INCOME_TOTAL']\n",
    "application_train['CREDIT_TERM'] = application_train['AMT_CREDIT'] / application_train['AMT_ANNUITY'] \n",
    "application_train['DAYS_EMPLOYED_PERCENT'] = application_train['DAYS_EMPLOYED'] / application_train['DAYS_BIRTH']"
   ]
  },
  {
   "cell_type": "markdown",
   "metadata": {
    "id": "snxQXBpNJpsm"
   },
   "source": [
    "## Data Prepration - Merging all 6 Datasets - Key = `SK_ID_CURR`"
   ]
  },
  {
   "cell_type": "code",
   "execution_count": null,
   "metadata": {
    "colab": {
     "base_uri": "https://localhost:8080/"
    },
    "id": "NwboYiZqvTGR",
    "outputId": "69be9372-8ab9-4f28-bafe-ba59b2c51d23"
   },
   "outputs": [
    {
     "data": {
      "text/html": [
       "<div>\n",
       "<style scoped>\n",
       "    .dataframe tbody tr th:only-of-type {\n",
       "        vertical-align: middle;\n",
       "    }\n",
       "\n",
       "    .dataframe tbody tr th {\n",
       "        vertical-align: top;\n",
       "    }\n",
       "\n",
       "    .dataframe thead th {\n",
       "        text-align: right;\n",
       "    }\n",
       "</style>\n",
       "<table border=\"1\" class=\"dataframe\">\n",
       "  <thead>\n",
       "    <tr style=\"text-align: right;\">\n",
       "      <th></th>\n",
       "      <th>Count</th>\n",
       "      <th>Percentage</th>\n",
       "    </tr>\n",
       "  </thead>\n",
       "  <tbody>\n",
       "    <tr>\n",
       "      <th>AMT_ANNUITY</th>\n",
       "      <td>1226791</td>\n",
       "      <td>71.473490</td>\n",
       "    </tr>\n",
       "    <tr>\n",
       "      <th>AMT_CREDIT_MAX_OVERDUE</th>\n",
       "      <td>1124488</td>\n",
       "      <td>65.513264</td>\n",
       "    </tr>\n",
       "    <tr>\n",
       "      <th>DAYS_ENDDATE_FACT</th>\n",
       "      <td>633653</td>\n",
       "      <td>36.916958</td>\n",
       "    </tr>\n",
       "    <tr>\n",
       "      <th>AMT_CREDIT_SUM_LIMIT</th>\n",
       "      <td>591780</td>\n",
       "      <td>34.477415</td>\n",
       "    </tr>\n",
       "    <tr>\n",
       "      <th>AMT_CREDIT_SUM_DEBT</th>\n",
       "      <td>257669</td>\n",
       "      <td>15.011932</td>\n",
       "    </tr>\n",
       "    <tr>\n",
       "      <th>DAYS_CREDIT_ENDDATE</th>\n",
       "      <td>105553</td>\n",
       "      <td>6.149573</td>\n",
       "    </tr>\n",
       "    <tr>\n",
       "      <th>AMT_CREDIT_SUM</th>\n",
       "      <td>13</td>\n",
       "      <td>0.000757</td>\n",
       "    </tr>\n",
       "    <tr>\n",
       "      <th>CREDIT_TYPE</th>\n",
       "      <td>0</td>\n",
       "      <td>0.000000</td>\n",
       "    </tr>\n",
       "    <tr>\n",
       "      <th>AMT_CREDIT_SUM_OVERDUE</th>\n",
       "      <td>0</td>\n",
       "      <td>0.000000</td>\n",
       "    </tr>\n",
       "    <tr>\n",
       "      <th>CNT_CREDIT_PROLONG</th>\n",
       "      <td>0</td>\n",
       "      <td>0.000000</td>\n",
       "    </tr>\n",
       "    <tr>\n",
       "      <th>DAYS_CREDIT_UPDATE</th>\n",
       "      <td>0</td>\n",
       "      <td>0.000000</td>\n",
       "    </tr>\n",
       "    <tr>\n",
       "      <th>CREDIT_DAY_OVERDUE</th>\n",
       "      <td>0</td>\n",
       "      <td>0.000000</td>\n",
       "    </tr>\n",
       "    <tr>\n",
       "      <th>DAYS_CREDIT</th>\n",
       "      <td>0</td>\n",
       "      <td>0.000000</td>\n",
       "    </tr>\n",
       "    <tr>\n",
       "      <th>CREDIT_CURRENCY</th>\n",
       "      <td>0</td>\n",
       "      <td>0.000000</td>\n",
       "    </tr>\n",
       "    <tr>\n",
       "      <th>CREDIT_ACTIVE</th>\n",
       "      <td>0</td>\n",
       "      <td>0.000000</td>\n",
       "    </tr>\n",
       "    <tr>\n",
       "      <th>SK_ID_BUREAU</th>\n",
       "      <td>0</td>\n",
       "      <td>0.000000</td>\n",
       "    </tr>\n",
       "    <tr>\n",
       "      <th>SK_ID_CURR</th>\n",
       "      <td>0</td>\n",
       "      <td>0.000000</td>\n",
       "    </tr>\n",
       "  </tbody>\n",
       "</table>\n",
       "</div>"
      ],
      "text/plain": [
       "                          Count  Percentage\n",
       "AMT_ANNUITY             1226791   71.473490\n",
       "AMT_CREDIT_MAX_OVERDUE  1124488   65.513264\n",
       "DAYS_ENDDATE_FACT        633653   36.916958\n",
       "AMT_CREDIT_SUM_LIMIT     591780   34.477415\n",
       "AMT_CREDIT_SUM_DEBT      257669   15.011932\n",
       "DAYS_CREDIT_ENDDATE      105553    6.149573\n",
       "AMT_CREDIT_SUM               13    0.000757\n",
       "CREDIT_TYPE                   0    0.000000\n",
       "AMT_CREDIT_SUM_OVERDUE        0    0.000000\n",
       "CNT_CREDIT_PROLONG            0    0.000000\n",
       "DAYS_CREDIT_UPDATE            0    0.000000\n",
       "CREDIT_DAY_OVERDUE            0    0.000000\n",
       "DAYS_CREDIT                   0    0.000000\n",
       "CREDIT_CURRENCY               0    0.000000\n",
       "CREDIT_ACTIVE                 0    0.000000\n",
       "SK_ID_BUREAU                  0    0.000000\n",
       "SK_ID_CURR                    0    0.000000"
      ]
     },
     "execution_count": 58,
     "metadata": {
      "tags": []
     },
     "output_type": "execute_result"
    }
   ],
   "source": [
    "count = bureau.isnull().sum().sort_values(ascending=False)\n",
    "percentage = ((bureau.isnull().sum()/len(bureau)*100)).sort_values(ascending=False)\n",
    "missing_application = pd.concat([count, percentage], axis=1, keys=['Count','Percentage'])\n",
    "missing_application"
   ]
  },
  {
   "cell_type": "code",
   "execution_count": null,
   "metadata": {
    "id": "SaOVsxkeMAin"
   },
   "outputs": [],
   "source": [
    "grp = bureau.drop(['SK_ID_BUREAU'], axis = 1).groupby(by=['SK_ID_CURR']).mean().reset_index()\n",
    "grp.columns = ['BUREAU_'+column if column !='SK_ID_CURR' else column for column in grp.columns]\n",
    "application_bureau = application_train.merge(grp, on='SK_ID_CURR', how='left')\n",
    "application_bureau.update(application_bureau[grp.columns].fillna(0))\n",
    "bureau_categorical = pd.get_dummies(bureau.select_dtypes('object'))\n",
    "bureau_categorical['SK_ID_CURR'] = bureau['SK_ID_CURR']\n",
    "grp = bureau_categorical.groupby(by = ['SK_ID_CURR']).mean().reset_index()\n",
    "grp.columns = ['BUREAU_'+column if column !='SK_ID_CURR' else column for column in grp.columns]\n",
    "application_bureau = application_bureau.merge(grp, on='SK_ID_CURR', how='left')\n",
    "application_bureau.update(application_bureau[grp.columns].fillna(0))\n",
    "grp = bureau.groupby(by = ['SK_ID_CURR'])['SK_ID_BUREAU'].count().reset_index().rename(columns = {'SK_ID_BUREAU': 'BUREAU_LOAN_COUNT'})\n",
    "application_bureau = application_bureau.merge(grp, on='SK_ID_CURR', how='left')\n",
    "application_bureau['BUREAU_LOAN_COUNT'] = application_bureau['BUREAU_LOAN_COUNT'].fillna(0)\n",
    "grp = bureau[['SK_ID_CURR', 'CREDIT_TYPE']].groupby(by = ['SK_ID_CURR'])['CREDIT_TYPE'].nunique().reset_index().rename(columns={'CREDIT_TYPE': 'BUREAU_LOAN_TYPES'})\n",
    "application_bureau = application_bureau.merge(grp, on='SK_ID_CURR', how='left')\n",
    "application_bureau['BUREAU_LOAN_TYPES'] = application_bureau['BUREAU_LOAN_TYPES'].fillna(0)\n",
    "bureau['AMT_CREDIT_SUM'] = bureau['AMT_CREDIT_SUM'].fillna(0)\n",
    "bureau['AMT_CREDIT_SUM_DEBT'] = bureau['AMT_CREDIT_SUM_DEBT'].fillna(0)\n",
    "grp1 = bureau[['SK_ID_CURR','AMT_CREDIT_SUM']].groupby(by=['SK_ID_CURR'])['AMT_CREDIT_SUM'].sum().reset_index().rename(columns={'AMT_CREDIT_SUM': 'TOTAL_CREDIT_SUM'})\n",
    "grp2 = bureau[['SK_ID_CURR','AMT_CREDIT_SUM_DEBT']].groupby(by=['SK_ID_CURR'])['AMT_CREDIT_SUM_DEBT'].sum().reset_index().rename(columns={'AMT_CREDIT_SUM_DEBT':'TOTAL_CREDIT_SUM_DEBT'})\n",
    "grp1['DEBT_CREDIT_RATIO'] = grp2['TOTAL_CREDIT_SUM_DEBT']/grp1['TOTAL_CREDIT_SUM']\n",
    "del grp1['TOTAL_CREDIT_SUM']\n",
    "application_bureau = application_bureau.merge(grp1, on='SK_ID_CURR', how='left')\n",
    "application_bureau['DEBT_CREDIT_RATIO'] = application_bureau['DEBT_CREDIT_RATIO'].fillna(0)\n",
    "application_bureau['DEBT_CREDIT_RATIO'] = application_bureau.replace([np.inf, -np.inf], 0)\n",
    "application_bureau['DEBT_CREDIT_RATIO'] = pd.to_numeric(application_bureau['DEBT_CREDIT_RATIO'], downcast='float')\n",
    "bureau['AMT_CREDIT_SUM_OVERDUE'] = bureau['AMT_CREDIT_SUM_OVERDUE'].fillna(0)\n",
    "bureau['AMT_CREDIT_SUM_DEBT'] = bureau['AMT_CREDIT_SUM_DEBT'].fillna(0)\n",
    "grp1 = bureau[['SK_ID_CURR','AMT_CREDIT_SUM_OVERDUE']].groupby(by=['SK_ID_CURR'])['AMT_CREDIT_SUM_OVERDUE'].sum().reset_index().rename(columns={'AMT_CREDIT_SUM_OVERDUE': 'TOTAL_CUSTOMER_OVERDUE'})\n",
    "grp2 = bureau[['SK_ID_CURR','AMT_CREDIT_SUM_DEBT']].groupby(by=['SK_ID_CURR'])['AMT_CREDIT_SUM_DEBT'].sum().reset_index().rename(columns={'AMT_CREDIT_SUM_DEBT':'TOTAL_CUSTOMER_DEBT'})\n",
    "grp1['OVERDUE_DEBT_RATIO'] = grp1['TOTAL_CUSTOMER_OVERDUE']/grp2['TOTAL_CUSTOMER_DEBT']\n",
    "del grp1['TOTAL_CUSTOMER_OVERDUE']\n",
    "application_bureau = application_bureau.merge(grp1, on='SK_ID_CURR', how='left')\n",
    "application_bureau['OVERDUE_DEBT_RATIO'] = application_bureau['OVERDUE_DEBT_RATIO'].fillna(0)\n",
    "application_bureau['OVERDUE_DEBT_RATIO'] = application_bureau.replace([np.inf, -np.inf], 0)\n",
    "application_bureau['OVERDUE_DEBT_RATIO'] = pd.to_numeric(application_bureau['OVERDUE_DEBT_RATIO'], downcast='float')\n",
    "del grp, grp2"
   ]
  },
  {
   "cell_type": "code",
   "execution_count": null,
   "metadata": {
    "colab": {
     "base_uri": "https://localhost:8080/"
    },
    "id": "JmDocmCZvhcC",
    "outputId": "10b07d4b-4def-486f-d5f6-558c9b79fb11"
   },
   "outputs": [
    {
     "data": {
      "text/html": [
       "<div>\n",
       "<style scoped>\n",
       "    .dataframe tbody tr th:only-of-type {\n",
       "        vertical-align: middle;\n",
       "    }\n",
       "\n",
       "    .dataframe tbody tr th {\n",
       "        vertical-align: top;\n",
       "    }\n",
       "\n",
       "    .dataframe thead th {\n",
       "        text-align: right;\n",
       "    }\n",
       "</style>\n",
       "<table border=\"1\" class=\"dataframe\">\n",
       "  <thead>\n",
       "    <tr style=\"text-align: right;\">\n",
       "      <th></th>\n",
       "      <th>Count</th>\n",
       "      <th>Percentage</th>\n",
       "    </tr>\n",
       "  </thead>\n",
       "  <tbody>\n",
       "    <tr>\n",
       "      <th>RATE_INTEREST_PRIVILEGED</th>\n",
       "      <td>1664263</td>\n",
       "      <td>99.643698</td>\n",
       "    </tr>\n",
       "    <tr>\n",
       "      <th>RATE_INTEREST_PRIMARY</th>\n",
       "      <td>1664263</td>\n",
       "      <td>99.643698</td>\n",
       "    </tr>\n",
       "    <tr>\n",
       "      <th>RATE_DOWN_PAYMENT</th>\n",
       "      <td>895844</td>\n",
       "      <td>53.636480</td>\n",
       "    </tr>\n",
       "    <tr>\n",
       "      <th>AMT_DOWN_PAYMENT</th>\n",
       "      <td>895844</td>\n",
       "      <td>53.636480</td>\n",
       "    </tr>\n",
       "    <tr>\n",
       "      <th>NAME_TYPE_SUITE</th>\n",
       "      <td>820405</td>\n",
       "      <td>49.119754</td>\n",
       "    </tr>\n",
       "    <tr>\n",
       "      <th>DAYS_TERMINATION</th>\n",
       "      <td>673065</td>\n",
       "      <td>40.298129</td>\n",
       "    </tr>\n",
       "    <tr>\n",
       "      <th>NFLAG_INSURED_ON_APPROVAL</th>\n",
       "      <td>673065</td>\n",
       "      <td>40.298129</td>\n",
       "    </tr>\n",
       "    <tr>\n",
       "      <th>DAYS_FIRST_DRAWING</th>\n",
       "      <td>673065</td>\n",
       "      <td>40.298129</td>\n",
       "    </tr>\n",
       "    <tr>\n",
       "      <th>DAYS_FIRST_DUE</th>\n",
       "      <td>673065</td>\n",
       "      <td>40.298129</td>\n",
       "    </tr>\n",
       "    <tr>\n",
       "      <th>DAYS_LAST_DUE_1ST_VERSION</th>\n",
       "      <td>673065</td>\n",
       "      <td>40.298129</td>\n",
       "    </tr>\n",
       "    <tr>\n",
       "      <th>DAYS_LAST_DUE</th>\n",
       "      <td>673065</td>\n",
       "      <td>40.298129</td>\n",
       "    </tr>\n",
       "    <tr>\n",
       "      <th>AMT_GOODS_PRICE</th>\n",
       "      <td>385515</td>\n",
       "      <td>23.081773</td>\n",
       "    </tr>\n",
       "    <tr>\n",
       "      <th>AMT_ANNUITY</th>\n",
       "      <td>372235</td>\n",
       "      <td>22.286665</td>\n",
       "    </tr>\n",
       "    <tr>\n",
       "      <th>CNT_PAYMENT</th>\n",
       "      <td>372230</td>\n",
       "      <td>22.286366</td>\n",
       "    </tr>\n",
       "    <tr>\n",
       "      <th>PRODUCT_COMBINATION</th>\n",
       "      <td>346</td>\n",
       "      <td>0.020716</td>\n",
       "    </tr>\n",
       "    <tr>\n",
       "      <th>AMT_CREDIT</th>\n",
       "      <td>1</td>\n",
       "      <td>0.000060</td>\n",
       "    </tr>\n",
       "    <tr>\n",
       "      <th>SK_ID_CURR</th>\n",
       "      <td>0</td>\n",
       "      <td>0.000000</td>\n",
       "    </tr>\n",
       "    <tr>\n",
       "      <th>NAME_CONTRACT_TYPE</th>\n",
       "      <td>0</td>\n",
       "      <td>0.000000</td>\n",
       "    </tr>\n",
       "    <tr>\n",
       "      <th>WEEKDAY_APPR_PROCESS_START</th>\n",
       "      <td>0</td>\n",
       "      <td>0.000000</td>\n",
       "    </tr>\n",
       "    <tr>\n",
       "      <th>HOUR_APPR_PROCESS_START</th>\n",
       "      <td>0</td>\n",
       "      <td>0.000000</td>\n",
       "    </tr>\n",
       "    <tr>\n",
       "      <th>FLAG_LAST_APPL_PER_CONTRACT</th>\n",
       "      <td>0</td>\n",
       "      <td>0.000000</td>\n",
       "    </tr>\n",
       "    <tr>\n",
       "      <th>NFLAG_LAST_APPL_IN_DAY</th>\n",
       "      <td>0</td>\n",
       "      <td>0.000000</td>\n",
       "    </tr>\n",
       "    <tr>\n",
       "      <th>AMT_APPLICATION</th>\n",
       "      <td>0</td>\n",
       "      <td>0.000000</td>\n",
       "    </tr>\n",
       "    <tr>\n",
       "      <th>NAME_PAYMENT_TYPE</th>\n",
       "      <td>0</td>\n",
       "      <td>0.000000</td>\n",
       "    </tr>\n",
       "    <tr>\n",
       "      <th>NAME_CASH_LOAN_PURPOSE</th>\n",
       "      <td>0</td>\n",
       "      <td>0.000000</td>\n",
       "    </tr>\n",
       "    <tr>\n",
       "      <th>NAME_CONTRACT_STATUS</th>\n",
       "      <td>0</td>\n",
       "      <td>0.000000</td>\n",
       "    </tr>\n",
       "    <tr>\n",
       "      <th>DAYS_DECISION</th>\n",
       "      <td>0</td>\n",
       "      <td>0.000000</td>\n",
       "    </tr>\n",
       "    <tr>\n",
       "      <th>CODE_REJECT_REASON</th>\n",
       "      <td>0</td>\n",
       "      <td>0.000000</td>\n",
       "    </tr>\n",
       "    <tr>\n",
       "      <th>NAME_CLIENT_TYPE</th>\n",
       "      <td>0</td>\n",
       "      <td>0.000000</td>\n",
       "    </tr>\n",
       "    <tr>\n",
       "      <th>NAME_GOODS_CATEGORY</th>\n",
       "      <td>0</td>\n",
       "      <td>0.000000</td>\n",
       "    </tr>\n",
       "    <tr>\n",
       "      <th>NAME_PORTFOLIO</th>\n",
       "      <td>0</td>\n",
       "      <td>0.000000</td>\n",
       "    </tr>\n",
       "    <tr>\n",
       "      <th>NAME_PRODUCT_TYPE</th>\n",
       "      <td>0</td>\n",
       "      <td>0.000000</td>\n",
       "    </tr>\n",
       "    <tr>\n",
       "      <th>CHANNEL_TYPE</th>\n",
       "      <td>0</td>\n",
       "      <td>0.000000</td>\n",
       "    </tr>\n",
       "    <tr>\n",
       "      <th>SELLERPLACE_AREA</th>\n",
       "      <td>0</td>\n",
       "      <td>0.000000</td>\n",
       "    </tr>\n",
       "    <tr>\n",
       "      <th>NAME_SELLER_INDUSTRY</th>\n",
       "      <td>0</td>\n",
       "      <td>0.000000</td>\n",
       "    </tr>\n",
       "    <tr>\n",
       "      <th>NAME_YIELD_GROUP</th>\n",
       "      <td>0</td>\n",
       "      <td>0.000000</td>\n",
       "    </tr>\n",
       "    <tr>\n",
       "      <th>SK_ID_PREV</th>\n",
       "      <td>0</td>\n",
       "      <td>0.000000</td>\n",
       "    </tr>\n",
       "  </tbody>\n",
       "</table>\n",
       "</div>"
      ],
      "text/plain": [
       "                               Count  Percentage\n",
       "RATE_INTEREST_PRIVILEGED     1664263   99.643698\n",
       "RATE_INTEREST_PRIMARY        1664263   99.643698\n",
       "RATE_DOWN_PAYMENT             895844   53.636480\n",
       "AMT_DOWN_PAYMENT              895844   53.636480\n",
       "NAME_TYPE_SUITE               820405   49.119754\n",
       "DAYS_TERMINATION              673065   40.298129\n",
       "NFLAG_INSURED_ON_APPROVAL     673065   40.298129\n",
       "DAYS_FIRST_DRAWING            673065   40.298129\n",
       "DAYS_FIRST_DUE                673065   40.298129\n",
       "DAYS_LAST_DUE_1ST_VERSION     673065   40.298129\n",
       "DAYS_LAST_DUE                 673065   40.298129\n",
       "AMT_GOODS_PRICE               385515   23.081773\n",
       "AMT_ANNUITY                   372235   22.286665\n",
       "CNT_PAYMENT                   372230   22.286366\n",
       "PRODUCT_COMBINATION              346    0.020716\n",
       "AMT_CREDIT                         1    0.000060\n",
       "SK_ID_CURR                         0    0.000000\n",
       "NAME_CONTRACT_TYPE                 0    0.000000\n",
       "WEEKDAY_APPR_PROCESS_START         0    0.000000\n",
       "HOUR_APPR_PROCESS_START            0    0.000000\n",
       "FLAG_LAST_APPL_PER_CONTRACT        0    0.000000\n",
       "NFLAG_LAST_APPL_IN_DAY             0    0.000000\n",
       "AMT_APPLICATION                    0    0.000000\n",
       "NAME_PAYMENT_TYPE                  0    0.000000\n",
       "NAME_CASH_LOAN_PURPOSE             0    0.000000\n",
       "NAME_CONTRACT_STATUS               0    0.000000\n",
       "DAYS_DECISION                      0    0.000000\n",
       "CODE_REJECT_REASON                 0    0.000000\n",
       "NAME_CLIENT_TYPE                   0    0.000000\n",
       "NAME_GOODS_CATEGORY                0    0.000000\n",
       "NAME_PORTFOLIO                     0    0.000000\n",
       "NAME_PRODUCT_TYPE                  0    0.000000\n",
       "CHANNEL_TYPE                       0    0.000000\n",
       "SELLERPLACE_AREA                   0    0.000000\n",
       "NAME_SELLER_INDUSTRY               0    0.000000\n",
       "NAME_YIELD_GROUP                   0    0.000000\n",
       "SK_ID_PREV                         0    0.000000"
      ]
     },
     "execution_count": 60,
     "metadata": {
      "tags": []
     },
     "output_type": "execute_result"
    }
   ],
   "source": [
    "count = previous_application.isnull().sum().sort_values(ascending=False)\n",
    "percentage = ((previous_application.isnull().sum()/len(previous_application)*100)).sort_values(ascending=False)\n",
    "missing_application = pd.concat([count, percentage], axis=1, keys=['Count','Percentage'])\n",
    "missing_application"
   ]
  },
  {
   "cell_type": "code",
   "execution_count": null,
   "metadata": {
    "id": "NVIsvDQUMblf"
   },
   "outputs": [],
   "source": [
    "grp = previous_application[['SK_ID_CURR','SK_ID_PREV']].groupby(by=['SK_ID_CURR'])['SK_ID_PREV'].count().reset_index().rename(columns={'SK_ID_PREV':'PREV_APP_COUNT'})\n",
    "application_bureau_prev = application_bureau.merge(grp, on =['SK_ID_CURR'], how = 'left')\n",
    "application_bureau_prev['PREV_APP_COUNT'] = application_bureau_prev['PREV_APP_COUNT'].fillna(0)\n",
    "grp = previous_application.drop('SK_ID_PREV', axis =1).groupby(by=['SK_ID_CURR']).mean().reset_index()\n",
    "prev_columns = ['PREV_'+column if column != 'SK_ID_CURR' else column for column in grp.columns ]\n",
    "grp.columns = prev_columns\n",
    "application_bureau_prev = application_bureau_prev.merge(grp, on =['SK_ID_CURR'], how = 'left')\n",
    "application_bureau_prev.update(application_bureau_prev[grp.columns].fillna(0))\n",
    "prev_categorical = pd.get_dummies(previous_application.select_dtypes('object'))\n",
    "prev_categorical['SK_ID_CURR'] = previous_application['SK_ID_CURR']\n",
    "prev_categorical.head()\n",
    "grp = prev_categorical.groupby('SK_ID_CURR').mean().reset_index()\n",
    "grp.columns = ['PREV_'+column if column != 'SK_ID_CURR' else column for column in grp.columns]\n",
    "application_bureau_prev = application_bureau_prev.merge(grp, on=['SK_ID_CURR'], how='left')\n",
    "application_bureau_prev.update(application_bureau_prev[grp.columns].fillna(0))\n",
    "del grp"
   ]
  },
  {
   "cell_type": "code",
   "execution_count": null,
   "metadata": {
    "colab": {
     "base_uri": "https://localhost:8080/"
    },
    "id": "eZIgHlykv92I",
    "outputId": "2e469ee4-a306-42e8-c2f5-3e30adf670bc"
   },
   "outputs": [
    {
     "data": {
      "text/html": [
       "<div>\n",
       "<style scoped>\n",
       "    .dataframe tbody tr th:only-of-type {\n",
       "        vertical-align: middle;\n",
       "    }\n",
       "\n",
       "    .dataframe tbody tr th {\n",
       "        vertical-align: top;\n",
       "    }\n",
       "\n",
       "    .dataframe thead th {\n",
       "        text-align: right;\n",
       "    }\n",
       "</style>\n",
       "<table border=\"1\" class=\"dataframe\">\n",
       "  <thead>\n",
       "    <tr style=\"text-align: right;\">\n",
       "      <th></th>\n",
       "      <th>Count</th>\n",
       "      <th>Percentage</th>\n",
       "    </tr>\n",
       "  </thead>\n",
       "  <tbody>\n",
       "    <tr>\n",
       "      <th>CNT_INSTALMENT_FUTURE</th>\n",
       "      <td>26087</td>\n",
       "      <td>0.260835</td>\n",
       "    </tr>\n",
       "    <tr>\n",
       "      <th>CNT_INSTALMENT</th>\n",
       "      <td>26071</td>\n",
       "      <td>0.260675</td>\n",
       "    </tr>\n",
       "    <tr>\n",
       "      <th>SK_DPD_DEF</th>\n",
       "      <td>0</td>\n",
       "      <td>0.000000</td>\n",
       "    </tr>\n",
       "    <tr>\n",
       "      <th>SK_DPD</th>\n",
       "      <td>0</td>\n",
       "      <td>0.000000</td>\n",
       "    </tr>\n",
       "    <tr>\n",
       "      <th>NAME_CONTRACT_STATUS</th>\n",
       "      <td>0</td>\n",
       "      <td>0.000000</td>\n",
       "    </tr>\n",
       "    <tr>\n",
       "      <th>MONTHS_BALANCE</th>\n",
       "      <td>0</td>\n",
       "      <td>0.000000</td>\n",
       "    </tr>\n",
       "    <tr>\n",
       "      <th>SK_ID_CURR</th>\n",
       "      <td>0</td>\n",
       "      <td>0.000000</td>\n",
       "    </tr>\n",
       "    <tr>\n",
       "      <th>SK_ID_PREV</th>\n",
       "      <td>0</td>\n",
       "      <td>0.000000</td>\n",
       "    </tr>\n",
       "  </tbody>\n",
       "</table>\n",
       "</div>"
      ],
      "text/plain": [
       "                       Count  Percentage\n",
       "CNT_INSTALMENT_FUTURE  26087    0.260835\n",
       "CNT_INSTALMENT         26071    0.260675\n",
       "SK_DPD_DEF                 0    0.000000\n",
       "SK_DPD                     0    0.000000\n",
       "NAME_CONTRACT_STATUS       0    0.000000\n",
       "MONTHS_BALANCE             0    0.000000\n",
       "SK_ID_CURR                 0    0.000000\n",
       "SK_ID_PREV                 0    0.000000"
      ]
     },
     "execution_count": 62,
     "metadata": {
      "tags": []
     },
     "output_type": "execute_result"
    }
   ],
   "source": [
    "count = pos_cash_balance.isnull().sum().sort_values(ascending=False)\n",
    "percentage = ((pos_cash_balance.isnull().sum()/len(pos_cash_balance)*100)).sort_values(ascending=False)\n",
    "missing_application = pd.concat([count, percentage], axis=1, keys=['Count','Percentage'])\n",
    "missing_application"
   ]
  },
  {
   "cell_type": "code",
   "execution_count": null,
   "metadata": {
    "id": "FHwmpEGGMeCX"
   },
   "outputs": [],
   "source": [
    "grp = pos_cash_balance.drop('SK_ID_PREV', axis =1).groupby(by=['SK_ID_CURR']).mean().reset_index()\n",
    "prev_columns = ['POS_'+column if column != 'SK_ID_CURR' else column for column in grp.columns ]\n",
    "grp.columns = prev_columns\n",
    "application_bureau_prev = application_bureau_prev.merge(grp, on =['SK_ID_CURR'], how = 'left')\n",
    "application_bureau_prev.update(application_bureau_prev[grp.columns].fillna(0))\n",
    "pos_cash_categorical = pd.get_dummies(pos_cash_balance.select_dtypes('object'))\n",
    "pos_cash_categorical['SK_ID_CURR'] = pos_cash_balance['SK_ID_CURR']\n",
    "grp = pos_cash_categorical.groupby('SK_ID_CURR').mean().reset_index()\n",
    "grp.columns = ['POS_'+column if column != 'SK_ID_CURR' else column for column in grp.columns]\n",
    "application_bureau_prev = application_bureau_prev.merge(grp, on=['SK_ID_CURR'], how='left')\n",
    "application_bureau_prev.update(application_bureau_prev[grp.columns].fillna(0))\n",
    "del grp"
   ]
  },
  {
   "cell_type": "code",
   "execution_count": null,
   "metadata": {
    "colab": {
     "base_uri": "https://localhost:8080/"
    },
    "id": "p0hzEem_wHpJ",
    "outputId": "fb13087a-cb66-4315-c737-8ec3867c83af"
   },
   "outputs": [
    {
     "data": {
      "text/html": [
       "<div>\n",
       "<style scoped>\n",
       "    .dataframe tbody tr th:only-of-type {\n",
       "        vertical-align: middle;\n",
       "    }\n",
       "\n",
       "    .dataframe tbody tr th {\n",
       "        vertical-align: top;\n",
       "    }\n",
       "\n",
       "    .dataframe thead th {\n",
       "        text-align: right;\n",
       "    }\n",
       "</style>\n",
       "<table border=\"1\" class=\"dataframe\">\n",
       "  <thead>\n",
       "    <tr style=\"text-align: right;\">\n",
       "      <th></th>\n",
       "      <th>Count</th>\n",
       "      <th>Percentage</th>\n",
       "    </tr>\n",
       "  </thead>\n",
       "  <tbody>\n",
       "    <tr>\n",
       "      <th>AMT_PAYMENT</th>\n",
       "      <td>2905</td>\n",
       "      <td>0.021352</td>\n",
       "    </tr>\n",
       "    <tr>\n",
       "      <th>DAYS_ENTRY_PAYMENT</th>\n",
       "      <td>2905</td>\n",
       "      <td>0.021352</td>\n",
       "    </tr>\n",
       "    <tr>\n",
       "      <th>AMT_INSTALMENT</th>\n",
       "      <td>0</td>\n",
       "      <td>0.000000</td>\n",
       "    </tr>\n",
       "    <tr>\n",
       "      <th>DAYS_INSTALMENT</th>\n",
       "      <td>0</td>\n",
       "      <td>0.000000</td>\n",
       "    </tr>\n",
       "    <tr>\n",
       "      <th>NUM_INSTALMENT_NUMBER</th>\n",
       "      <td>0</td>\n",
       "      <td>0.000000</td>\n",
       "    </tr>\n",
       "    <tr>\n",
       "      <th>NUM_INSTALMENT_VERSION</th>\n",
       "      <td>0</td>\n",
       "      <td>0.000000</td>\n",
       "    </tr>\n",
       "    <tr>\n",
       "      <th>SK_ID_CURR</th>\n",
       "      <td>0</td>\n",
       "      <td>0.000000</td>\n",
       "    </tr>\n",
       "    <tr>\n",
       "      <th>SK_ID_PREV</th>\n",
       "      <td>0</td>\n",
       "      <td>0.000000</td>\n",
       "    </tr>\n",
       "  </tbody>\n",
       "</table>\n",
       "</div>"
      ],
      "text/plain": [
       "                        Count  Percentage\n",
       "AMT_PAYMENT              2905    0.021352\n",
       "DAYS_ENTRY_PAYMENT       2905    0.021352\n",
       "AMT_INSTALMENT              0    0.000000\n",
       "DAYS_INSTALMENT             0    0.000000\n",
       "NUM_INSTALMENT_NUMBER       0    0.000000\n",
       "NUM_INSTALMENT_VERSION      0    0.000000\n",
       "SK_ID_CURR                  0    0.000000\n",
       "SK_ID_PREV                  0    0.000000"
      ]
     },
     "execution_count": 64,
     "metadata": {
      "tags": []
     },
     "output_type": "execute_result"
    }
   ],
   "source": [
    "count = installments_payments.isnull().sum().sort_values(ascending=False)\n",
    "percentage = ((installments_payments.isnull().sum()/len(installments_payments)*100)).sort_values(ascending=False)\n",
    "missing_application = pd.concat([count, percentage], axis=1, keys=['Count','Percentage'])\n",
    "missing_application"
   ]
  },
  {
   "cell_type": "code",
   "execution_count": null,
   "metadata": {
    "id": "otxlKwJZMhpb"
   },
   "outputs": [],
   "source": [
    "grp = installments_payments.drop('SK_ID_PREV', axis =1).groupby(by=['SK_ID_CURR']).mean().reset_index()\n",
    "prev_columns = ['INSTA_'+column if column != 'SK_ID_CURR' else column for column in grp.columns ]\n",
    "grp.columns = prev_columns\n",
    "application_bureau_prev = application_bureau_prev.merge(grp, on =['SK_ID_CURR'], how = 'left')\n",
    "application_bureau_prev.update(application_bureau_prev[grp.columns].fillna(0))\n",
    "del grp"
   ]
  },
  {
   "cell_type": "code",
   "execution_count": null,
   "metadata": {
    "colab": {
     "base_uri": "https://localhost:8080/"
    },
    "id": "ZdoGE700wYHv",
    "outputId": "b0b1aeb3-38ec-4a48-e23a-ada34698768d"
   },
   "outputs": [
    {
     "data": {
      "text/html": [
       "<div>\n",
       "<style scoped>\n",
       "    .dataframe tbody tr th:only-of-type {\n",
       "        vertical-align: middle;\n",
       "    }\n",
       "\n",
       "    .dataframe tbody tr th {\n",
       "        vertical-align: top;\n",
       "    }\n",
       "\n",
       "    .dataframe thead th {\n",
       "        text-align: right;\n",
       "    }\n",
       "</style>\n",
       "<table border=\"1\" class=\"dataframe\">\n",
       "  <thead>\n",
       "    <tr style=\"text-align: right;\">\n",
       "      <th></th>\n",
       "      <th>Count</th>\n",
       "      <th>Percentage</th>\n",
       "    </tr>\n",
       "  </thead>\n",
       "  <tbody>\n",
       "    <tr>\n",
       "      <th>AMT_PAYMENT_CURRENT</th>\n",
       "      <td>767988</td>\n",
       "      <td>19.998063</td>\n",
       "    </tr>\n",
       "    <tr>\n",
       "      <th>AMT_DRAWINGS_OTHER_CURRENT</th>\n",
       "      <td>749816</td>\n",
       "      <td>19.524872</td>\n",
       "    </tr>\n",
       "    <tr>\n",
       "      <th>CNT_DRAWINGS_POS_CURRENT</th>\n",
       "      <td>749816</td>\n",
       "      <td>19.524872</td>\n",
       "    </tr>\n",
       "    <tr>\n",
       "      <th>CNT_DRAWINGS_OTHER_CURRENT</th>\n",
       "      <td>749816</td>\n",
       "      <td>19.524872</td>\n",
       "    </tr>\n",
       "    <tr>\n",
       "      <th>CNT_DRAWINGS_ATM_CURRENT</th>\n",
       "      <td>749816</td>\n",
       "      <td>19.524872</td>\n",
       "    </tr>\n",
       "    <tr>\n",
       "      <th>AMT_DRAWINGS_ATM_CURRENT</th>\n",
       "      <td>749816</td>\n",
       "      <td>19.524872</td>\n",
       "    </tr>\n",
       "    <tr>\n",
       "      <th>AMT_DRAWINGS_POS_CURRENT</th>\n",
       "      <td>749816</td>\n",
       "      <td>19.524872</td>\n",
       "    </tr>\n",
       "    <tr>\n",
       "      <th>CNT_INSTALMENT_MATURE_CUM</th>\n",
       "      <td>305236</td>\n",
       "      <td>7.948208</td>\n",
       "    </tr>\n",
       "    <tr>\n",
       "      <th>AMT_INST_MIN_REGULARITY</th>\n",
       "      <td>305236</td>\n",
       "      <td>7.948208</td>\n",
       "    </tr>\n",
       "    <tr>\n",
       "      <th>SK_DPD_DEF</th>\n",
       "      <td>0</td>\n",
       "      <td>0.000000</td>\n",
       "    </tr>\n",
       "    <tr>\n",
       "      <th>SK_ID_CURR</th>\n",
       "      <td>0</td>\n",
       "      <td>0.000000</td>\n",
       "    </tr>\n",
       "    <tr>\n",
       "      <th>MONTHS_BALANCE</th>\n",
       "      <td>0</td>\n",
       "      <td>0.000000</td>\n",
       "    </tr>\n",
       "    <tr>\n",
       "      <th>AMT_BALANCE</th>\n",
       "      <td>0</td>\n",
       "      <td>0.000000</td>\n",
       "    </tr>\n",
       "    <tr>\n",
       "      <th>AMT_CREDIT_LIMIT_ACTUAL</th>\n",
       "      <td>0</td>\n",
       "      <td>0.000000</td>\n",
       "    </tr>\n",
       "    <tr>\n",
       "      <th>AMT_DRAWINGS_CURRENT</th>\n",
       "      <td>0</td>\n",
       "      <td>0.000000</td>\n",
       "    </tr>\n",
       "    <tr>\n",
       "      <th>AMT_PAYMENT_TOTAL_CURRENT</th>\n",
       "      <td>0</td>\n",
       "      <td>0.000000</td>\n",
       "    </tr>\n",
       "    <tr>\n",
       "      <th>SK_DPD</th>\n",
       "      <td>0</td>\n",
       "      <td>0.000000</td>\n",
       "    </tr>\n",
       "    <tr>\n",
       "      <th>AMT_RECEIVABLE_PRINCIPAL</th>\n",
       "      <td>0</td>\n",
       "      <td>0.000000</td>\n",
       "    </tr>\n",
       "    <tr>\n",
       "      <th>AMT_RECIVABLE</th>\n",
       "      <td>0</td>\n",
       "      <td>0.000000</td>\n",
       "    </tr>\n",
       "    <tr>\n",
       "      <th>AMT_TOTAL_RECEIVABLE</th>\n",
       "      <td>0</td>\n",
       "      <td>0.000000</td>\n",
       "    </tr>\n",
       "    <tr>\n",
       "      <th>CNT_DRAWINGS_CURRENT</th>\n",
       "      <td>0</td>\n",
       "      <td>0.000000</td>\n",
       "    </tr>\n",
       "    <tr>\n",
       "      <th>NAME_CONTRACT_STATUS</th>\n",
       "      <td>0</td>\n",
       "      <td>0.000000</td>\n",
       "    </tr>\n",
       "    <tr>\n",
       "      <th>SK_ID_PREV</th>\n",
       "      <td>0</td>\n",
       "      <td>0.000000</td>\n",
       "    </tr>\n",
       "  </tbody>\n",
       "</table>\n",
       "</div>"
      ],
      "text/plain": [
       "                             Count  Percentage\n",
       "AMT_PAYMENT_CURRENT         767988   19.998063\n",
       "AMT_DRAWINGS_OTHER_CURRENT  749816   19.524872\n",
       "CNT_DRAWINGS_POS_CURRENT    749816   19.524872\n",
       "CNT_DRAWINGS_OTHER_CURRENT  749816   19.524872\n",
       "CNT_DRAWINGS_ATM_CURRENT    749816   19.524872\n",
       "AMT_DRAWINGS_ATM_CURRENT    749816   19.524872\n",
       "AMT_DRAWINGS_POS_CURRENT    749816   19.524872\n",
       "CNT_INSTALMENT_MATURE_CUM   305236    7.948208\n",
       "AMT_INST_MIN_REGULARITY     305236    7.948208\n",
       "SK_DPD_DEF                       0    0.000000\n",
       "SK_ID_CURR                       0    0.000000\n",
       "MONTHS_BALANCE                   0    0.000000\n",
       "AMT_BALANCE                      0    0.000000\n",
       "AMT_CREDIT_LIMIT_ACTUAL          0    0.000000\n",
       "AMT_DRAWINGS_CURRENT             0    0.000000\n",
       "AMT_PAYMENT_TOTAL_CURRENT        0    0.000000\n",
       "SK_DPD                           0    0.000000\n",
       "AMT_RECEIVABLE_PRINCIPAL         0    0.000000\n",
       "AMT_RECIVABLE                    0    0.000000\n",
       "AMT_TOTAL_RECEIVABLE             0    0.000000\n",
       "CNT_DRAWINGS_CURRENT             0    0.000000\n",
       "NAME_CONTRACT_STATUS             0    0.000000\n",
       "SK_ID_PREV                       0    0.000000"
      ]
     },
     "execution_count": 66,
     "metadata": {
      "tags": []
     },
     "output_type": "execute_result"
    }
   ],
   "source": [
    "count = credit_card_balance.isnull().sum().sort_values(ascending=False)\n",
    "percentage = ((credit_card_balance.isnull().sum()/len(credit_card_balance)*100)).sort_values(ascending=False)\n",
    "missing_application = pd.concat([count, percentage], axis=1, keys=['Count','Percentage'])\n",
    "missing_application"
   ]
  },
  {
   "cell_type": "code",
   "execution_count": null,
   "metadata": {
    "id": "97FwDnN34oSf"
   },
   "outputs": [],
   "source": [
    "grp = credit_card_balance.drop('SK_ID_PREV', axis =1).groupby(by=['SK_ID_CURR']).mean().reset_index()\n",
    "prev_columns = ['CREDIT_'+column if column != 'SK_ID_CURR' else column for column in grp.columns ]\n",
    "grp.columns = prev_columns\n",
    "application_bureau_prev = application_bureau_prev.merge(grp, on =['SK_ID_CURR'], how = 'left')\n",
    "application_bureau_prev.update(application_bureau_prev[grp.columns].fillna(0))\n",
    "credit_categorical = pd.get_dummies(credit_card_balance.select_dtypes('object'))\n",
    "credit_categorical['SK_ID_CURR'] = credit_card_balance['SK_ID_CURR']\n",
    "grp = credit_categorical.groupby('SK_ID_CURR').mean().reset_index()\n",
    "grp.columns = ['CREDIT_'+column if column != 'SK_ID_CURR' else column for column in grp.columns]\n",
    "application_bureau_prev = application_bureau_prev.merge(grp, on=['SK_ID_CURR'], how='left')\n",
    "application_bureau_prev.update(application_bureau_prev[grp.columns].fillna(0))\n",
    "del grp"
   ]
  },
  {
   "cell_type": "code",
   "execution_count": null,
   "metadata": {
    "id": "DZBFTJ6gNtNm"
   },
   "outputs": [],
   "source": [
    "del application_bureau, bureau, previous_application, pos_cash_balance, installments_payments, credit_card_balance, application_train, bureau_balance"
   ]
  },
  {
   "cell_type": "markdown",
   "metadata": {
    "id": "FUwwtz2D1jwz"
   },
   "source": [
    "## Data Preprocessing `SimpleImputer` `StandardScaler` & `OneHotEncode`"
   ]
  },
  {
   "cell_type": "code",
   "execution_count": null,
   "metadata": {
    "id": "Qb-TYotxTV76"
   },
   "outputs": [],
   "source": [
    "data = application_bureau_prev.copy(deep=True)\n",
    "y = data.pop('TARGET').values\n",
    "X_train, X_test, y_train, y_test = train_test_split(data.drop(['SK_ID_CURR'],axis=1), y, stratify = y, test_size=0.3, random_state=42)\n",
    "types = np.array([dt for dt in X_train.dtypes])\n",
    "all_columns = X_train.columns.values\n",
    "is_num = types != 'object'\n",
    "num_cols = all_columns[is_num]\n",
    "cat_cols = all_columns[~is_num]"
   ]
  },
  {
   "cell_type": "markdown",
   "metadata": {
    "id": "yADOi9LDSlAA"
   },
   "source": [
    "#### Imputing Numerical Data `SimpleImputer`"
   ]
  },
  {
   "cell_type": "code",
   "execution_count": null,
   "metadata": {
    "id": "GOq4gTSbSt33"
   },
   "outputs": [],
   "source": [
    "imputer_num = SimpleImputer(strategy='median')\n",
    "X_train_num = imputer_num.fit_transform(X_train[num_cols])\n",
    "X_test_num = imputer_num.transform(X_test[num_cols])\n",
    "del imputer_num"
   ]
  },
  {
   "cell_type": "markdown",
   "metadata": {
    "id": "DiDFd6v5SlHR"
   },
   "source": [
    "#### Scaling Numerical Data `StandardScaler`"
   ]
  },
  {
   "cell_type": "code",
   "execution_count": null,
   "metadata": {
    "id": "zCmFp-jVSu1J"
   },
   "outputs": [],
   "source": [
    "scaler_num = StandardScaler()\n",
    "X_train_num1 = scaler_num.fit_transform(X_train_num)\n",
    "X_test_num1 = scaler_num.transform(X_test_num)\n",
    "del scaler_num\n",
    "del X_train_num, X_test_num"
   ]
  },
  {
   "cell_type": "code",
   "execution_count": null,
   "metadata": {
    "id": "0WYNusl_Tdey"
   },
   "outputs": [],
   "source": [
    "X_train_num_final = pd.DataFrame(X_train_num1, columns=num_cols)\n",
    "X_test_num_final = pd.DataFrame(X_test_num1, columns=num_cols)\n",
    "del X_train_num1, X_test_num1"
   ]
  },
  {
   "cell_type": "markdown",
   "metadata": {
    "id": "frgbS72QSlRw"
   },
   "source": [
    "#### Imputing Categorical Data `SimpleImputer`"
   ]
  },
  {
   "cell_type": "code",
   "execution_count": null,
   "metadata": {
    "id": "QJzohnL4SvMw"
   },
   "outputs": [],
   "source": [
    "imputer_cat = SimpleImputer(strategy='constant', fill_value='MISSING')\n",
    "X_train_cat = imputer_cat.fit_transform(X_train[cat_cols])\n",
    "X_test_cat = imputer_cat.transform(X_test[cat_cols])\n",
    "del imputer_cat"
   ]
  },
  {
   "cell_type": "code",
   "execution_count": null,
   "metadata": {
    "id": "KlF8Ci66Thyp"
   },
   "outputs": [],
   "source": [
    "X_train_cat1= pd.DataFrame(X_train_cat, columns=cat_cols)\n",
    "X_test_cat1= pd.DataFrame(X_test_cat, columns=cat_cols)\n",
    "del X_train_cat, X_test_cat"
   ]
  },
  {
   "cell_type": "markdown",
   "metadata": {
    "id": "F2zy-brbSl3P"
   },
   "source": [
    "#### Encoding Categorical Data `OneHotEncoding`"
   ]
  },
  {
   "cell_type": "code",
   "execution_count": null,
   "metadata": {
    "id": "6hHgL4nwTpTZ"
   },
   "outputs": [],
   "source": [
    "ohe = OneHotEncoder(sparse=False,handle_unknown='ignore')\n",
    "X_train_cat2 = ohe.fit_transform(X_train_cat1)\n",
    "X_test_cat2 = ohe.transform(X_test_cat1)\n",
    "cat_cols_ohe = list(ohe.get_feature_names(input_features=cat_cols))\n",
    "del ohe\n",
    "del X_train_cat1, X_test_cat1"
   ]
  },
  {
   "cell_type": "code",
   "execution_count": null,
   "metadata": {
    "colab": {
     "base_uri": "https://localhost:8080/"
    },
    "id": "vveUigg8L-6o",
    "outputId": "fa44cbf8-774d-4a32-921e-8a00602df014"
   },
   "outputs": [
    {
     "name": "stdout",
     "output_type": "stream",
     "text": [
      "train :  [197880  17377]\n",
      "test :  [84806  7448]\n"
     ]
    }
   ],
   "source": [
    "X_train_cat_final = pd.DataFrame(X_train_cat2, columns = cat_cols_ohe)\n",
    "X_test_cat_final = pd.DataFrame(X_test_cat2, columns = cat_cols_ohe)\n",
    "del X_train_cat2, X_test_cat2\n",
    "X_train = pd.concat([X_train_num_final,X_train_cat_final], axis = 1)\n",
    "X_test = pd.concat([X_test_num_final,X_test_cat_final], axis = 1)\n",
    "del X_train_num_final,X_train_cat_final,X_test_num_final,X_test_cat_final\n",
    "del num_cols, cat_cols, is_num, all_columns, types\n",
    "(unique, counts) = np.unique(y_train, return_counts=True)\n",
    "print('train : ',counts)\n",
    "(unique, counts) = np.unique(y_test, return_counts=True)\n",
    "print('test : ',counts)"
   ]
  },
  {
   "cell_type": "markdown",
   "metadata": {
    "id": "Dp8Eg-LYvE3j"
   },
   "source": [
    "## Class Balancing `RandomOverSampling`"
   ]
  },
  {
   "cell_type": "code",
   "execution_count": null,
   "metadata": {
    "colab": {
     "base_uri": "https://localhost:8080/"
    },
    "id": "HI27M6HGyTk-",
    "outputId": "06ffa4ab-52c6-4aa9-c5d7-c34955ac4a0b"
   },
   "outputs": [
    {
     "name": "stdout",
     "output_type": "stream",
     "text": [
      "[(0, 197880), (1, 197880)]\n"
     ]
    }
   ],
   "source": [
    "X_train_cols = X_train.columns\n",
    "ros = RandomOverSampler(random_state=42)\n",
    "X_train, y_train = ros.fit_resample(X_train, y_train)\n",
    "print(sorted(Counter(y_train).items()))\n",
    "del ros\n",
    "X_train = pd.DataFrame(X_train, columns=X_train_cols)\n",
    "del X_train_cols"
   ]
  },
  {
   "cell_type": "markdown",
   "metadata": {
    "id": "12nyoZnp1uiS"
   },
   "source": [
    "## Feature Selection ` LGBMClassifier`"
   ]
  },
  {
   "cell_type": "code",
   "execution_count": null,
   "metadata": {
    "colab": {
     "base_uri": "https://localhost:8080/"
    },
    "id": "szLkaGOTPLQS",
    "outputId": "96d1dc93-c913-4e1d-d0ce-ddadacad4e40"
   },
   "outputs": [
    {
     "name": "stdout",
     "output_type": "stream",
     "text": [
      "Training until validation scores don't improve for 100 rounds.\n",
      "[200]\tvalid_0's auc: 0.767984\tvalid_0's binary_logloss: 0.591865\n",
      "[400]\tvalid_0's auc: 0.78967\tvalid_0's binary_logloss: 0.563779\n",
      "[600]\tvalid_0's auc: 0.803387\tvalid_0's binary_logloss: 0.547238\n",
      "[800]\tvalid_0's auc: 0.81327\tvalid_0's binary_logloss: 0.535493\n",
      "[1000]\tvalid_0's auc: 0.821523\tvalid_0's binary_logloss: 0.525932\n",
      "[1200]\tvalid_0's auc: 0.828747\tvalid_0's binary_logloss: 0.517732\n",
      "[1400]\tvalid_0's auc: 0.835639\tvalid_0's binary_logloss: 0.510162\n",
      "[1600]\tvalid_0's auc: 0.841987\tvalid_0's binary_logloss: 0.503159\n",
      "[1800]\tvalid_0's auc: 0.847757\tvalid_0's binary_logloss: 0.496725\n",
      "[2000]\tvalid_0's auc: 0.853185\tvalid_0's binary_logloss: 0.490621\n",
      "Did not meet early stopping. Best iteration is:\n",
      "[2000]\tvalid_0's auc: 0.853185\tvalid_0's binary_logloss: 0.490621\n"
     ]
    }
   ],
   "source": [
    "fs = lgb.LGBMClassifier(boosting_type='gbdt', max_depth=7, learning_rate=0.01, n_estimators= 2000, class_weight='balanced', subsample=0.9, colsample_bytree= 0.8, n_jobs=-1)\n",
    "train_features, valid_features, train_y, valid_y = train_test_split(X_train, y_train, test_size = 0.3, random_state = 42)\n",
    "fs.fit(train_features, train_y, early_stopping_rounds=100, eval_set = [(valid_features, valid_y)], eval_metric = 'auc', verbose = 200)\n",
    "feature_imp = pd.DataFrame(sorted(zip(fs.feature_importances_, X_train.columns)), columns=['Value','Feature'])\n",
    "features_df = feature_imp.sort_values(by=\"Value\", ascending=False)\n",
    "del fs, train_features, valid_features, train_y, valid_y"
   ]
  },
  {
   "cell_type": "code",
   "execution_count": null,
   "metadata": {
    "colab": {
     "base_uri": "https://localhost:8080/"
    },
    "id": "APjACzv8YuqC",
    "outputId": "1f48d93d-f0f5-4b6a-b955-1e15640cf9f6"
   },
   "outputs": [
    {
     "name": "stdout",
     "output_type": "stream",
     "text": [
      "X_train (395760, 79)\n",
      "X_test (92254, 79)\n"
     ]
    }
   ],
   "source": [
    "selected_features = list(features_df[features_df['Value']>=200]['Feature'])\n",
    "X_train = X_train[selected_features]\n",
    "print('X_train',X_train.shape)\n",
    "X_test = X_test[selected_features]\n",
    "print('X_test',X_test.shape)\n",
    "del selected_features, feature_imp, features_df"
   ]
  },
  {
   "cell_type": "markdown",
   "metadata": {
    "id": "TkissgfI1_PZ"
   },
   "source": [
    "## Evaluation Function"
   ]
  },
  {
   "cell_type": "code",
   "execution_count": null,
   "metadata": {
    "id": "8vOwgGscpQuc"
   },
   "outputs": [],
   "source": [
    "def eval(classifier, X_test, y_test, pred, prob):\n",
    "    print('----------------------------------------------------')\n",
    "    cm = confusion_matrix(y_test, pred, labels=[1,0])\n",
    "    print('Confusion matrix : \\n',cm)\n",
    "    print('----------------------------------------------------')\n",
    "    tn, fp, fn, tp = cm.ravel()\n",
    "    accuracy = (tp + tn)/(tp + tn + fp + fn)\n",
    "    precision = (tp / (tp + fp))\n",
    "    recall = (tp / (tp + fn))\n",
    "    f1_score = ((2 * precision * recall) / (precision + recall))\n",
    "    fpr = (fp / (fp + tn))\n",
    "    fnr = (fn / (fn + tp))\n",
    "    tnr = (tn / (tn + fp))\n",
    "    tpr = (tp / (tp + fn))\n",
    "    npv = (tn / (fn + tn))\n",
    "    fdr = (fp / (tp + fp))\n",
    "    print('Accuracy : ', round(accuracy, 3))\n",
    "    print('Error Rate : ', round((1 - accuracy), 3))\n",
    "    print('Positive Predictive Value | Precision : ', round(precision, 3))\n",
    "    print('True Positive Rate | Recall | Sensitivity : ', round(recall,3))\n",
    "    print('False Positive Rate | Type I error : ', round(fpr,3))  \n",
    "    print('False Negative Rate | Type II error : ', round(fnr,3))   \n",
    "    print('True Negative Rate | Specificity : ', round(tnr,3))\n",
    "    print('----------------------------------------------------')\n",
    "    print('f1_score : ', round(f1_score, 3))\n",
    "    print('Log Loss : ',round(log_loss(y_test, pred, eps=1e-15),3))\n",
    "    print('----------------------------------------------------')\n",
    "    print('Negative Predictive Value : ', round(npv,3))\n",
    "    print('False Discovery Rate : ', round(fdr,3))\n",
    "    print('----------------------------------------------------')\n",
    "    print('Mean Absolute Error : ',round(mean_absolute_error(y_test, pred),3)) \n",
    "    print('Mean Squared Error : ',round(mean_squared_error(y_test, pred, squared=False),3))\n",
    "    print('----------------------------------------------------')\n",
    "    #Cross Validation Score (CV=5)\n",
    "    score=cross_val_score(classifier,X_test,y_test,cv=5)\n",
    "    print('Coss Validation Score(cv = 5): ',round(score.mean(),3))\n",
    "    print('----------------------------------------------------')\n",
    "    #ROC\n",
    "    logit_roc_auc = roc_auc_score(y_test, pred)\n",
    "    fpr, tpr, thresholds = roc_curve(y_test, prob[:,1])\n",
    "    plt.figure(figsize=(6,5))\n",
    "    plt.plot(fpr, tpr, label='(area = %0.2f)' % logit_roc_auc)\n",
    "    plt.plot([0, 1], [0, 1],'r--')\n",
    "    plt.xlim([0.0, 1.0])\n",
    "    plt.ylim([0.0, 1.05])\n",
    "    plt.xlabel('False Positive Rate')\n",
    "    plt.ylabel('True Positive Rate')\n",
    "    plt.title('Receiver operating characteristic')\n",
    "    plt.legend(loc=\"lower right\")\n",
    "    plt.show()\n",
    "    print('----------------------------------------------------')"
   ]
  },
  {
   "cell_type": "markdown",
   "metadata": {
    "id": "Z1qfGgeRQab6"
   },
   "source": [
    "## Basic Models `Training` & `Evaluation`"
   ]
  },
  {
   "cell_type": "markdown",
   "metadata": {
    "id": "X7CwaaSbwdLt"
   },
   "source": [
    "#### Model 1 - `LGBMClassifier`"
   ]
  },
  {
   "cell_type": "code",
   "execution_count": null,
   "metadata": {
    "colab": {
     "base_uri": "https://localhost:8080/",
     "height": 770
    },
    "id": "m-WTfpaA-ISo",
    "outputId": "edf6d8d1-3963-455f-eb86-3214b53b83c7"
   },
   "outputs": [
    {
     "name": "stdout",
     "output_type": "stream",
     "text": [
      "----------------------------------------------------\n",
      "Confusion matrix : \n",
      " [[ 5121  2327]\n",
      " [23141 61665]]\n",
      "----------------------------------------------------\n",
      "Accuracy :  0.724\n",
      "Error Rate :  0.276\n",
      "Positive Predictive Value | Precision :  0.964\n",
      "True Positive Rate | Recall | Sensitivity :  0.727\n",
      "False Positive Rate | Type I error :  0.312\n",
      "False Negative Rate | Type II error :  0.273\n",
      "True Negative Rate | Specificity :  0.688\n",
      "----------------------------------------------------\n",
      "f1_score :  0.829\n",
      "Log Loss :  9.535\n",
      "----------------------------------------------------\n",
      "Negative Predictive Value :  0.181\n",
      "False Discovery Rate :  0.036\n",
      "----------------------------------------------------\n",
      "Mean Absolute Error :  0.276\n",
      "Mean Squared Error :  0.525\n",
      "----------------------------------------------------\n",
      "Coss Validation Score(cv = 5):  0.919\n",
      "----------------------------------------------------\n"
     ]
    },
    {
     "data": {
      "image/png": "[encoded data removed]",
      "text/plain": [
       "<Figure size 432x360 with 1 Axes>"
      ]
     },
     "metadata": {
      "needs_background": "light",
      "tags": []
     },
     "output_type": "display_data"
    },
    {
     "name": "stdout",
     "output_type": "stream",
     "text": [
      "----------------------------------------------------\n"
     ]
    }
   ],
   "source": [
    "lgbm =  lgb.LGBMClassifier(random_state=42, n_jobs=-1)\n",
    "lgbm.fit(X_train,y_train);\n",
    "lgbm_pred = lgbm.predict(X_test)\n",
    "lgbm_prob = lgbm.predict_proba(X_test)\n",
    "eval(lgbm, X_test, y_test, lgbm_pred, lgbm_prob)"
   ]
  },
  {
   "cell_type": "markdown",
   "metadata": {
    "id": "2aKbHfO-2IYp"
   },
   "source": [
    "#### Model 2 - `RandomForestClassifier`"
   ]
  },
  {
   "cell_type": "code",
   "execution_count": null,
   "metadata": {
    "colab": {
     "base_uri": "https://localhost:8080/"
    },
    "id": "D95aLw1cWlct",
    "outputId": "799b9d9d-bd80-4ba0-8dfa-a3c0f8045195"
   },
   "outputs": [
    {
     "name": "stdout",
     "output_type": "stream",
     "text": [
      "----------------------------------------------------\n",
      "Confusion matrix : \n",
      " [[  142  7306]\n",
      " [  165 84641]]\n",
      "----------------------------------------------------\n",
      "Accuracy :  0.919\n",
      "Error Rate :  0.081\n",
      "Positive Predictive Value | Precision :  0.921\n",
      "True Positive Rate | Recall | Sensitivity :  0.998\n",
      "False Positive Rate | Type I error :  0.981\n",
      "False Negative Rate | Type II error :  0.002\n",
      "True Negative Rate | Specificity :  0.019\n",
      "----------------------------------------------------\n",
      "f1_score :  0.958\n",
      "Log Loss :  2.797\n",
      "----------------------------------------------------\n",
      "Negative Predictive Value :  0.463\n",
      "False Discovery Rate :  0.079\n",
      "----------------------------------------------------\n",
      "Mean Absolute Error :  0.081\n",
      "Mean Squared Error :  0.285\n",
      "----------------------------------------------------\n",
      "Coss Validation Score(cv = 5):  0.919\n",
      "----------------------------------------------------\n"
     ]
    },
    {
     "data": {
      "image/png": "[encoded data removed]",
      "text/plain": [
       "<Figure size 432x360 with 1 Axes>"
      ]
     },
     "metadata": {
      "needs_background": "light",
      "tags": []
     },
     "output_type": "display_data"
    },
    {
     "name": "stdout",
     "output_type": "stream",
     "text": [
      "----------------------------------------------------\n"
     ]
    }
   ],
   "source": [
    "rf = RandomForestClassifier(random_state=42, n_jobs=-1)\n",
    "rf.fit(X_train, y_train)\n",
    "rf_pred = rf.predict(X_test)\n",
    "rf_prob = rf.predict_proba(X_test)\n",
    "eval(rf, X_test, y_test, rf_pred, rf_prob)"
   ]
  },
  {
   "cell_type": "markdown",
   "metadata": {
    "id": "j1orQjIqiyzJ"
   },
   "source": [
    "## Tunned Models"
   ]
  },
  {
   "cell_type": "markdown",
   "metadata": {
    "id": "z5AeFQRfxg8D"
   },
   "source": [
    "#### Tunned Model 1 - `LGBMClassifier`"
   ]
  },
  {
   "cell_type": "code",
   "execution_count": null,
   "metadata": {
    "colab": {
     "base_uri": "https://localhost:8080/",
     "height": 770
    },
    "id": "38MYfjq_wjXD",
    "outputId": "b9c5a830-6148-4062-f531-37615a2ef1a6"
   },
   "outputs": [
    {
     "name": "stdout",
     "output_type": "stream",
     "text": [
      "----------------------------------------------------\n",
      "Confusion matrix : \n",
      " [[ 5106  2342]\n",
      " [23305 61501]]\n",
      "----------------------------------------------------\n",
      "Accuracy :  0.722\n",
      "Error Rate :  0.278\n",
      "Positive Predictive Value | Precision :  0.963\n",
      "True Positive Rate | Recall | Sensitivity :  0.725\n",
      "False Positive Rate | Type I error :  0.314\n",
      "False Negative Rate | Type II error :  0.275\n",
      "True Negative Rate | Specificity :  0.686\n",
      "----------------------------------------------------\n",
      "f1_score :  0.827\n",
      "Log Loss :  9.602\n",
      "----------------------------------------------------\n",
      "Negative Predictive Value :  0.18\n",
      "False Discovery Rate :  0.037\n",
      "----------------------------------------------------\n",
      "Mean Absolute Error :  0.278\n",
      "Mean Squared Error :  0.527\n",
      "----------------------------------------------------\n",
      "Coss Validation Score(cv = 5):  0.919\n",
      "----------------------------------------------------\n"
     ]
    },
    {
     "data": {
      "image/png": "[encoded data removed]",
      "text/plain": [
       "<Figure size 432x360 with 1 Axes>"
      ]
     },
     "metadata": {
      "needs_background": "light",
      "tags": []
     },
     "output_type": "display_data"
    },
    {
     "name": "stdout",
     "output_type": "stream",
     "text": [
      "----------------------------------------------------\n"
     ]
    }
   ],
   "source": [
    "lgbm_tunned = lgb.LGBMClassifier(learning_rate=0.10, max_depth=10, min_child_weight=5, gamma=0.3, colsample_bytree=0.5, class_weight='balanced', random_state=42, n_jobs=-1)\n",
    "lgbm_tunned.fit(X_train,y_train);\n",
    "lgbm_tunned_pred = lgbm_tunned.predict(X_test)\n",
    "lgbm_tunned_prob = lgbm_tunned.predict_proba(X_test)\n",
    "eval(xgb_tunned, X_test, y_test, lgbm_tunned_pred, lgbm_tunned_prob)"
   ]
  },
  {
   "cell_type": "markdown",
   "metadata": {
    "id": "0df4bvivxpCG"
   },
   "source": [
    "#### Tunned Model 2 - `RandomForestClassifier`"
   ]
  },
  {
   "cell_type": "code",
   "execution_count": null,
   "metadata": {
    "colab": {
     "base_uri": "https://localhost:8080/"
    },
    "id": "YOe95yDaQg0p",
    "outputId": "cbc5dc93-5dfe-4549-bbe7-000ee0d53fc2"
   },
   "outputs": [
    {
     "name": "stdout",
     "output_type": "stream",
     "text": [
      "----------------------------------------------------\n",
      "Confusion matrix : \n",
      " [[ 4660  2788]\n",
      " [21505 63301]]\n",
      "----------------------------------------------------\n",
      "Accuracy :  0.737\n",
      "Error Rate :  0.263\n",
      "Positive Predictive Value | Precision :  0.958\n",
      "True Positive Rate | Recall | Sensitivity :  0.746\n",
      "False Positive Rate | Type I error :  0.374\n",
      "False Negative Rate | Type II error :  0.254\n",
      "True Negative Rate | Specificity :  0.626\n",
      "----------------------------------------------------\n",
      "f1_score :  0.839\n",
      "Log Loss :  9.095\n",
      "----------------------------------------------------\n",
      "Negative Predictive Value :  0.178\n",
      "False Discovery Rate :  0.042\n",
      "----------------------------------------------------\n",
      "Mean Absolute Error :  0.263\n",
      "Mean Squared Error :  0.513\n",
      "----------------------------------------------------\n",
      "Coss Validation Score(cv = 5):  0.812\n",
      "----------------------------------------------------\n"
     ]
    },
    {
     "data": {
      "image/png": "[encoded data removed]",
      "text/plain": [
       "<Figure size 432x360 with 1 Axes>"
      ]
     },
     "metadata": {
      "needs_background": "light",
      "tags": []
     },
     "output_type": "display_data"
    },
    {
     "name": "stdout",
     "output_type": "stream",
     "text": [
      "----------------------------------------------------\n"
     ]
    }
   ],
   "source": [
    "rf_tunned = RandomForestClassifier(bootstrap=True, criterion='gini', max_depth=10, max_features=10, min_samples_leaf=8, min_samples_split=15, n_estimators=200, class_weight='balanced', random_state=42, n_jobs=-1)\n",
    "rf_tunned.fit(X_train,y_train);\n",
    "rf_tunned_pred = rf_tunned.predict(X_test)\n",
    "rf_tunned_prob = rf_tunned.predict_proba(X_test)\n",
    "eval(rf_tunned, X_test, y_test, rf_tunned_pred, rf_tunned_prob)"
   ]
  },
  {
   "cell_type": "markdown",
   "metadata": {
    "id": "SnTrxK11r4nQ"
   },
   "source": [
    "## Evaluation Change `Tunned - Base`"
   ]
  },
  {
   "cell_type": "markdown",
   "metadata": {
    "id": "O0e8v-OCwte_"
   },
   "source": [
    "#### Function"
   ]
  },
  {
   "cell_type": "code",
   "execution_count": null,
   "metadata": {
    "id": "vincumGtr_7c"
   },
   "outputs": [],
   "source": [
    "def Change_eval(base, tunned, X_test, y_test, pred, prob, tunned_pred, tunned_prob):\n",
    "    #base\n",
    "    base_cm = confusion_matrix(y_test, pred, labels=[1,0])\n",
    "    base_tn, base_fp, base_fn, base_tp = base_cm.ravel()\n",
    "    base_accuracy = (base_tp + base_tn)/(base_tp + base_tn + base_fp + base_fn)\n",
    "    base_precision = (base_tp / (base_tp + base_fp))\n",
    "    base_recall = (base_tp / (base_tp + base_fn))\n",
    "    base_f1_score = ((2 * base_precision * base_recall) / (base_precision + base_recall))\n",
    "    base_log_loss = log_loss(y_test, pred, eps=1e-15)\n",
    "    base_mae = mean_absolute_error(y_test, pred)\n",
    "    base_mse = mean_squared_error(y_test, pred, squared=False)\n",
    "    base_fpr = (base_fp / (base_fp + base_tn))\n",
    "    base_fnr = (base_fn / (base_fn + base_tp))\n",
    "    base_tnr = (base_tn / (base_tn + base_fp))\n",
    "    base_tpr = (base_tp / (base_tp + base_fn))\n",
    "    base_npv = (base_tn / (base_fn + base_tn))\n",
    "    base_fdr = (base_fp / (base_tp + base_fp))\n",
    "    #tunned\n",
    "    tunned_cm = confusion_matrix(y_test, tunned_pred, labels=[1,0])\n",
    "    tunned_tn, tunned_fp, tunned_fn, tunned_tp = tunned_cm.ravel()\n",
    "    tunned_accuracy = (tunned_tp + tunned_tn)/(tunned_tp + tunned_tn + tunned_fp + tunned_fn)\n",
    "    tunned_precision = (tunned_tp / (tunned_tp + tunned_fp))\n",
    "    tunned_recall = (tunned_tp / (tunned_tp + tunned_fn))\n",
    "    tunned_f1_score = ((2 * tunned_precision * tunned_recall) / (tunned_precision + tunned_recall))\n",
    "    tunned_log_loss = log_loss(y_test, tunned_pred, eps=1e-15)\n",
    "    tunned_mae = mean_absolute_error(y_test, tunned_pred)\n",
    "    tunned_mse = mean_squared_error(y_test, tunned_pred, squared=False)\n",
    "    tunned_fpr = (tunned_fp / (tunned_fp + tunned_tn))\n",
    "    tunned_fnr = (tunned_fn / (tunned_fn + tunned_tp))\n",
    "    tunned_tnr = (tunned_tn / (tunned_tn + tunned_fp))\n",
    "    tunned_tpr = (tunned_tp / (tunned_tp + tunned_fn))\n",
    "    tunned_npv = (tunned_tn / (tunned_fn + tunned_tn))\n",
    "    tunned_fdr = (tunned_fp / (tunned_tp + tunned_fp))\n",
    "    #change\n",
    "    print('----------------------------------------------------')\n",
    "    print('Accuracy Change : ', round(tunned_accuracy - base_accuracy, 3))\n",
    "    print('----------------------------------------------------')\n",
    "    print('Error Rate Change : ', round((1 - (tunned_accuracy - base_accuracy)), 3))\n",
    "    print('----------------------------------------------------')\n",
    "    print('Positive Predictive Value | Precision Change : ', round(tunned_precision - base_precision, 3))\n",
    "    print('----------------------------------------------------')\n",
    "    print('True Positive Rate | Recall | Sensitivity Change : ', round(tunned_recall - base_recall,3))\n",
    "    print('----------------------------------------------------')\n",
    "    print('False Positive Rate | Type I error Change : ', round(tunned_fpr - base_fpr,3))  \n",
    "    print('----------------------------------------------------')\n",
    "    print('False Negative Rate | Type II error Change : ', round(tunned_fnr - base_fnr,3))   \n",
    "    print('----------------------------------------------------')\n",
    "    print('True Negative Rate | Specificity Change : ', round(tunned_tnr - base_tnr,3))\n",
    "    print('----------------------------------------------------')\n",
    "    print('f1_score Change : ', round(tunned_f1_score - base_f1_score, 3))\n",
    "    print('----------------------------------------------------')\n",
    "    print('Log Loss Change : ',round(tunned_log_loss - base_log_loss,3))\n",
    "    print('----------------------------------------------------')\n",
    "    print('Negative Predictive Value Change : ', round(tunned_npv - base_npv,3))\n",
    "    print('----------------------------------------------------')\n",
    "    print('False Discovery Rate Change : ', round(tunned_fdr - base_fdr,3))\n",
    "    print('----------------------------------------------------')\n",
    "    print('Mean Absolute Error Change : ',round(tunned_mae - base_mae,3)) \n",
    "    print('----------------------------------------------------')\n",
    "    print('Mean Squared Error Change : ',round(tunned_mse - base_mse,3))\n",
    "    print('----------------------------------------------------')\n",
    "    base_score=cross_val_score(base,X_test,y_test,cv=5)\n",
    "    tunned_score=cross_val_score(tunned,X_test,y_test,cv=5)\n",
    "    print('Coss Validation Score(cv = 5) Change : ',round(((tunned_score.mean()) - (base_score.mean())),3))\n",
    "    print('----------------------------------------------------')"
   ]
  },
  {
   "cell_type": "markdown",
   "metadata": {
    "id": "2HheHUXEwxgk"
   },
   "source": [
    "### Evaluation Change"
   ]
  },
  {
   "cell_type": "markdown",
   "metadata": {
    "id": "NUR4l-3C55tL"
   },
   "source": [
    "#### RandomForestClassifier"
   ]
  },
  {
   "cell_type": "code",
   "execution_count": null,
   "metadata": {
    "colab": {
     "base_uri": "https://localhost:8080/"
    },
    "id": "-n0XLxz_w0TG",
    "outputId": "2776f6c3-369e-4f8a-a683-06ab48e2e7f5"
   },
   "outputs": [
    {
     "name": "stdout",
     "output_type": "stream",
     "text": [
      "----------------------------------------------------\n",
      "Accuracy Change :  -0.182\n",
      "----------------------------------------------------\n",
      "Error Rate Change :  1.182\n",
      "----------------------------------------------------\n",
      "Positive Predictive Value | Precision Change :  0.037\n",
      "----------------------------------------------------\n",
      "True Positive Rate | Recall | Sensitivity Change :  -0.252\n",
      "----------------------------------------------------\n",
      "False Positive Rate | Type I error Change :  -0.607\n",
      "----------------------------------------------------\n",
      "False Negative Rate | Type II error Change :  0.252\n",
      "----------------------------------------------------\n",
      "True Negative Rate | Specificity Change :  0.607\n",
      "----------------------------------------------------\n",
      "f1_score Change :  -0.119\n",
      "----------------------------------------------------\n",
      "Log Loss Change :  6.298\n",
      "----------------------------------------------------\n",
      "Negative Predictive Value Change :  -0.284\n",
      "----------------------------------------------------\n",
      "False Discovery Rate Change :  -0.037\n",
      "----------------------------------------------------\n",
      "Mean Absolute Error Change :  0.182\n",
      "----------------------------------------------------\n",
      "Mean Squared Error Change :  0.229\n",
      "----------------------------------------------------\n",
      "Coss Validation Score(cv = 5) Change :  -0.108\n",
      "----------------------------------------------------\n"
     ]
    }
   ],
   "source": [
    "Change_eval(base = rf, tunned = rf_tunned, X_test = X_test, y_test = y_test, pred = rf_pred, prob = rf_prob, tunned_pred = rf_tunned_pred, tunned_prob = rf_tunned_prob)"
   ]
  },
  {
   "cell_type": "markdown",
   "metadata": {
    "id": "YXtNPsnb6Ed7"
   },
   "source": [
    "#### LGBMClassifier"
   ]
  },
  {
   "cell_type": "code",
   "execution_count": null,
   "metadata": {
    "colab": {
     "base_uri": "https://localhost:8080/"
    },
    "id": "6111UUMmxct_",
    "outputId": "4cea7899-dc27-4d8b-dd51-340e20dba364"
   },
   "outputs": [
    {
     "name": "stdout",
     "output_type": "stream",
     "text": [
      "----------------------------------------------------\n",
      "Accuracy Change :  -0.002\n",
      "----------------------------------------------------\n",
      "Error Rate Change :  1.002\n",
      "----------------------------------------------------\n",
      "Positive Predictive Value | Precision Change :  -0.0\n",
      "----------------------------------------------------\n",
      "True Positive Rate | Recall | Sensitivity Change :  -0.002\n",
      "----------------------------------------------------\n",
      "False Positive Rate | Type I error Change :  0.002\n",
      "----------------------------------------------------\n",
      "False Negative Rate | Type II error Change :  0.002\n",
      "----------------------------------------------------\n",
      "True Negative Rate | Specificity Change :  -0.002\n",
      "----------------------------------------------------\n",
      "f1_score Change :  -0.001\n",
      "----------------------------------------------------\n",
      "Log Loss Change :  0.067\n",
      "----------------------------------------------------\n",
      "Negative Predictive Value Change :  -0.001\n",
      "----------------------------------------------------\n",
      "False Discovery Rate Change :  0.0\n",
      "----------------------------------------------------\n",
      "Mean Absolute Error Change :  0.002\n",
      "----------------------------------------------------\n",
      "Mean Squared Error Change :  0.002\n",
      "----------------------------------------------------\n",
      "Coss Validation Score(cv = 5) Change :  -0.169\n",
      "----------------------------------------------------\n"
     ]
    }
   ],
   "source": [
    "Change_eval(base = lgbm, tunned = lgbm_tunned, X_test = X_test, y_test = y_test, pred = lgbm_pred, prob = lgbm_prob, tunned_pred = lgbm_tunned_pred, tunned_prob = lgbm_tunned_prob)"
   ]
  }
 ],
 "metadata": {
  "colab": {
   "collapsed_sections": [
    "6dhWi2F5gFrU",
    "UXU0_Xx31Mv2",
    "p0kn8PQnhAIx",
    "cUSnfPp_1VVd",
    "UE7tSQ2B1YaL",
    "JiVWuhPkFGQX",
    "snxQXBpNJpsm",
    "FUwwtz2D1jwz",
    "Dp8Eg-LYvE3j",
    "12nyoZnp1uiS",
    "TkissgfI1_PZ",
    "Z1qfGgeRQab6",
    "X7CwaaSbwdLt",
    "2aKbHfO-2IYp",
    "j1orQjIqiyzJ",
    "z5AeFQRfxg8D",
    "0df4bvivxpCG",
    "SnTrxK11r4nQ",
    "O0e8v-OCwte_",
    "NUR4l-3C55tL",
    "YXtNPsnb6Ed7"
   ],
   "name": "ml-course-project.ipynb",
   "provenance": []
  },
  "language_info": {
   "codemirror_mode": {
    "name": "ipython",
    "version": 3
   },
   "file_extension": ".py",
   "mimetype": "text/x-python",
   "name": "python",
   "nbconvert_exporter": "python",
   "pygments_lexer": "ipython3",
   "version": "3.7.6"
  }
 },
 "nbformat": 4,
 "nbformat_minor": 0
}